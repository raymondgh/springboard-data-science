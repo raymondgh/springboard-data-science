{
 "cells": [
  {
   "cell_type": "markdown",
   "metadata": {},
   "source": [
    "# What is the True Normal Human Body Temperature? \n",
    "\n",
    "#### Background\n",
    "\n",
    "The mean normal body temperature was held to be 37$^{\\circ}$C or 98.6$^{\\circ}$F for more than 120 years since it was first conceptualized and reported by Carl Wunderlich in a famous 1868 book. But, is this value statistically correct?"
   ]
  },
  {
   "cell_type": "markdown",
   "metadata": {},
   "source": [
    "<h3>Exercises</h3>\n",
    "\n",
    "<p>In this exercise, you will analyze a dataset of human body temperatures and employ the concepts of hypothesis testing, confidence intervals, and statistical significance.</p>\n",
    "\n",
    "<p>Answer the following questions <b>in this notebook below and submit to your Github account</b>.</p> \n",
    "\n",
    "<ol>\n",
    "<li>  Is the distribution of body temperatures normal? \n",
    "    <ul>\n",
    "    <li> Although this is not a requirement for CLT to hold (read CLT carefully), it gives us some peace of mind that the population may also be normally distributed if we assume that this sample is representative of the population.\n",
    "    </ul>\n",
    "<li>  Is the sample size large? Are the observations independent?\n",
    "    <ul>\n",
    "    <li> Remember that this is a condition for the CLT, and hence the statistical tests we are using, to apply.\n",
    "    </ul>\n",
    "<li>  Is the true population mean really 98.6 degrees F?\n",
    "    <ul>\n",
    "    <li> Would you use a one-sample or two-sample test? Why?\n",
    "    <li> In this situation, is it appropriate to use the $t$ or $z$ statistic? \n",
    "    <li> Now try using the other test. How is the result be different? Why?\n",
    "    </ul>\n",
    "<li>  Draw a small sample of size 10 from the data and repeat both tests. \n",
    "    <ul>\n",
    "    <li> Which one is the correct one to use? \n",
    "    <li> What do you notice? What does this tell you about the difference in application of the $t$ and $z$ statistic?\n",
    "    </ul>\n",
    "<li>  At what temperature should we consider someone's temperature to be \"abnormal\"?\n",
    "    <ul>\n",
    "    <li> Start by computing the margin of error and confidence interval.\n",
    "    </ul>\n",
    "<li>  Is there a significant difference between males and females in normal temperature?\n",
    "    <ul>\n",
    "    <li> What test did you use and why?\n",
    "    <li> Write a story with your conclusion in the context of the original problem.\n",
    "    </ul>\n",
    "</ol>\n",
    "\n",
    "You can include written notes in notebook cells using Markdown: \n",
    "   - In the control panel at the top, choose Cell > Cell Type > Markdown\n",
    "   - Markdown syntax: http://nestacms.com/docs/creating-content/markdown-cheat-sheet\n",
    "\n",
    "#### Resources\n",
    "\n",
    "+ Information and data sources: http://www.amstat.org/publications/jse/datasets/normtemp.txt, http://www.amstat.org/publications/jse/jse_data_archive.htm\n",
    "+ Markdown syntax: http://nestacms.com/docs/creating-content/markdown-cheat-sheet\n",
    "\n",
    "****"
   ]
  },
  {
   "cell_type": "code",
   "execution_count": 2,
   "metadata": {
    "collapsed": true
   },
   "outputs": [],
   "source": [
    "import pandas as pd\n",
    "import numpy as np\n",
    "import seaborn as sns\n",
    "import matplotlib.pyplot as plt\n",
    "from scipy import stats\n",
    "\n",
    "df = pd.read_csv('data/human_body_temperature.csv')"
   ]
  },
  {
   "cell_type": "code",
   "execution_count": 3,
   "metadata": {},
   "outputs": [
    {
     "data": {
      "text/html": [
       "<div>\n",
       "<style>\n",
       "    .dataframe thead tr:only-child th {\n",
       "        text-align: right;\n",
       "    }\n",
       "\n",
       "    .dataframe thead th {\n",
       "        text-align: left;\n",
       "    }\n",
       "\n",
       "    .dataframe tbody tr th {\n",
       "        vertical-align: top;\n",
       "    }\n",
       "</style>\n",
       "<table border=\"1\" class=\"dataframe\">\n",
       "  <thead>\n",
       "    <tr style=\"text-align: right;\">\n",
       "      <th></th>\n",
       "      <th>temperature</th>\n",
       "      <th>heart_rate</th>\n",
       "    </tr>\n",
       "  </thead>\n",
       "  <tbody>\n",
       "    <tr>\n",
       "      <th>count</th>\n",
       "      <td>130.000000</td>\n",
       "      <td>130.000000</td>\n",
       "    </tr>\n",
       "    <tr>\n",
       "      <th>mean</th>\n",
       "      <td>98.249231</td>\n",
       "      <td>73.761538</td>\n",
       "    </tr>\n",
       "    <tr>\n",
       "      <th>std</th>\n",
       "      <td>0.733183</td>\n",
       "      <td>7.062077</td>\n",
       "    </tr>\n",
       "    <tr>\n",
       "      <th>min</th>\n",
       "      <td>96.300000</td>\n",
       "      <td>57.000000</td>\n",
       "    </tr>\n",
       "    <tr>\n",
       "      <th>25%</th>\n",
       "      <td>97.800000</td>\n",
       "      <td>69.000000</td>\n",
       "    </tr>\n",
       "    <tr>\n",
       "      <th>50%</th>\n",
       "      <td>98.300000</td>\n",
       "      <td>74.000000</td>\n",
       "    </tr>\n",
       "    <tr>\n",
       "      <th>75%</th>\n",
       "      <td>98.700000</td>\n",
       "      <td>79.000000</td>\n",
       "    </tr>\n",
       "    <tr>\n",
       "      <th>max</th>\n",
       "      <td>100.800000</td>\n",
       "      <td>89.000000</td>\n",
       "    </tr>\n",
       "  </tbody>\n",
       "</table>\n",
       "</div>"
      ],
      "text/plain": [
       "       temperature  heart_rate\n",
       "count   130.000000  130.000000\n",
       "mean     98.249231   73.761538\n",
       "std       0.733183    7.062077\n",
       "min      96.300000   57.000000\n",
       "25%      97.800000   69.000000\n",
       "50%      98.300000   74.000000\n",
       "75%      98.700000   79.000000\n",
       "max     100.800000   89.000000"
      ]
     },
     "execution_count": 3,
     "metadata": {},
     "output_type": "execute_result"
    }
   ],
   "source": [
    "df.describe()"
   ]
  },
  {
   "cell_type": "code",
   "execution_count": 4,
   "metadata": {
    "collapsed": true
   },
   "outputs": [],
   "source": [
    "mean = np.mean(df[\"temperature\"])\n",
    "std = np.std(df[\"temperature\"])\n",
    "n = len(df[\"temperature\"].dropna())"
   ]
  },
  {
   "cell_type": "code",
   "execution_count": 5,
   "metadata": {
    "collapsed": true
   },
   "outputs": [],
   "source": [
    "samples = np.random.normal(mean, std, size=10000)"
   ]
  },
  {
   "cell_type": "code",
   "execution_count": 6,
   "metadata": {
    "collapsed": true
   },
   "outputs": [],
   "source": [
    "def ecdf(data):\n",
    "    \"\"\"Compute ECDF for a one-dimensional array of measurements.\"\"\"\n",
    "\n",
    "    # Number of data points: n\n",
    "    n = len(data)\n",
    "\n",
    "    # x-data for the ECDF: x\n",
    "    x = np.sort(data)\n",
    "\n",
    "    # y-data for the ECDF: y\n",
    "    y = np.arange(1, n+1) / n\n",
    "\n",
    "    return x, y"
   ]
  },
  {
   "cell_type": "code",
   "execution_count": 7,
   "metadata": {
    "collapsed": true
   },
   "outputs": [],
   "source": [
    "x, y = ecdf(df[\"temperature\"])\n",
    "x_theor, y_theor = ecdf(samples)"
   ]
  },
  {
   "cell_type": "code",
   "execution_count": 9,
   "metadata": {},
   "outputs": [
    {
     "data": {
      "image/png": "[encoded data removed]",
      "text/plain": [
       "<matplotlib.figure.Figure at 0x2b28e7a6a90>"
      ]
     },
     "metadata": {},
     "output_type": "display_data"
    }
   ],
   "source": [
    "sns.distplot(df[\"temperature\"])\n",
    "plt.show()"
   ]
  },
  {
   "cell_type": "code",
   "execution_count": 7,
   "metadata": {},
   "outputs": [
    {
     "data": {
      "image/png": "[encoded data removed]",
      "text/plain": [
       "<matplotlib.figure.Figure at 0x224f9e30710>"
      ]
     },
     "metadata": {},
     "output_type": "display_data"
    }
   ],
   "source": [
    "sns.set()\n",
    "_ = plt.plot(x_theor, y_theor)\n",
    "_ = plt.plot(x, y, marker=\".\", linestyle=\"none\")\n",
    "_ = plt.xlabel(\"body temperature (f)\")\n",
    "_ = plt.ylabel(\"CDF\")\n",
    "_ = plt.legend(('Normal Distribution', 'Empirical Data'), loc='lower right')\n",
    "plt.show()"
   ]
  },
  {
   "cell_type": "code",
   "execution_count": 8,
   "metadata": {},
   "outputs": [
    {
     "data": {
      "text/plain": [
       "NormaltestResult(statistic=2.7038014333192031, pvalue=0.2587479863488254)"
      ]
     },
     "execution_count": 8,
     "metadata": {},
     "output_type": "execute_result"
    }
   ],
   "source": [
    "stats.normaltest(df[\"temperature\"])"
   ]
  },
  {
   "cell_type": "markdown",
   "metadata": {},
   "source": [
    "## 1. Is the distribution of body temperatures normal? \n",
    "\n",
    "The normal CDF overlaid with the data CDF shows promise that the data may be normally distributed. It's very close to the curve, but there are some spots with visible variance. A null hypothesis asserts that the temperature data is distributed normally. SciPy's handy normaltest function, produces a p-value of 0.2587, far too high to reject the null hypothesis that the data conforms to a normal distribution. The temperature data therefore is normally distributed.\n",
    "\n",
    "## 2. Is the sample size large? Are the observations independent? \n",
    "\n",
    "As far as the Central Limit Theorem is concerned, the sample size of 130 observations is sufficiently large, as it is above the commonly espoused minimum of 30 samples. The observations can be declared indepedent as well, because one person's temperature does not affect another's. The data is naturally unordered.\n",
    "\n",
    "## 3. Is the true population mean really 98.6 degrees F?\n",
    "\n",
    "Since the sample data not being compared to another group, a one-sample test can be used. The data is assumed to follow the normal distribution. That condition, plus the large sample size (> 30 observations) allow the preferable Z-Test.\n",
    "\n",
    "Null Hypothesis: The true population mean is equal to the conventional mean 98.6 F\n",
    "\n",
    "Alternative hypothesis: The true population mean is not equal to the conventional mean 98.6 F\n",
    "\n",
    "For this test, a 95% confidence level will be used"
   ]
  },
  {
   "cell_type": "code",
   "execution_count": 9,
   "metadata": {},
   "outputs": [
    {
     "name": "stdout",
     "output_type": "stream",
     "text": [
      "The 95% confidence interval is (98.123682111456645, 98.37477942700491)\n"
     ]
    }
   ],
   "source": [
    "# z_critical value for normal distribution given a two-tailed error\n",
    "# the z-critical value for 95% confidence is commonly represented as 1.96 as per textbook lookup tables\n",
    "z_critical = stats.norm.ppf(q = 0.975)\n",
    "\n",
    "# sigma represents the population standard deviation for which we use the sample standard deviation\n",
    "sigma = std\n",
    "\n",
    "# margin of error for the sample mean is computed as such\n",
    "moe = z_critical * sigma / np.sqrt(n)\n",
    "\n",
    "# show the 95% confidence interval\n",
    "ci = (mean - moe, mean + moe)\n",
    "\n",
    "print(\"The 95% confidence interval is\", ci)"
   ]
  },
  {
   "cell_type": "markdown",
   "metadata": {},
   "source": [
    "Since the given population mean of 98.6 is not found within the 95% confidence interval, the null hypothesis is rejected.\n",
    "\n",
    "A T-Test could be arguably more relevant, as it doesn't assume the population standard deviation is the same as the sample's. The same hypothesis and confidence requirement will be used."
   ]
  },
  {
   "cell_type": "code",
   "execution_count": 10,
   "metadata": {},
   "outputs": [
    {
     "data": {
      "text/plain": [
       "Ttest_1sampResult(statistic=-5.4548232923645195, pvalue=2.4106320415561276e-07)"
      ]
     },
     "execution_count": 10,
     "metadata": {},
     "output_type": "execute_result"
    }
   ],
   "source": [
    "stats.ttest_1samp(df[\"temperature\"], 98.6)"
   ]
  },
  {
   "cell_type": "code",
   "execution_count": 11,
   "metadata": {},
   "outputs": [
    {
     "name": "stdout",
     "output_type": "stream",
     "text": [
      "t_test_statistic: -5.45482329236\n",
      "pvalue: 2.41063204156e-07\n",
      "test_stat2: -1.97852449146\n",
      "test_stat2: 1.97852449146\n",
      "pvalue2: 2.41063204156e-07\n"
     ]
    }
   ],
   "source": [
    "# this t value shows how much the sample differs from the null hypothesis\n",
    "t_test_statistic = stats.ttest_1samp(df[\"temperature\"], 98.6).statistic\n",
    "pvalue           = stats.ttest_1samp(df[\"temperature\"], 98.6).pvalue\n",
    "\n",
    "print(\"t_test_statistic:\", t_test_statistic)\n",
    "print(\"pvalue:\", pvalue)\n",
    "\n",
    "# next, check the quantiles of the t-distribution of the with 95% confidence\n",
    "test_stat1 = stats.t.ppf(.025, n-1)\n",
    "print(\"test_stat2:\", test_stat1)\n",
    "\n",
    "test_stat2 = stats.t.ppf(.975, n-1)\n",
    "print(\"test_stat2:\", test_stat2)\n",
    "\n",
    "# now check the probability of the sample's occurrance given that the null hypothesis is true\n",
    "pvalue2 = stats.t.cdf(t_test_statistic, n-1) * 2\n",
    "\n",
    "print(\"pvalue2:\", pvalue2)"
   ]
  },
  {
   "cell_type": "markdown",
   "metadata": {},
   "source": [
    "A p-value of 2.41e-07 means that observing data as extreme as the sample would happen about 0.0000241% of the time if the null hypothesis were true. In this case, the p-value is much lower than the significance level of 0.05, so the null hypothesis is rejected, as intuitively expected.\n",
    "\n",
    "A T-distribution is similar to a normal distribution, but varies by sample size. As sample size increases, the curve narrows, approaching the normal curve. With a sample of 130 observations, the curve is still wider, producing a larger critical value and wider confidence interval, shown below."
   ]
  },
  {
   "cell_type": "code",
   "execution_count": 12,
   "metadata": {},
   "outputs": [
    {
     "data": {
      "text/plain": [
       "(98.12249318821641, 98.375968350245145)"
      ]
     },
     "execution_count": 12,
     "metadata": {},
     "output_type": "execute_result"
    }
   ],
   "source": [
    "stats.t.interval(alpha=.95, df=n-1, loc=mean, scale=std / np.sqrt(n))"
   ]
  },
  {
   "cell_type": "markdown",
   "metadata": {},
   "source": [
    "## 4. Draw a small sample of size 10 from the data and repeat both tests.\n",
    "\n",
    "Small Sample"
   ]
  },
  {
   "cell_type": "code",
   "execution_count": 13,
   "metadata": {},
   "outputs": [
    {
     "name": "stdout",
     "output_type": "stream",
     "text": [
      "[ 98.9  97.9  97.7  97.9  97.9  97.6  99.   98.8  97.8  99. ]\n"
     ]
    }
   ],
   "source": [
    "# drawing a small sample of size 10\n",
    "small_n = 10\n",
    "small = np.random.choice(df[\"temperature\"], small_n)\n",
    "small_mean = np.mean(small)\n",
    "small_std = np.std(small)\n",
    "print(small)"
   ]
  },
  {
   "cell_type": "markdown",
   "metadata": {},
   "source": [
    "Z-Test"
   ]
  },
  {
   "cell_type": "code",
   "execution_count": 14,
   "metadata": {},
   "outputs": [
    {
     "name": "stdout",
     "output_type": "stream",
     "text": [
      "The 95% confidence interval is (97.902417089155946, 98.597582910844054)\n"
     ]
    }
   ],
   "source": [
    "# z_critical value for normal distribution given a two-tailed error\n",
    "# the z-critical value for 95% confidence is commonly represented as 1.96 as per textbook lookup tables\n",
    "small_z_critical = stats.norm.ppf(q = 0.975)\n",
    "\n",
    "# sigma represents the population standard deviation for which we use the sample standard deviation\n",
    "small_sigma = small_std\n",
    "\n",
    "# margin of error for the sample mean is computed as such\n",
    "small_moe = small_z_critical * small_sigma / np.sqrt(small_n)\n",
    "\n",
    "# show the 95% confidence interval\n",
    "small_ci = (small_mean - small_moe, small_mean + small_moe)\n",
    "\n",
    "print(\"The 95% confidence interval is\", small_ci)"
   ]
  },
  {
   "cell_type": "markdown",
   "metadata": {},
   "source": [
    "T-Test"
   ]
  },
  {
   "cell_type": "code",
   "execution_count": 15,
   "metadata": {
    "scrolled": true
   },
   "outputs": [
    {
     "name": "stdout",
     "output_type": "stream",
     "text": [
      "t_test_statistic: -5.45482329236\n",
      "pvalue: 2.41063204156e-07\n",
      "test_stat2: -2.26215716274\n",
      "test_stat2: 2.26215716274\n",
      "pvalue2: 0.000403129999163\n"
     ]
    }
   ],
   "source": [
    "# this t value shows how much the sample differs from the null hypothesis\n",
    "small_t_test_statistic = stats.ttest_1samp(df[\"temperature\"], 98.6).statistic\n",
    "small_pvalue           = stats.ttest_1samp(df[\"temperature\"], 98.6).pvalue\n",
    "\n",
    "print(\"t_test_statistic:\", small_t_test_statistic)\n",
    "print(\"pvalue:\", small_pvalue)\n",
    "\n",
    "# next, check the quantiles of the t-distribution of the with 95% confidence\n",
    "small_test_stat1 = stats.t.ppf(.025, small_n-1)\n",
    "print(\"test_stat2:\", small_test_stat1)\n",
    "\n",
    "small_test_stat2 = stats.t.ppf(.975, small_n-1)\n",
    "print(\"test_stat2:\", small_test_stat2)\n",
    "\n",
    "# now check the probability of the sample's occurrance given that the null hypothesis is true\n",
    "small_pvalue2 = stats.t.cdf(small_t_test_statistic, small_n-1) * 2\n",
    "\n",
    "print(\"pvalue2:\", small_pvalue2)"
   ]
  },
  {
   "cell_type": "code",
   "execution_count": 16,
   "metadata": {},
   "outputs": [
    {
     "data": {
      "text/plain": [
       "(97.84882570413825, 98.65117429586175)"
      ]
     },
     "execution_count": 16,
     "metadata": {},
     "output_type": "execute_result"
    }
   ],
   "source": [
    "stats.t.interval(alpha=.95, df=small_n-1, loc=small_mean, scale=small_std / np.sqrt(small_n))"
   ]
  },
  {
   "cell_type": "markdown",
   "metadata": {},
   "source": [
    "Now that the sample size is reduced to below the magical, statistical threshold of 30, the T-Test should be more appropriate. Both tests now produce increased margins of error and often include the given population mean of 98.6 degrees, preventing the consistent rejection of the null hypothesis at 95% confidence in the sample. The confidence intervals above for Z and T tests reject and retain the null hypothesis respectively.\n",
    "\n",
    "This illustrates the importance of repeating experiments and the value of drawing more samples."
   ]
  },
  {
   "cell_type": "markdown",
   "metadata": {},
   "source": [
    "## 5. At what temperature should we consider someone's temperature to be \"abnormal\"?\n",
    "\n",
    "As of 2018, it has become difficult to label someone as abnormal. In this exercise, a prediction interval is used to make a defensible attempt at doing so."
   ]
  },
  {
   "cell_type": "code",
   "execution_count": 17,
   "metadata": {},
   "outputs": [
    {
     "name": "stdout",
     "output_type": "stream",
     "text": [
      "(98.123682111456645, 98.37477942700491)\n",
      "The 95% confidence interval would suggest 115 of 130 people are abnormal\n"
     ]
    }
   ],
   "source": [
    "print(ci)\n",
    "low, high = ci\n",
    "abnormals = (df[\"temperature\"] < low).sum() + (df[\"temperature\"] > high).sum()\n",
    "print(\"The 95% confidence interval would suggest\", str(abnormals), \"of 130 people are abnormal\")"
   ]
  },
  {
   "cell_type": "markdown",
   "metadata": {},
   "source": [
    "Disregarding the assignment's suggestion to use a confidence interval, a prediction interval is used to find the range that encompasses 95% of observations."
   ]
  },
  {
   "cell_type": "code",
   "execution_count": 18,
   "metadata": {},
   "outputs": [
    {
     "data": {
      "text/plain": [
       "(96.798652852736836, 99.699808685724719)"
      ]
     },
     "execution_count": 18,
     "metadata": {},
     "output_type": "execute_result"
    }
   ],
   "source": [
    "# prediction interval with t-distribution\n",
    "t_critical = stats.t.ppf(0.975, n-1)\n",
    "mean - t_critical * np.sqrt(1 + 1/n) * std, mean + t_critical * np.sqrt(1 + 1/n) * std"
   ]
  },
  {
   "cell_type": "code",
   "execution_count": 19,
   "metadata": {},
   "outputs": [
    {
     "data": {
      "text/plain": [
       "(96.81775582674824, 99.680705711713316)"
      ]
     },
     "execution_count": 19,
     "metadata": {},
     "output_type": "execute_result"
    }
   ],
   "source": [
    "# prediction interval with normal distribution\n",
    "stats.norm.interval(0.95, loc=mean, scale=std)"
   ]
  },
  {
   "cell_type": "code",
   "execution_count": 20,
   "metadata": {},
   "outputs": [
    {
     "data": {
      "text/plain": [
       "(97.04499999999999, 99.3)"
      ]
     },
     "execution_count": 20,
     "metadata": {},
     "output_type": "execute_result"
    }
   ],
   "source": [
    "# good old fashioned quantile definition\n",
    "df[\"temperature\"].quantile(.05), df[\"temperature\"].quantile(.95)"
   ]
  },
  {
   "cell_type": "markdown",
   "metadata": {},
   "source": [
    "## 6. Is there a significant difference between males and females in normal temperature?\n",
    "\n",
    " - What test did you use and why?\n",
    " - Write a story with your conclusion in the context of the original problem. \n",
    "\n",
    "\n"
   ]
  },
  {
   "cell_type": "markdown",
   "metadata": {},
   "source": [
    "Null Hypothesis: The true population mean is equal to the conventional mean 98.6 F\n",
    "\n",
    "Alternative hypothesis: The true population mean is not equal to the conventional mean 98.6 F"
   ]
  },
  {
   "cell_type": "code",
   "execution_count": 21,
   "metadata": {},
   "outputs": [
    {
     "data": {
      "text/html": [
       "<div>\n",
       "<style>\n",
       "    .dataframe thead tr:only-child th {\n",
       "        text-align: right;\n",
       "    }\n",
       "\n",
       "    .dataframe thead th {\n",
       "        text-align: left;\n",
       "    }\n",
       "\n",
       "    .dataframe tbody tr th {\n",
       "        vertical-align: top;\n",
       "    }\n",
       "</style>\n",
       "<table border=\"1\" class=\"dataframe\">\n",
       "  <thead>\n",
       "    <tr style=\"text-align: right;\">\n",
       "      <th></th>\n",
       "      <th>temperature</th>\n",
       "      <th>gender</th>\n",
       "      <th>heart_rate</th>\n",
       "    </tr>\n",
       "  </thead>\n",
       "  <tbody>\n",
       "    <tr>\n",
       "      <th>0</th>\n",
       "      <td>99.3</td>\n",
       "      <td>F</td>\n",
       "      <td>68.0</td>\n",
       "    </tr>\n",
       "    <tr>\n",
       "      <th>1</th>\n",
       "      <td>98.4</td>\n",
       "      <td>F</td>\n",
       "      <td>81.0</td>\n",
       "    </tr>\n",
       "    <tr>\n",
       "      <th>2</th>\n",
       "      <td>97.8</td>\n",
       "      <td>M</td>\n",
       "      <td>73.0</td>\n",
       "    </tr>\n",
       "    <tr>\n",
       "      <th>3</th>\n",
       "      <td>99.2</td>\n",
       "      <td>F</td>\n",
       "      <td>66.0</td>\n",
       "    </tr>\n",
       "    <tr>\n",
       "      <th>4</th>\n",
       "      <td>98.0</td>\n",
       "      <td>F</td>\n",
       "      <td>73.0</td>\n",
       "    </tr>\n",
       "  </tbody>\n",
       "</table>\n",
       "</div>"
      ],
      "text/plain": [
       "   temperature gender  heart_rate\n",
       "0         99.3      F        68.0\n",
       "1         98.4      F        81.0\n",
       "2         97.8      M        73.0\n",
       "3         99.2      F        66.0\n",
       "4         98.0      F        73.0"
      ]
     },
     "execution_count": 21,
     "metadata": {},
     "output_type": "execute_result"
    }
   ],
   "source": [
    "df.head()"
   ]
  },
  {
   "cell_type": "code",
   "execution_count": 22,
   "metadata": {
    "collapsed": true
   },
   "outputs": [],
   "source": [
    "mtemp = df[\"temperature\"][df[\"gender\"] == \"M\"]\n",
    "ftemp = df[\"temperature\"][df[\"gender\"] == \"F\"]"
   ]
  },
  {
   "cell_type": "code",
   "execution_count": 23,
   "metadata": {},
   "outputs": [
    {
     "data": {
      "text/plain": [
       "count    65.000000\n",
       "mean     98.104615\n",
       "std       0.698756\n",
       "min      96.300000\n",
       "25%      97.600000\n",
       "50%      98.100000\n",
       "75%      98.600000\n",
       "max      99.500000\n",
       "Name: temperature, dtype: float64"
      ]
     },
     "execution_count": 23,
     "metadata": {},
     "output_type": "execute_result"
    }
   ],
   "source": [
    "mtemp.describe()"
   ]
  },
  {
   "cell_type": "code",
   "execution_count": 24,
   "metadata": {},
   "outputs": [
    {
     "data": {
      "text/plain": [
       "count     65.000000\n",
       "mean      98.393846\n",
       "std        0.743488\n",
       "min       96.400000\n",
       "25%       98.000000\n",
       "50%       98.400000\n",
       "75%       98.800000\n",
       "max      100.800000\n",
       "Name: temperature, dtype: float64"
      ]
     },
     "execution_count": 24,
     "metadata": {},
     "output_type": "execute_result"
    }
   ],
   "source": [
    "ftemp.describe()"
   ]
  },
  {
   "cell_type": "code",
   "execution_count": 25,
   "metadata": {
    "collapsed": true
   },
   "outputs": [],
   "source": [
    "xm, ym = ecdf(mtemp)\n",
    "xf, yf = ecdf(ftemp)\n",
    "x_theor, y_theor = ecdf(samples)"
   ]
  },
  {
   "cell_type": "code",
   "execution_count": 26,
   "metadata": {},
   "outputs": [
    {
     "data": {
      "image/png": "[encoded data removed]",
      "text/plain": [
       "<matplotlib.figure.Figure at 0x224fa1c6828>"
      ]
     },
     "metadata": {},
     "output_type": "display_data"
    }
   ],
   "source": [
    "sns.set()\n",
    "_ = plt.plot(xm, ym, marker=\".\", linestyle=\"none\", color=\"blue\")\n",
    "_ = plt.plot(xf, yf, marker=\".\", linestyle=\"none\", color=\"magenta\")\n",
    "_ = plt.xlabel(\"body temperature (f)\")\n",
    "_ = plt.ylabel(\"CDF\")\n",
    "_ = plt.legend(('Male', 'Female'), loc='lower right')\n",
    "plt.show()"
   ]
  },
  {
   "cell_type": "markdown",
   "metadata": {},
   "source": [
    "Plotting the CDFs implies that there is significant difference betewen them. A permutation test will determine the significance and difference. A permutation test simulates what the data would look like if the temperatures for the two genders were identically distributed."
   ]
  },
  {
   "cell_type": "code",
   "execution_count": 27,
   "metadata": {
    "collapsed": true
   },
   "outputs": [],
   "source": [
    "def permutation_sample(data1, data2):\n",
    "    \n",
    "    # first construct a single array with all the observations in it\n",
    "    temps = np.concatenate((mtemp, ftemp))\n",
    "\n",
    "    # scramble the entries in the array\n",
    "    temps_perm = np.random.permutation(temps)\n",
    "\n",
    "    # create permutation samples\n",
    "    perm_m = temps_perm[:len(mtemp)]\n",
    "    perm_f = temps_perm[len(mtemp):]\n",
    "    \n",
    "    return perm_m, perm_f"
   ]
  },
  {
   "cell_type": "code",
   "execution_count": 28,
   "metadata": {},
   "outputs": [
    {
     "data": {
      "image/png": "[encoded data removed]",
      "text/plain": [
       "<matplotlib.figure.Figure at 0x224fa26f5f8>"
      ]
     },
     "metadata": {},
     "output_type": "display_data"
    }
   ],
   "source": [
    "# now to take a statistically relevant number of permutation samples\n",
    "for i in range(50):\n",
    "    # generate sample with above function\n",
    "    perm_sample_1, perm_sample_2 = permutation_sample(mtemp, ftemp)\n",
    "    \n",
    "    #compute ECDFs\n",
    "    x_1, y_1 = ecdf(perm_sample_1)\n",
    "    x_2, y_2 = ecdf(perm_sample_2)\n",
    "    \n",
    "    # Plot ECDFs of permutation sample\n",
    "    _ = plt.plot(x_1, y_1, marker='.', linestyle='none',\n",
    "                 color='blue', alpha=0.02)\n",
    "    _ = plt.plot(x_2, y_2, marker='.', linestyle='none',\n",
    "                 color='magenta', alpha=0.02)\n",
    "    \n",
    "\n",
    "_ = plt.plot(xm, ym, marker='.', linestyle='none', color='blue')\n",
    "_ = plt.plot(xf, yf, marker='.', linestyle='none', color='magenta')\n",
    "\n",
    "# Label axes, set margin, and show plot\n",
    "plt.margins(0.02)\n",
    "_ = plt.xlabel('monthly rainfall (mm)')\n",
    "_ = plt.ylabel('ECDF')\n",
    "plt.show()"
   ]
  },
  {
   "cell_type": "markdown",
   "metadata": {},
   "source": [
    "Most of the ECDFs from the permutation samples do not overlap the observed data, suggesting that the hypothesis is not supported.\n",
    "\n",
    "The empirical difference of the means is the difference of means of the male and female observations."
   ]
  },
  {
   "cell_type": "code",
   "execution_count": 29,
   "metadata": {
    "collapsed": true
   },
   "outputs": [],
   "source": [
    "# the test statistic is the difference of means, so that function will be used\n",
    "def diff_of_means(data_1, data_2):\n",
    "    \"\"\"Difference in means of two arrays.\"\"\"\n",
    "\n",
    "    # The difference of means of data_1, data_2: diff\n",
    "    diff = np.mean(data_1) - np.mean(data_2)\n",
    "\n",
    "    return diff"
   ]
  },
  {
   "cell_type": "code",
   "execution_count": 30,
   "metadata": {},
   "outputs": [
    {
     "name": "stdout",
     "output_type": "stream",
     "text": [
      "-0.289230769230727\n"
     ]
    }
   ],
   "source": [
    "empirical_diff_means = diff_of_means(mtemp, ftemp)\n",
    "print(empirical_diff_means)"
   ]
  },
  {
   "cell_type": "markdown",
   "metadata": {},
   "source": [
    "A distribution of permutation replicates of this test statistic can be used to identify the probability of the test statistic exhibiting of a mean difference at least as extreme as what was observed. In other words, how likely is it that the observed difference of mean temperatures between males and females would be -0.289 degrees F supposing the null hypothesis that the true population mean difference is 0 degrees."
   ]
  },
  {
   "cell_type": "code",
   "execution_count": 31,
   "metadata": {
    "collapsed": true
   },
   "outputs": [],
   "source": [
    "def draw_perm_reps(data_1, data_2, func, size=1):\n",
    "    \"\"\"Generate multiple permutation replicates.\"\"\"\n",
    "\n",
    "    # Initialize array of replicates: perm_replicates\n",
    "    perm_replicates = np.empty(size)\n",
    "\n",
    "    for i in range(size):\n",
    "        # Generate permutation sample\n",
    "        perm_sample_1, perm_sample_2 = permutation_sample(data_1, data_2)\n",
    "\n",
    "        # Compute the test statistic\n",
    "        perm_replicates[i] = func(perm_sample_1, perm_sample_2)\n",
    "\n",
    "    return perm_replicates"
   ]
  },
  {
   "cell_type": "markdown",
   "metadata": {},
   "source": [
    "By repeating the drawing of permuted replicates, a distribution of replicates is created"
   ]
  },
  {
   "cell_type": "code",
   "execution_count": 32,
   "metadata": {
    "collapsed": true
   },
   "outputs": [],
   "source": [
    "permutation_replicates = draw_perm_reps(mtemp, ftemp, diff_of_means, 10000)"
   ]
  },
  {
   "cell_type": "markdown",
   "metadata": {},
   "source": [
    "The visualization of the permutation replicates is shown below."
   ]
  },
  {
   "cell_type": "code",
   "execution_count": 33,
   "metadata": {},
   "outputs": [
    {
     "data": {
      "image/png": "[encoded data removed]",
      "text/plain": [
       "<matplotlib.figure.Figure at 0x224fa335f60>"
      ]
     },
     "metadata": {},
     "output_type": "display_data"
    }
   ],
   "source": [
    "# plot the permutation replicates\n",
    "sns.distplot(permutation_replicates)\n",
    "plt.xlabel(\"mean difference in degrees\")\n",
    "\n",
    "# draw a line showing the empirical difference of means. the area to the left is the probability\n",
    "plt.vlines(ymin=0, ymax=4,\n",
    "           x=empirical_diff_means, \n",
    "           color=\"red\")\n",
    "\n",
    "plt.title(\"Permutations of Mean Temperature Differences\")\n",
    "\n",
    "\n",
    "plt.show()"
   ]
  },
  {
   "cell_type": "markdown",
   "metadata": {},
   "source": [
    "The probability of observing a difference in mean temps at least as extreme as the empirical difference of -0.289 is given by the ratio of permutation replicates that meet that extreme value."
   ]
  },
  {
   "cell_type": "code",
   "execution_count": 34,
   "metadata": {},
   "outputs": [
    {
     "name": "stdout",
     "output_type": "stream",
     "text": [
      "0.0121\n"
     ]
    }
   ],
   "source": [
    "p_probability = np.sum(permutation_replicates <= empirical_diff_means) / len(permutation_replicates)\n",
    "print(p_probability)"
   ]
  },
  {
   "cell_type": "markdown",
   "metadata": {},
   "source": [
    "As the number of permutation replicates increases, the distribution approaches the normal distribution. This means that the probability or p-value can also be ascertained by looking up a z-score representing the number of standard deviations away the test statistic is from the mean of zero."
   ]
  },
  {
   "cell_type": "code",
   "execution_count": 35,
   "metadata": {},
   "outputs": [
    {
     "name": "stdout",
     "output_type": "stream",
     "text": [
      "0.0120426374914\n"
     ]
    }
   ],
   "source": [
    "# get standard deviation of permutation replicates\n",
    "perm_std = np.std(permutation_replicates)\n",
    "\n",
    "# convert empirical difference to standard deviations\n",
    "z_score = empirical_diff_means / perm_std\n",
    "\n",
    "# look up p value for z_score\n",
    "p_lookup = 1 - stats.norm.sf(z_score)\n",
    "\n",
    "print(p_lookup)"
   ]
  },
  {
   "cell_type": "markdown",
   "metadata": {},
   "source": [
    "These P values indicate that were there no difference between male and female temperatures, the observation in the original sample would be 1.26% or 1.32% likely to occur. Given a 95% confidence level, the null hypothesis that there is no difference cannot be retained. The significance level of 0.05 is greater than the p value of 0.126"
   ]
  },
  {
   "cell_type": "markdown",
   "metadata": {},
   "source": [
    "## Conclusion\n",
    "\n",
    "The original problem asked if the commonly accepted normal body temperature of 98.6 degrees F reported by Carl Wunderlich was a statistically correct value. In tests against this sample of 130 individuals, evidence was not found that corroborates 98.6 degrees as a global mean, although it was still found to be in the range of normality. Furthermore, a significant difference between male and female body temperatures was discovered, further challenging the simplicity of a universal figure of normality. "
   ]
  },
  {
   "cell_type": "code",
   "execution_count": null,
   "metadata": {
    "collapsed": true
   },
   "outputs": [],
   "source": []
  }
 ],
 "metadata": {
  "kernelspec": {
   "display_name": "Python 3",
   "language": "python",
   "name": "python3"
  },
  "language_info": {
   "codemirror_mode": {
    "name": "ipython",
    "version": 3
   },
   "file_extension": ".py",
   "mimetype": "text/x-python",
   "name": "python",
   "nbconvert_exporter": "python",
   "pygments_lexer": "ipython3",
   "version": "3.6.3"
  }
 },
 "nbformat": 4,
 "nbformat_minor": 1
}
