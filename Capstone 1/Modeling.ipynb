{
 "cells": [
  {
   "cell_type": "markdown",
   "metadata": {},
   "source": [
    "# Initial Setup"
   ]
  },
  {
   "cell_type": "code",
   "execution_count": 30,
   "metadata": {
    "collapsed": true
   },
   "outputs": [],
   "source": [
    "import numpy as np\n",
    "import pandas as pd\n",
    "from sklearn import preprocessing\n",
    "from sklearn.decomposition import PCA\n",
    "from sklearn.model_selection import train_test_split\n",
    "from sklearn.linear_model import LogisticRegression\n",
    "from sklearn.neighbors import KNeighborsClassifier\n",
    "from sklearn.pipeline import Pipeline\n",
    "from sklearn.model_selection import GridSearchCV\n",
    "from sklearn.metrics import classification_report\n",
    "from sklearn.naive_bayes import GaussianNB\n",
    "from sklearn.ensemble import RandomForestClassifier\n",
    "from sklearn.svm import SVC"
   ]
  },
  {
   "cell_type": "markdown",
   "metadata": {},
   "source": [
    "Import Processed data as Samples"
   ]
  },
  {
   "cell_type": "code",
   "execution_count": 40,
   "metadata": {
    "collapsed": true
   },
   "outputs": [],
   "source": [
    "samples = pd.read_csv(\"data/processed/samples.csv\", encoding=\"latin-1\")"
   ]
  },
  {
   "cell_type": "code",
   "execution_count": 41,
   "metadata": {},
   "outputs": [
    {
     "data": {
      "text/html": [
       "<div>\n",
       "<style>\n",
       "    .dataframe thead tr:only-child th {\n",
       "        text-align: right;\n",
       "    }\n",
       "\n",
       "    .dataframe thead th {\n",
       "        text-align: left;\n",
       "    }\n",
       "\n",
       "    .dataframe tbody tr th {\n",
       "        vertical-align: top;\n",
       "    }\n",
       "</style>\n",
       "<table border=\"1\" class=\"dataframe\">\n",
       "  <thead>\n",
       "    <tr style=\"text-align: right;\">\n",
       "      <th></th>\n",
       "      <th>establishments</th>\n",
       "      <th>employees</th>\n",
       "      <th>growth</th>\n",
       "      <th>exemptions_stay</th>\n",
       "      <th>exemptions_in_is</th>\n",
       "      <th>exemptions_in_oos</th>\n",
       "      <th>exemptions_out_is</th>\n",
       "      <th>exemptions_out_oos</th>\n",
       "      <th>returns_stay</th>\n",
       "      <th>returns_in_is</th>\n",
       "      <th>returns_in_oos</th>\n",
       "      <th>returns_out_is</th>\n",
       "      <th>returns_out_oos</th>\n",
       "      <th>agi_stay</th>\n",
       "      <th>agi_in_is</th>\n",
       "      <th>agi_in_oos</th>\n",
       "      <th>agi_out_is</th>\n",
       "      <th>agi_out_oos</th>\n",
       "    </tr>\n",
       "  </thead>\n",
       "  <tbody>\n",
       "    <tr>\n",
       "      <th>0</th>\n",
       "      <td>35</td>\n",
       "      <td>157</td>\n",
       "      <td>False</td>\n",
       "      <td>35901.0</td>\n",
       "      <td>2185.0</td>\n",
       "      <td>4184.0</td>\n",
       "      <td>1883.0</td>\n",
       "      <td>3338.0</td>\n",
       "      <td>15062.0</td>\n",
       "      <td>951.0</td>\n",
       "      <td>1410.0</td>\n",
       "      <td>853.0</td>\n",
       "      <td>1245.0</td>\n",
       "      <td>714261.0</td>\n",
       "      <td>32399.0</td>\n",
       "      <td>73510.0</td>\n",
       "      <td>26576.0</td>\n",
       "      <td>59705.0</td>\n",
       "    </tr>\n",
       "    <tr>\n",
       "      <th>1</th>\n",
       "      <td>34</td>\n",
       "      <td>175</td>\n",
       "      <td>False</td>\n",
       "      <td>36850.0</td>\n",
       "      <td>2519.0</td>\n",
       "      <td>4209.0</td>\n",
       "      <td>2102.0</td>\n",
       "      <td>3545.0</td>\n",
       "      <td>15473.0</td>\n",
       "      <td>1139.0</td>\n",
       "      <td>1551.0</td>\n",
       "      <td>971.0</td>\n",
       "      <td>1307.0</td>\n",
       "      <td>756692.0</td>\n",
       "      <td>38883.0</td>\n",
       "      <td>82027.0</td>\n",
       "      <td>31657.0</td>\n",
       "      <td>70658.0</td>\n",
       "    </tr>\n",
       "    <tr>\n",
       "      <th>2</th>\n",
       "      <td>30</td>\n",
       "      <td>109</td>\n",
       "      <td>True</td>\n",
       "      <td>37767.0</td>\n",
       "      <td>2394.0</td>\n",
       "      <td>4168.0</td>\n",
       "      <td>2127.0</td>\n",
       "      <td>3443.0</td>\n",
       "      <td>15944.0</td>\n",
       "      <td>1072.0</td>\n",
       "      <td>1447.0</td>\n",
       "      <td>1025.0</td>\n",
       "      <td>1284.0</td>\n",
       "      <td>827611.0</td>\n",
       "      <td>37153.0</td>\n",
       "      <td>79737.0</td>\n",
       "      <td>36112.0</td>\n",
       "      <td>67092.0</td>\n",
       "    </tr>\n",
       "    <tr>\n",
       "      <th>3</th>\n",
       "      <td>38</td>\n",
       "      <td>116</td>\n",
       "      <td>False</td>\n",
       "      <td>39518.0</td>\n",
       "      <td>2548.0</td>\n",
       "      <td>3863.0</td>\n",
       "      <td>2047.0</td>\n",
       "      <td>3601.0</td>\n",
       "      <td>16791.0</td>\n",
       "      <td>1185.0</td>\n",
       "      <td>1458.0</td>\n",
       "      <td>989.0</td>\n",
       "      <td>1398.0</td>\n",
       "      <td>901200.0</td>\n",
       "      <td>43332.0</td>\n",
       "      <td>83366.0</td>\n",
       "      <td>34063.0</td>\n",
       "      <td>69089.0</td>\n",
       "    </tr>\n",
       "    <tr>\n",
       "      <th>4</th>\n",
       "      <td>37</td>\n",
       "      <td>0</td>\n",
       "      <td>False</td>\n",
       "      <td>40719.0</td>\n",
       "      <td>2230.0</td>\n",
       "      <td>3873.0</td>\n",
       "      <td>2118.0</td>\n",
       "      <td>3660.0</td>\n",
       "      <td>17385.0</td>\n",
       "      <td>1038.0</td>\n",
       "      <td>1462.0</td>\n",
       "      <td>1018.0</td>\n",
       "      <td>1375.0</td>\n",
       "      <td>936888.0</td>\n",
       "      <td>36050.0</td>\n",
       "      <td>79697.0</td>\n",
       "      <td>34539.0</td>\n",
       "      <td>75861.0</td>\n",
       "    </tr>\n",
       "  </tbody>\n",
       "</table>\n",
       "</div>"
      ],
      "text/plain": [
       "   establishments  employees  growth  exemptions_stay  exemptions_in_is  \\\n",
       "0              35        157   False          35901.0            2185.0   \n",
       "1              34        175   False          36850.0            2519.0   \n",
       "2              30        109    True          37767.0            2394.0   \n",
       "3              38        116   False          39518.0            2548.0   \n",
       "4              37          0   False          40719.0            2230.0   \n",
       "\n",
       "   exemptions_in_oos  exemptions_out_is  exemptions_out_oos  returns_stay  \\\n",
       "0             4184.0             1883.0              3338.0       15062.0   \n",
       "1             4209.0             2102.0              3545.0       15473.0   \n",
       "2             4168.0             2127.0              3443.0       15944.0   \n",
       "3             3863.0             2047.0              3601.0       16791.0   \n",
       "4             3873.0             2118.0              3660.0       17385.0   \n",
       "\n",
       "   returns_in_is  returns_in_oos  returns_out_is  returns_out_oos  agi_stay  \\\n",
       "0          951.0          1410.0           853.0           1245.0  714261.0   \n",
       "1         1139.0          1551.0           971.0           1307.0  756692.0   \n",
       "2         1072.0          1447.0          1025.0           1284.0  827611.0   \n",
       "3         1185.0          1458.0           989.0           1398.0  901200.0   \n",
       "4         1038.0          1462.0          1018.0           1375.0  936888.0   \n",
       "\n",
       "   agi_in_is  agi_in_oos  agi_out_is  agi_out_oos  \n",
       "0    32399.0     73510.0     26576.0      59705.0  \n",
       "1    38883.0     82027.0     31657.0      70658.0  \n",
       "2    37153.0     79737.0     36112.0      67092.0  \n",
       "3    43332.0     83366.0     34063.0      69089.0  \n",
       "4    36050.0     79697.0     34539.0      75861.0  "
      ]
     },
     "execution_count": 41,
     "metadata": {},
     "output_type": "execute_result"
    }
   ],
   "source": [
    "samples = samples.drop(\"Unnamed: 0\", axis=1)\n",
    "samples.head()"
   ]
  },
  {
   "cell_type": "markdown",
   "metadata": {},
   "source": [
    "Split off a hold-out test set of data"
   ]
  },
  {
   "cell_type": "code",
   "execution_count": 4,
   "metadata": {
    "collapsed": true
   },
   "outputs": [],
   "source": [
    "y = samples[\"growth\"]\n",
    "X = samples.drop(\"growth\", axis=1)\n",
    "X_train, X_test, y_train, y_test = train_test_split(X, y, test_size=0.25, random_state=36)"
   ]
  },
  {
   "cell_type": "markdown",
   "metadata": {},
   "source": [
    "# Testing Various Models\n",
    "## Model 1: Logistic Regression"
   ]
  },
  {
   "cell_type": "code",
   "execution_count": 5,
   "metadata": {
    "collapsed": true
   },
   "outputs": [],
   "source": [
    "# define steps and hyperparameter ranges\n",
    "steps = [(\"scaler\", preprocessing.StandardScaler()),\n",
    "        (\"pca\", PCA()),\n",
    "        (\"model\", LogisticRegression())]\n",
    "parameters = {\"pca__n_components\":np.arange(1,18)}"
   ]
  },
  {
   "cell_type": "code",
   "execution_count": 6,
   "metadata": {},
   "outputs": [
    {
     "data": {
      "text/plain": [
       "GridSearchCV(cv=None, error_score='raise',\n",
       "       estimator=Pipeline(memory=None,\n",
       "     steps=[('scaler', StandardScaler(copy=True, with_mean=True, with_std=True)), ('pca', PCA(copy=True, iterated_power='auto', n_components=None, random_state=None,\n",
       "  svd_solver='auto', tol=0.0, whiten=False)), ('model', LogisticRegression(C=1.0, class_weight=None, d...y='l2', random_state=None, solver='liblinear', tol=0.0001,\n",
       "          verbose=0, warm_start=False))]),\n",
       "       fit_params=None, iid=True, n_jobs=1,\n",
       "       param_grid={'pca__n_components': array([ 1,  2,  3,  4,  5,  6,  7,  8,  9, 10, 11, 12, 13, 14, 15, 16, 17])},\n",
       "       pre_dispatch='2*n_jobs', refit=True, return_train_score='warn',\n",
       "       scoring=None, verbose=0)"
      ]
     },
     "execution_count": 6,
     "metadata": {},
     "output_type": "execute_result"
    }
   ],
   "source": [
    "# create pipeline and train model\n",
    "pipeline = Pipeline(steps)\n",
    "cv = GridSearchCV(pipeline, parameters)\n",
    "cv.fit(X_train, y_train)\n",
    "y_pred = cv.predict(X_test)"
   ]
  },
  {
   "cell_type": "code",
   "execution_count": 7,
   "metadata": {},
   "outputs": [
    {
     "name": "stdout",
     "output_type": "stream",
     "text": [
      "Best Score: 0.652959898154\n",
      "Best Params: {'pca__n_components': 16}\n",
      "Classification Report:\n",
      "             precision    recall  f1-score   support\n",
      "\n",
      "      False       0.66      0.97      0.78      5044\n",
      "       True       0.60      0.09      0.16      2811\n",
      "\n",
      "avg / total       0.64      0.65      0.56      7855\n",
      "\n"
     ]
    }
   ],
   "source": [
    "# score the model\n",
    "print(\"Best Score:\", cv.score(X_test, y_test))\n",
    "print(\"Best Params:\", cv.best_params_)\n",
    "print(\"Classification Report:\")\n",
    "print(classification_report(y_test, y_pred))"
   ]
  },
  {
   "cell_type": "markdown",
   "metadata": {},
   "source": [
    "## Model 2: Nearest Neighbors"
   ]
  },
  {
   "cell_type": "code",
   "execution_count": 8,
   "metadata": {
    "collapsed": true
   },
   "outputs": [],
   "source": [
    "# define steps and hyperparameter ranges\n",
    "steps = [(\"scaler\", preprocessing.StandardScaler()),\n",
    "        (\"pca\", PCA()),\n",
    "        (\"model\", KNeighborsClassifier())]\n",
    "parameters = {\"pca__n_components\":np.arange(1,18),\n",
    "             \"model__n_neighbors\":np.arange(1,10)}"
   ]
  },
  {
   "cell_type": "code",
   "execution_count": 9,
   "metadata": {
    "collapsed": true
   },
   "outputs": [],
   "source": [
    "# create pipeline and train model\n",
    "pipeline = Pipeline(steps)\n",
    "cv = GridSearchCV(pipeline, parameters)\n",
    "cv.fit(X_train, y_train)\n",
    "y_pred = cv.predict(X_test)"
   ]
  },
  {
   "cell_type": "code",
   "execution_count": 10,
   "metadata": {},
   "outputs": [
    {
     "name": "stdout",
     "output_type": "stream",
     "text": [
      "Best Score: 0.624188415022\n",
      "Best Params: {'model__n_neighbors': 8, 'pca__n_components': 4}\n",
      "Classification Report:\n",
      "             precision    recall  f1-score   support\n",
      "\n",
      "      False       0.66      0.87      0.75      5044\n",
      "       True       0.44      0.18      0.26      2811\n",
      "\n",
      "avg / total       0.58      0.62      0.57      7855\n",
      "\n"
     ]
    }
   ],
   "source": [
    "#score the model\n",
    "y_pred = cv.predict(X_test)\n",
    "print(\"Best Score:\", cv.score(X_test, y_test))\n",
    "print(\"Best Params:\", cv.best_params_)\n",
    "print(\"Classification Report:\")\n",
    "print(classification_report(y_test, y_pred))"
   ]
  },
  {
   "cell_type": "markdown",
   "metadata": {},
   "source": [
    "## Model 3: Naive Bayes"
   ]
  },
  {
   "cell_type": "code",
   "execution_count": 14,
   "metadata": {
    "collapsed": true
   },
   "outputs": [],
   "source": [
    "# define steps and hyperparameter ranges\n",
    "steps = [(\"scaler\", preprocessing.StandardScaler()),\n",
    "        (\"pca\", PCA()),\n",
    "        (\"model\", GaussianNB())]\n",
    "parameters = {\"pca__n_components\":np.arange(1,18)}"
   ]
  },
  {
   "cell_type": "code",
   "execution_count": 15,
   "metadata": {
    "collapsed": true
   },
   "outputs": [],
   "source": [
    "# create pipeline and train model\n",
    "pipeline = Pipeline(steps)\n",
    "cv = GridSearchCV(pipeline, parameters)\n",
    "cv.fit(X_train, y_train)\n",
    "y_pred = cv.predict(X_test)"
   ]
  },
  {
   "cell_type": "code",
   "execution_count": 16,
   "metadata": {},
   "outputs": [
    {
     "name": "stdout",
     "output_type": "stream",
     "text": [
      "Best Score: 0.64455760662\n",
      "Best Params: {'pca__n_components': 11}\n",
      "Classification Report:\n",
      "             precision    recall  f1-score   support\n",
      "\n",
      "      False       0.65      0.95      0.77      5044\n",
      "       True       0.52      0.11      0.17      2811\n",
      "\n",
      "avg / total       0.61      0.64      0.56      7855\n",
      "\n"
     ]
    }
   ],
   "source": [
    "#score the model\n",
    "y_pred = cv.predict(X_test)\n",
    "print(\"Best Score:\", cv.score(X_test, y_test))\n",
    "print(\"Best Params:\", cv.best_params_)\n",
    "print(\"Classification Report:\")\n",
    "print(classification_report(y_test, y_pred))"
   ]
  },
  {
   "cell_type": "markdown",
   "metadata": {},
   "source": [
    "## Model 4: Random Forest"
   ]
  },
  {
   "cell_type": "code",
   "execution_count": 27,
   "metadata": {
    "collapsed": true
   },
   "outputs": [],
   "source": [
    "# define steps and hyperparameter ranges\n",
    "steps = [(\"scaler\", preprocessing.StandardScaler()),\n",
    "        (\"pca\", PCA()),\n",
    "        (\"model\", RandomForestClassifier())]\n",
    "parameters = {\"pca__n_components\":np.arange(10,18),\n",
    "             \"model__n_estimators\":[50],\n",
    "             \"model__max_features\":[\"sqrt\", \"log2\"],\n",
    "             \"model__min_samples_leaf\":[20, 30, 40]}"
   ]
  },
  {
   "cell_type": "code",
   "execution_count": 28,
   "metadata": {
    "collapsed": true
   },
   "outputs": [],
   "source": [
    "# create pipeline and train model\n",
    "pipeline = Pipeline(steps)\n",
    "cv = GridSearchCV(pipeline, parameters)\n",
    "cv.fit(X_train, y_train)\n",
    "y_pred = cv.predict(X_test)"
   ]
  },
  {
   "cell_type": "code",
   "execution_count": 29,
   "metadata": {},
   "outputs": [
    {
     "name": "stdout",
     "output_type": "stream",
     "text": [
      "Best Score: 0.660980267346\n",
      "Best Params: {'model__max_features': 'log2', 'model__min_samples_leaf': 30, 'model__n_estimators': 50, 'pca__n_components': 17}\n",
      "Classification Report:\n",
      "             precision    recall  f1-score   support\n",
      "\n",
      "      False       0.67      0.92      0.78      5044\n",
      "       True       0.58      0.20      0.29      2811\n",
      "\n",
      "avg / total       0.64      0.66      0.60      7855\n",
      "\n"
     ]
    }
   ],
   "source": [
    "#score the model\n",
    "y_pred = cv.predict(X_test)\n",
    "print(\"Best Score:\", cv.score(X_test, y_test))\n",
    "print(\"Best Params:\", cv.best_params_)\n",
    "print(\"Classification Report:\")\n",
    "print(classification_report(y_test, y_pred))"
   ]
  },
  {
   "cell_type": "markdown",
   "metadata": {},
   "source": [
    "## Model 5: Support Vector Machine"
   ]
  },
  {
   "cell_type": "code",
   "execution_count": 34,
   "metadata": {
    "collapsed": true
   },
   "outputs": [],
   "source": [
    "# define steps and hyperparameter ranges\n",
    "steps = [(\"scaler\", preprocessing.StandardScaler()),\n",
    "        (\"pca\", PCA()),\n",
    "        (\"model\", SVC())]\n",
    "parameters = {\"pca__n_components\":np.arange(10,18),\n",
    "             \"model__C\":[0.01, 0.1, 1, 10]}"
   ]
  },
  {
   "cell_type": "code",
   "execution_count": 35,
   "metadata": {
    "collapsed": true
   },
   "outputs": [],
   "source": [
    "# create pipeline and train model\n",
    "pipeline = Pipeline(steps)\n",
    "cv = GridSearchCV(pipeline, parameters)\n",
    "cv.fit(X_train, y_train)\n",
    "y_pred = cv.predict(X_test)"
   ]
  },
  {
   "cell_type": "code",
   "execution_count": 36,
   "metadata": {},
   "outputs": [
    {
     "name": "stdout",
     "output_type": "stream",
     "text": [
      "Best Score: 0.655378739656\n",
      "Best Params: {'model__C': 10, 'pca__n_components': 17}\n",
      "Classification Report:\n",
      "             precision    recall  f1-score   support\n",
      "\n",
      "      False       0.66      0.97      0.78      5044\n",
      "       True       0.62      0.10      0.17      2811\n",
      "\n",
      "avg / total       0.64      0.66      0.56      7855\n",
      "\n"
     ]
    }
   ],
   "source": [
    "#score the model\n",
    "y_pred = cv.predict(X_test)\n",
    "print(\"Best Score:\", cv.score(X_test, y_test))\n",
    "print(\"Best Params:\", cv.best_params_)\n",
    "print(\"Classification Report:\")\n",
    "print(classification_report(y_test, y_pred))"
   ]
  },
  {
   "cell_type": "markdown",
   "metadata": {},
   "source": [
    "# Intepretation"
   ]
  },
  {
   "cell_type": "code",
   "execution_count": null,
   "metadata": {
    "collapsed": true
   },
   "outputs": [],
   "source": [
    "The models all produce accuracy in the mid 60s."
   ]
  },
  {
   "cell_type": "code",
   "execution_count": 39,
   "metadata": {},
   "outputs": [
    {
     "data": {
      "text/html": [
       "<div>\n",
       "<style>\n",
       "    .dataframe thead tr:only-child th {\n",
       "        text-align: right;\n",
       "    }\n",
       "\n",
       "    .dataframe thead th {\n",
       "        text-align: left;\n",
       "    }\n",
       "\n",
       "    .dataframe tbody tr th {\n",
       "        vertical-align: top;\n",
       "    }\n",
       "</style>\n",
       "<table border=\"1\" class=\"dataframe\">\n",
       "  <thead>\n",
       "    <tr style=\"text-align: right;\">\n",
       "      <th></th>\n",
       "      <th>establishments</th>\n",
       "      <th>employees</th>\n",
       "      <th>exemptions_stay</th>\n",
       "      <th>exemptions_in_is</th>\n",
       "      <th>exemptions_in_oos</th>\n",
       "      <th>exemptions_out_is</th>\n",
       "      <th>exemptions_out_oos</th>\n",
       "      <th>returns_stay</th>\n",
       "      <th>returns_in_is</th>\n",
       "      <th>returns_in_oos</th>\n",
       "      <th>returns_out_is</th>\n",
       "      <th>returns_out_oos</th>\n",
       "      <th>agi_stay</th>\n",
       "      <th>agi_in_is</th>\n",
       "      <th>agi_in_oos</th>\n",
       "      <th>agi_out_is</th>\n",
       "      <th>agi_out_oos</th>\n",
       "    </tr>\n",
       "  </thead>\n",
       "  <tbody>\n",
       "    <tr>\n",
       "      <th>count</th>\n",
       "      <td>31420.000000</td>\n",
       "      <td>31420.000000</td>\n",
       "      <td>3.142000e+04</td>\n",
       "      <td>31420.000000</td>\n",
       "      <td>31420.000000</td>\n",
       "      <td>31420.000000</td>\n",
       "      <td>31420.000000</td>\n",
       "      <td>3.142000e+04</td>\n",
       "      <td>31420.000000</td>\n",
       "      <td>31420.000000</td>\n",
       "      <td>31420.000000</td>\n",
       "      <td>31420.000000</td>\n",
       "      <td>3.142000e+04</td>\n",
       "      <td>3.142000e+04</td>\n",
       "      <td>3.142000e+04</td>\n",
       "      <td>3.142000e+04</td>\n",
       "      <td>3.142000e+04</td>\n",
       "    </tr>\n",
       "    <tr>\n",
       "      <th>mean</th>\n",
       "      <td>114.962222</td>\n",
       "      <td>641.940388</td>\n",
       "      <td>7.321157e+04</td>\n",
       "      <td>2289.236219</td>\n",
       "      <td>2935.863160</td>\n",
       "      <td>2289.167632</td>\n",
       "      <td>2913.232654</td>\n",
       "      <td>3.351773e+04</td>\n",
       "      <td>1222.222629</td>\n",
       "      <td>1550.652642</td>\n",
       "      <td>1222.191598</td>\n",
       "      <td>1531.746260</td>\n",
       "      <td>2.085755e+06</td>\n",
       "      <td>5.429066e+04</td>\n",
       "      <td>7.560789e+04</td>\n",
       "      <td>5.426644e+04</td>\n",
       "      <td>7.572641e+04</td>\n",
       "    </tr>\n",
       "    <tr>\n",
       "      <th>std</th>\n",
       "      <td>466.492941</td>\n",
       "      <td>3096.071891</td>\n",
       "      <td>2.345284e+05</td>\n",
       "      <td>6121.617496</td>\n",
       "      <td>6917.110254</td>\n",
       "      <td>6672.119041</td>\n",
       "      <td>6913.923344</td>\n",
       "      <td>1.073152e+05</td>\n",
       "      <td>3341.004634</td>\n",
       "      <td>3879.945076</td>\n",
       "      <td>3523.109907</td>\n",
       "      <td>3714.271337</td>\n",
       "      <td>7.401976e+06</td>\n",
       "      <td>1.690169e+05</td>\n",
       "      <td>2.155254e+05</td>\n",
       "      <td>1.877264e+05</td>\n",
       "      <td>2.226732e+05</td>\n",
       "    </tr>\n",
       "    <tr>\n",
       "      <th>min</th>\n",
       "      <td>0.000000</td>\n",
       "      <td>0.000000</td>\n",
       "      <td>0.000000e+00</td>\n",
       "      <td>0.000000</td>\n",
       "      <td>0.000000</td>\n",
       "      <td>0.000000</td>\n",
       "      <td>0.000000</td>\n",
       "      <td>0.000000e+00</td>\n",
       "      <td>0.000000</td>\n",
       "      <td>0.000000</td>\n",
       "      <td>0.000000</td>\n",
       "      <td>0.000000</td>\n",
       "      <td>0.000000e+00</td>\n",
       "      <td>0.000000e+00</td>\n",
       "      <td>-4.337170e+05</td>\n",
       "      <td>0.000000e+00</td>\n",
       "      <td>-3.499250e+05</td>\n",
       "    </tr>\n",
       "    <tr>\n",
       "      <th>25%</th>\n",
       "      <td>6.000000</td>\n",
       "      <td>0.000000</td>\n",
       "      <td>7.996750e+03</td>\n",
       "      <td>188.000000</td>\n",
       "      <td>312.000000</td>\n",
       "      <td>215.000000</td>\n",
       "      <td>301.000000</td>\n",
       "      <td>3.513750e+03</td>\n",
       "      <td>91.000000</td>\n",
       "      <td>153.000000</td>\n",
       "      <td>108.000000</td>\n",
       "      <td>153.000000</td>\n",
       "      <td>1.535038e+05</td>\n",
       "      <td>2.784000e+03</td>\n",
       "      <td>5.068000e+03</td>\n",
       "      <td>3.263000e+03</td>\n",
       "      <td>4.870000e+03</td>\n",
       "    </tr>\n",
       "    <tr>\n",
       "      <th>50%</th>\n",
       "      <td>19.000000</td>\n",
       "      <td>40.000000</td>\n",
       "      <td>1.867350e+04</td>\n",
       "      <td>556.000000</td>\n",
       "      <td>775.000000</td>\n",
       "      <td>583.000000</td>\n",
       "      <td>723.000000</td>\n",
       "      <td>8.301500e+03</td>\n",
       "      <td>272.000000</td>\n",
       "      <td>386.000000</td>\n",
       "      <td>293.000000</td>\n",
       "      <td>368.000000</td>\n",
       "      <td>3.880815e+05</td>\n",
       "      <td>8.874500e+03</td>\n",
       "      <td>1.429450e+04</td>\n",
       "      <td>9.282000e+03</td>\n",
       "      <td>1.317850e+04</td>\n",
       "    </tr>\n",
       "    <tr>\n",
       "      <th>75%</th>\n",
       "      <td>60.000000</td>\n",
       "      <td>231.000000</td>\n",
       "      <td>4.905675e+04</td>\n",
       "      <td>1685.000000</td>\n",
       "      <td>2417.000000</td>\n",
       "      <td>1619.000000</td>\n",
       "      <td>2382.250000</td>\n",
       "      <td>2.215275e+04</td>\n",
       "      <td>856.250000</td>\n",
       "      <td>1224.000000</td>\n",
       "      <td>850.000000</td>\n",
       "      <td>1238.000000</td>\n",
       "      <td>1.139224e+06</td>\n",
       "      <td>3.140750e+04</td>\n",
       "      <td>5.163275e+04</td>\n",
       "      <td>2.935950e+04</td>\n",
       "      <td>5.046750e+04</td>\n",
       "    </tr>\n",
       "    <tr>\n",
       "      <th>max</th>\n",
       "      <td>14544.000000</td>\n",
       "      <td>92897.000000</td>\n",
       "      <td>7.807472e+06</td>\n",
       "      <td>120219.000000</td>\n",
       "      <td>187441.000000</td>\n",
       "      <td>169531.000000</td>\n",
       "      <td>147905.000000</td>\n",
       "      <td>3.527047e+06</td>\n",
       "      <td>65835.000000</td>\n",
       "      <td>95120.000000</td>\n",
       "      <td>80329.000000</td>\n",
       "      <td>72316.000000</td>\n",
       "      <td>2.625817e+08</td>\n",
       "      <td>3.774457e+06</td>\n",
       "      <td>5.170328e+06</td>\n",
       "      <td>4.549605e+06</td>\n",
       "      <td>6.824326e+06</td>\n",
       "    </tr>\n",
       "  </tbody>\n",
       "</table>\n",
       "</div>"
      ],
      "text/plain": [
       "       establishments     employees  exemptions_stay  exemptions_in_is  \\\n",
       "count    31420.000000  31420.000000     3.142000e+04      31420.000000   \n",
       "mean       114.962222    641.940388     7.321157e+04       2289.236219   \n",
       "std        466.492941   3096.071891     2.345284e+05       6121.617496   \n",
       "min          0.000000      0.000000     0.000000e+00          0.000000   \n",
       "25%          6.000000      0.000000     7.996750e+03        188.000000   \n",
       "50%         19.000000     40.000000     1.867350e+04        556.000000   \n",
       "75%         60.000000    231.000000     4.905675e+04       1685.000000   \n",
       "max      14544.000000  92897.000000     7.807472e+06     120219.000000   \n",
       "\n",
       "       exemptions_in_oos  exemptions_out_is  exemptions_out_oos  returns_stay  \\\n",
       "count       31420.000000       31420.000000        31420.000000  3.142000e+04   \n",
       "mean         2935.863160        2289.167632         2913.232654  3.351773e+04   \n",
       "std          6917.110254        6672.119041         6913.923344  1.073152e+05   \n",
       "min             0.000000           0.000000            0.000000  0.000000e+00   \n",
       "25%           312.000000         215.000000          301.000000  3.513750e+03   \n",
       "50%           775.000000         583.000000          723.000000  8.301500e+03   \n",
       "75%          2417.000000        1619.000000         2382.250000  2.215275e+04   \n",
       "max        187441.000000      169531.000000       147905.000000  3.527047e+06   \n",
       "\n",
       "       returns_in_is  returns_in_oos  returns_out_is  returns_out_oos  \\\n",
       "count   31420.000000    31420.000000    31420.000000     31420.000000   \n",
       "mean     1222.222629     1550.652642     1222.191598      1531.746260   \n",
       "std      3341.004634     3879.945076     3523.109907      3714.271337   \n",
       "min         0.000000        0.000000        0.000000         0.000000   \n",
       "25%        91.000000      153.000000      108.000000       153.000000   \n",
       "50%       272.000000      386.000000      293.000000       368.000000   \n",
       "75%       856.250000     1224.000000      850.000000      1238.000000   \n",
       "max     65835.000000    95120.000000    80329.000000     72316.000000   \n",
       "\n",
       "           agi_stay     agi_in_is    agi_in_oos    agi_out_is   agi_out_oos  \n",
       "count  3.142000e+04  3.142000e+04  3.142000e+04  3.142000e+04  3.142000e+04  \n",
       "mean   2.085755e+06  5.429066e+04  7.560789e+04  5.426644e+04  7.572641e+04  \n",
       "std    7.401976e+06  1.690169e+05  2.155254e+05  1.877264e+05  2.226732e+05  \n",
       "min    0.000000e+00  0.000000e+00 -4.337170e+05  0.000000e+00 -3.499250e+05  \n",
       "25%    1.535038e+05  2.784000e+03  5.068000e+03  3.263000e+03  4.870000e+03  \n",
       "50%    3.880815e+05  8.874500e+03  1.429450e+04  9.282000e+03  1.317850e+04  \n",
       "75%    1.139224e+06  3.140750e+04  5.163275e+04  2.935950e+04  5.046750e+04  \n",
       "max    2.625817e+08  3.774457e+06  5.170328e+06  4.549605e+06  6.824326e+06  "
      ]
     },
     "execution_count": 39,
     "metadata": {},
     "output_type": "execute_result"
    }
   ],
   "source": [
    "samples.describe()"
   ]
  },
  {
   "cell_type": "code",
   "execution_count": null,
   "metadata": {
    "collapsed": true
   },
   "outputs": [],
   "source": []
  }
 ],
 "metadata": {
  "kernelspec": {
   "display_name": "Python 3",
   "language": "python",
   "name": "python3"
  },
  "language_info": {
   "codemirror_mode": {
    "name": "ipython",
    "version": 3
   },
   "file_extension": ".py",
   "mimetype": "text/x-python",
   "name": "python",
   "nbconvert_exporter": "python",
   "pygments_lexer": "ipython3",
   "version": "3.6.3"
  }
 },
 "nbformat": 4,
 "nbformat_minor": 2
}
