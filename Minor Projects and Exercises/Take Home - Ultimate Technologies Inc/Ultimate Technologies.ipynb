{
 "cells": [
  {
   "cell_type": "code",
   "execution_count": 3,
   "metadata": {
    "collapsed": true
   },
   "outputs": [],
   "source": [
    "import numpy as np\n",
    "import pandas as pd\n",
    "import json"
   ]
  },
  {
   "cell_type": "markdown",
   "metadata": {},
   "source": [
    "## Part 1 ‐ Exploratory data analysis\n",
    "\n",
    "The attached logins.json file contains (simulated) timestamps of user logins in a particular\n",
    "geographic location. Aggregate these login counts based on 15­minute time intervals, and\n",
    "visualize and describe the resulting time series of login counts in ways that best characterize the\n",
    "underlying patterns of the demand. Please report/illustrate important features of the demand,\n",
    "such as daily cycles. If there are data quality issues, please report them."
   ]
  },
  {
   "cell_type": "code",
   "execution_count": 21,
   "metadata": {},
   "outputs": [
    {
     "data": {
      "text/html": [
       "<div>\n",
       "<style>\n",
       "    .dataframe thead tr:only-child th {\n",
       "        text-align: right;\n",
       "    }\n",
       "\n",
       "    .dataframe thead th {\n",
       "        text-align: left;\n",
       "    }\n",
       "\n",
       "    .dataframe tbody tr th {\n",
       "        vertical-align: top;\n",
       "    }\n",
       "</style>\n",
       "<table border=\"1\" class=\"dataframe\">\n",
       "  <thead>\n",
       "    <tr style=\"text-align: right;\">\n",
       "      <th></th>\n",
       "      <th>login_time</th>\n",
       "    </tr>\n",
       "  </thead>\n",
       "  <tbody>\n",
       "    <tr>\n",
       "      <th>0</th>\n",
       "      <td>1970-01-01 20:13:18</td>\n",
       "    </tr>\n",
       "    <tr>\n",
       "      <th>1</th>\n",
       "      <td>1970-01-01 20:16:10</td>\n",
       "    </tr>\n",
       "    <tr>\n",
       "      <th>2</th>\n",
       "      <td>1970-01-01 20:16:37</td>\n",
       "    </tr>\n",
       "    <tr>\n",
       "      <th>3</th>\n",
       "      <td>1970-01-01 20:16:36</td>\n",
       "    </tr>\n",
       "    <tr>\n",
       "      <th>4</th>\n",
       "      <td>1970-01-01 20:26:21</td>\n",
       "    </tr>\n",
       "  </tbody>\n",
       "</table>\n",
       "</div>"
      ],
      "text/plain": [
       "           login_time\n",
       "0 1970-01-01 20:13:18\n",
       "1 1970-01-01 20:16:10\n",
       "2 1970-01-01 20:16:37\n",
       "3 1970-01-01 20:16:36\n",
       "4 1970-01-01 20:26:21"
      ]
     },
     "execution_count": 21,
     "metadata": {},
     "output_type": "execute_result"
    }
   ],
   "source": [
    "logins_df = pd.read_json('data/logins.json')\n",
    "logins_df.head()"
   ]
  },
  {
   "cell_type": "code",
   "execution_count": 22,
   "metadata": {},
   "outputs": [
    {
     "data": {
      "text/html": [
       "<div>\n",
       "<style>\n",
       "    .dataframe thead tr:only-child th {\n",
       "        text-align: right;\n",
       "    }\n",
       "\n",
       "    .dataframe thead th {\n",
       "        text-align: left;\n",
       "    }\n",
       "\n",
       "    .dataframe tbody tr th {\n",
       "        vertical-align: top;\n",
       "    }\n",
       "</style>\n",
       "<table border=\"1\" class=\"dataframe\">\n",
       "  <thead>\n",
       "    <tr style=\"text-align: right;\">\n",
       "      <th></th>\n",
       "      <th>avg_dist</th>\n",
       "      <th>avg_rating_by_driver</th>\n",
       "      <th>avg_rating_of_driver</th>\n",
       "      <th>avg_surge</th>\n",
       "      <th>city</th>\n",
       "      <th>last_trip_date</th>\n",
       "      <th>phone</th>\n",
       "      <th>signup_date</th>\n",
       "      <th>surge_pct</th>\n",
       "      <th>trips_in_first_30_days</th>\n",
       "      <th>ultimate_black_user</th>\n",
       "      <th>weekday_pct</th>\n",
       "    </tr>\n",
       "  </thead>\n",
       "  <tbody>\n",
       "    <tr>\n",
       "      <th>0</th>\n",
       "      <td>3.67</td>\n",
       "      <td>5.0</td>\n",
       "      <td>4.7</td>\n",
       "      <td>1.10</td>\n",
       "      <td>King's Landing</td>\n",
       "      <td>2014-06-17</td>\n",
       "      <td>iPhone</td>\n",
       "      <td>2014-01-25</td>\n",
       "      <td>15.4</td>\n",
       "      <td>4</td>\n",
       "      <td>True</td>\n",
       "      <td>46.2</td>\n",
       "    </tr>\n",
       "    <tr>\n",
       "      <th>1</th>\n",
       "      <td>8.26</td>\n",
       "      <td>5.0</td>\n",
       "      <td>5.0</td>\n",
       "      <td>1.00</td>\n",
       "      <td>Astapor</td>\n",
       "      <td>2014-05-05</td>\n",
       "      <td>Android</td>\n",
       "      <td>2014-01-29</td>\n",
       "      <td>0.0</td>\n",
       "      <td>0</td>\n",
       "      <td>False</td>\n",
       "      <td>50.0</td>\n",
       "    </tr>\n",
       "    <tr>\n",
       "      <th>2</th>\n",
       "      <td>0.77</td>\n",
       "      <td>5.0</td>\n",
       "      <td>4.3</td>\n",
       "      <td>1.00</td>\n",
       "      <td>Astapor</td>\n",
       "      <td>2014-01-07</td>\n",
       "      <td>iPhone</td>\n",
       "      <td>2014-01-06</td>\n",
       "      <td>0.0</td>\n",
       "      <td>3</td>\n",
       "      <td>False</td>\n",
       "      <td>100.0</td>\n",
       "    </tr>\n",
       "    <tr>\n",
       "      <th>3</th>\n",
       "      <td>2.36</td>\n",
       "      <td>4.9</td>\n",
       "      <td>4.6</td>\n",
       "      <td>1.14</td>\n",
       "      <td>King's Landing</td>\n",
       "      <td>2014-06-29</td>\n",
       "      <td>iPhone</td>\n",
       "      <td>2014-01-10</td>\n",
       "      <td>20.0</td>\n",
       "      <td>9</td>\n",
       "      <td>True</td>\n",
       "      <td>80.0</td>\n",
       "    </tr>\n",
       "    <tr>\n",
       "      <th>4</th>\n",
       "      <td>3.13</td>\n",
       "      <td>4.9</td>\n",
       "      <td>4.4</td>\n",
       "      <td>1.19</td>\n",
       "      <td>Winterfell</td>\n",
       "      <td>2014-03-15</td>\n",
       "      <td>Android</td>\n",
       "      <td>2014-01-27</td>\n",
       "      <td>11.8</td>\n",
       "      <td>14</td>\n",
       "      <td>False</td>\n",
       "      <td>82.4</td>\n",
       "    </tr>\n",
       "  </tbody>\n",
       "</table>\n",
       "</div>"
      ],
      "text/plain": [
       "   avg_dist  avg_rating_by_driver  avg_rating_of_driver  avg_surge  \\\n",
       "0      3.67                   5.0                   4.7       1.10   \n",
       "1      8.26                   5.0                   5.0       1.00   \n",
       "2      0.77                   5.0                   4.3       1.00   \n",
       "3      2.36                   4.9                   4.6       1.14   \n",
       "4      3.13                   4.9                   4.4       1.19   \n",
       "\n",
       "             city last_trip_date    phone signup_date  surge_pct  \\\n",
       "0  King's Landing     2014-06-17   iPhone  2014-01-25       15.4   \n",
       "1         Astapor     2014-05-05  Android  2014-01-29        0.0   \n",
       "2         Astapor     2014-01-07   iPhone  2014-01-06        0.0   \n",
       "3  King's Landing     2014-06-29   iPhone  2014-01-10       20.0   \n",
       "4      Winterfell     2014-03-15  Android  2014-01-27       11.8   \n",
       "\n",
       "   trips_in_first_30_days  ultimate_black_user  weekday_pct  \n",
       "0                       4                 True         46.2  \n",
       "1                       0                False         50.0  \n",
       "2                       3                False        100.0  \n",
       "3                       9                 True         80.0  \n",
       "4                      14                False         82.4  "
      ]
     },
     "execution_count": 22,
     "metadata": {},
     "output_type": "execute_result"
    }
   ],
   "source": [
    "with open(\"data/ultimate_data_challenge.json\") as f:\n",
    "    df = pd.DataFrame(json.loads(f.read()))\n",
    "df.head()"
   ]
  },
  {
   "cell_type": "code",
   "execution_count": null,
   "metadata": {
    "collapsed": true
   },
   "outputs": [],
   "source": []
  },
  {
   "cell_type": "code",
   "execution_count": null,
   "metadata": {
    "collapsed": true
   },
   "outputs": [],
   "source": []
  },
  {
   "cell_type": "code",
   "execution_count": null,
   "metadata": {
    "collapsed": true
   },
   "outputs": [],
   "source": []
  },
  {
   "cell_type": "code",
   "execution_count": null,
   "metadata": {
    "collapsed": true
   },
   "outputs": [],
   "source": []
  },
  {
   "cell_type": "code",
   "execution_count": null,
   "metadata": {
    "collapsed": true
   },
   "outputs": [],
   "source": []
  },
  {
   "cell_type": "code",
   "execution_count": null,
   "metadata": {
    "collapsed": true
   },
   "outputs": [],
   "source": []
  },
  {
   "cell_type": "code",
   "execution_count": null,
   "metadata": {
    "collapsed": true
   },
   "outputs": [],
   "source": []
  },
  {
   "cell_type": "code",
   "execution_count": null,
   "metadata": {
    "collapsed": true
   },
   "outputs": [],
   "source": []
  },
  {
   "cell_type": "code",
   "execution_count": null,
   "metadata": {
    "collapsed": true
   },
   "outputs": [],
   "source": []
  },
  {
   "cell_type": "markdown",
   "metadata": {},
   "source": [
    "## Part 2 ‐ Experiment and metrics design\n",
    "\n",
    "The neighboring cities of Gotham and Metropolis have complementary circadian rhythms: on\n",
    "weekdays, Ultimate Gotham is most active at night, and Ultimate Metropolis is most active\n",
    "during the day. On weekends, there is reasonable activity in both cities.\n",
    "However, a toll bridge, with a two­way toll, between the two cities causes driver partners to tend\n",
    "to be exclusive to each city. The Ultimate managers of city operations for the two cities have\n",
    "proposed an experiment to encourage driver partners to be available in both cities, by\n",
    "reimbursing all toll costs.\n",
    "1. What would you choose as the key measure of success of this experiment in\n",
    "encouraging driver partners to serve both cities, and why would you choose this metric?\n",
    "2. Describe a practical experiment you would design to compare the effectiveness of the\n",
    "proposed change in relation to the key measure of success. Please provide details on:\n",
    "a. how you will implement the experiment\n",
    "b. what statistical test(s) you will conduct to verify the significance of the\n",
    "observation\n",
    "c. how you would interpret the results and provide recommendations to the city\n",
    "operations team along with any caveats."
   ]
  },
  {
   "cell_type": "markdown",
   "metadata": {},
   "source": [
    "## Part 3 ‐ Predictive modeling\n",
    "\n",
    "Ultimate is interested in predicting rider retention. To help explore this question, we have\n",
    "provided a sample dataset of a cohort of users who signed up for an Ultimate account in\n",
    "\n",
    "January 2014. The data was pulled several months later; we consider a user retained if they\n",
    "were “active” (i.e. took a trip) in the preceding 30 days.\n",
    "We would like you to use this data set to help understand what factors are the best predictors\n",
    "for retention, and offer suggestions to operationalize those insights to help Ultimate.\n",
    "The data is in the attached file ultimate_data_challenge.json. See below for a detailed\n",
    "description of the dataset. Please include any code you wrote for the analysis and delete the\n",
    "dataset when you have finished with the challenge.\n",
    "1. Perform any cleaning, exploratory analysis, and/or visualizations to use the provided\n",
    "data for this analysis (a few sentences/plots describing your approach will suffice). What\n",
    "fraction of the observed users were retained?\n",
    "2. Build a predictive model to help Ultimate determine whether or not a user will be active\n",
    "in their 6th month on the system. Discuss why you chose your approach, what\n",
    "alternatives you considered, and any concerns you have. How valid is your model?\n",
    "Include any key indicators of model performance.\n",
    "3. Briefly discuss how Ultimate might leverage the insights gained from the model to\n",
    "improve its long­term rider retention (again, a few sentences will suffice)."
   ]
  },
  {
   "cell_type": "markdown",
   "metadata": {},
   "source": [
    "## Data description\n",
    "\n",
    "- city: city this user signed up in\n",
    "- phone: primary device for this user\n",
    "- signup_date: date of account registration; in the form ‘YYYYMMDD’\n",
    "- last_trip_date: the last time this user completed a trip; in the form ‘YYYYMMDD’\n",
    "- avg_dist: the average distance in miles per trip taken in the first 30 days after signup\n",
    "- avg_rating_by_driver: the rider’s average rating over all of their trips\n",
    "- avg_rating_of_driver: the rider’s average rating of their drivers over all of their trips\n",
    "- surge_pct: the percent of trips taken with surge multiplier > 1\n",
    "- avg_surge: The average surge multiplier over all of this user’s trips\n",
    "- trips_in_first_30_days: the number of trips this user took in the first 30 days after\n",
    "signing up\n",
    "- ultimate_black_user: TRUE if the user took an Ultimate Black in their first 30 days;\n",
    "FALSE otherwise\n",
    "- weekday_pct: the percent of the user’s trips occurring during a weekday"
   ]
  },
  {
   "cell_type": "code",
   "execution_count": null,
   "metadata": {},
   "outputs": [],
   "source": []
  },
  {
   "cell_type": "code",
   "execution_count": null,
   "metadata": {
    "collapsed": true
   },
   "outputs": [],
   "source": []
  }
 ],
 "metadata": {
  "kernelspec": {
   "display_name": "Python 3",
   "language": "python",
   "name": "python3"
  },
  "language_info": {
   "codemirror_mode": {
    "name": "ipython",
    "version": 3
   },
   "file_extension": ".py",
   "mimetype": "text/x-python",
   "name": "python",
   "nbconvert_exporter": "python",
   "pygments_lexer": "ipython3",
   "version": "3.6.3"
  }
 },
 "nbformat": 4,
 "nbformat_minor": 2
}
