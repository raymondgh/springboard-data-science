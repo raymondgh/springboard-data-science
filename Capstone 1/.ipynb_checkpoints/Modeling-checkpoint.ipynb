{
 "cells": [
  {
   "cell_type": "markdown",
   "metadata": {},
   "source": [
    "# Initial Setup"
   ]
  },
  {
   "cell_type": "code",
   "execution_count": 1,
   "metadata": {
    "collapsed": true
   },
   "outputs": [],
   "source": [
    "import numpy as np\n",
    "import pandas as pd\n",
    "from sklearn import preprocessing\n",
    "from sklearn.decomposition import PCA\n",
    "from sklearn.model_selection import train_test_split\n",
    "from sklearn.linear_model import LogisticRegression\n",
    "from sklearn.neighbors import KNeighborsClassifier\n",
    "from sklearn.pipeline import Pipeline\n",
    "from sklearn.model_selection import GridSearchCV\n",
    "from sklearn.metrics import classification_report"
   ]
  },
  {
   "cell_type": "markdown",
   "metadata": {},
   "source": [
    "Import Processed data as Samples"
   ]
  },
  {
   "cell_type": "code",
   "execution_count": 18,
   "metadata": {
    "collapsed": true
   },
   "outputs": [],
   "source": [
    "samples = pd.read_csv(\"data/processed/samples.csv\", encoding=\"latin-1\")"
   ]
  },
  {
   "cell_type": "code",
   "execution_count": 19,
   "metadata": {},
   "outputs": [
    {
     "data": {
      "text/html": [
       "<div>\n",
       "<style>\n",
       "    .dataframe thead tr:only-child th {\n",
       "        text-align: right;\n",
       "    }\n",
       "\n",
       "    .dataframe thead th {\n",
       "        text-align: left;\n",
       "    }\n",
       "\n",
       "    .dataframe tbody tr th {\n",
       "        vertical-align: top;\n",
       "    }\n",
       "</style>\n",
       "<table border=\"1\" class=\"dataframe\">\n",
       "  <thead>\n",
       "    <tr style=\"text-align: right;\">\n",
       "      <th></th>\n",
       "      <th>establishments</th>\n",
       "      <th>employees</th>\n",
       "      <th>growth</th>\n",
       "      <th>exemptions_stay</th>\n",
       "      <th>exemptions_in_is</th>\n",
       "      <th>exemptions_in_oos</th>\n",
       "      <th>exemptions_out_is</th>\n",
       "      <th>exemptions_out_oos</th>\n",
       "      <th>returns_stay</th>\n",
       "      <th>returns_in_is</th>\n",
       "      <th>returns_in_oos</th>\n",
       "      <th>returns_out_is</th>\n",
       "      <th>returns_out_oos</th>\n",
       "      <th>agi_stay</th>\n",
       "      <th>agi_in_is</th>\n",
       "      <th>agi_in_oos</th>\n",
       "      <th>agi_out_is</th>\n",
       "      <th>agi_out_oos</th>\n",
       "    </tr>\n",
       "  </thead>\n",
       "  <tbody>\n",
       "    <tr>\n",
       "      <th>0</th>\n",
       "      <td>35</td>\n",
       "      <td>157</td>\n",
       "      <td>False</td>\n",
       "      <td>35901.0</td>\n",
       "      <td>2185.0</td>\n",
       "      <td>4184.0</td>\n",
       "      <td>1883.0</td>\n",
       "      <td>3338.0</td>\n",
       "      <td>15062.0</td>\n",
       "      <td>951.0</td>\n",
       "      <td>1410.0</td>\n",
       "      <td>853.0</td>\n",
       "      <td>1245.0</td>\n",
       "      <td>714261.0</td>\n",
       "      <td>32399.0</td>\n",
       "      <td>73510.0</td>\n",
       "      <td>26576.0</td>\n",
       "      <td>59705.0</td>\n",
       "    </tr>\n",
       "    <tr>\n",
       "      <th>1</th>\n",
       "      <td>34</td>\n",
       "      <td>175</td>\n",
       "      <td>False</td>\n",
       "      <td>36850.0</td>\n",
       "      <td>2519.0</td>\n",
       "      <td>4209.0</td>\n",
       "      <td>2102.0</td>\n",
       "      <td>3545.0</td>\n",
       "      <td>15473.0</td>\n",
       "      <td>1139.0</td>\n",
       "      <td>1551.0</td>\n",
       "      <td>971.0</td>\n",
       "      <td>1307.0</td>\n",
       "      <td>756692.0</td>\n",
       "      <td>38883.0</td>\n",
       "      <td>82027.0</td>\n",
       "      <td>31657.0</td>\n",
       "      <td>70658.0</td>\n",
       "    </tr>\n",
       "    <tr>\n",
       "      <th>2</th>\n",
       "      <td>30</td>\n",
       "      <td>109</td>\n",
       "      <td>True</td>\n",
       "      <td>37767.0</td>\n",
       "      <td>2394.0</td>\n",
       "      <td>4168.0</td>\n",
       "      <td>2127.0</td>\n",
       "      <td>3443.0</td>\n",
       "      <td>15944.0</td>\n",
       "      <td>1072.0</td>\n",
       "      <td>1447.0</td>\n",
       "      <td>1025.0</td>\n",
       "      <td>1284.0</td>\n",
       "      <td>827611.0</td>\n",
       "      <td>37153.0</td>\n",
       "      <td>79737.0</td>\n",
       "      <td>36112.0</td>\n",
       "      <td>67092.0</td>\n",
       "    </tr>\n",
       "    <tr>\n",
       "      <th>3</th>\n",
       "      <td>38</td>\n",
       "      <td>116</td>\n",
       "      <td>False</td>\n",
       "      <td>39518.0</td>\n",
       "      <td>2548.0</td>\n",
       "      <td>3863.0</td>\n",
       "      <td>2047.0</td>\n",
       "      <td>3601.0</td>\n",
       "      <td>16791.0</td>\n",
       "      <td>1185.0</td>\n",
       "      <td>1458.0</td>\n",
       "      <td>989.0</td>\n",
       "      <td>1398.0</td>\n",
       "      <td>901200.0</td>\n",
       "      <td>43332.0</td>\n",
       "      <td>83366.0</td>\n",
       "      <td>34063.0</td>\n",
       "      <td>69089.0</td>\n",
       "    </tr>\n",
       "    <tr>\n",
       "      <th>4</th>\n",
       "      <td>37</td>\n",
       "      <td>0</td>\n",
       "      <td>False</td>\n",
       "      <td>40719.0</td>\n",
       "      <td>2230.0</td>\n",
       "      <td>3873.0</td>\n",
       "      <td>2118.0</td>\n",
       "      <td>3660.0</td>\n",
       "      <td>17385.0</td>\n",
       "      <td>1038.0</td>\n",
       "      <td>1462.0</td>\n",
       "      <td>1018.0</td>\n",
       "      <td>1375.0</td>\n",
       "      <td>936888.0</td>\n",
       "      <td>36050.0</td>\n",
       "      <td>79697.0</td>\n",
       "      <td>34539.0</td>\n",
       "      <td>75861.0</td>\n",
       "    </tr>\n",
       "  </tbody>\n",
       "</table>\n",
       "</div>"
      ],
      "text/plain": [
       "   establishments  employees  growth  exemptions_stay  exemptions_in_is  \\\n",
       "0              35        157   False          35901.0            2185.0   \n",
       "1              34        175   False          36850.0            2519.0   \n",
       "2              30        109    True          37767.0            2394.0   \n",
       "3              38        116   False          39518.0            2548.0   \n",
       "4              37          0   False          40719.0            2230.0   \n",
       "\n",
       "   exemptions_in_oos  exemptions_out_is  exemptions_out_oos  returns_stay  \\\n",
       "0             4184.0             1883.0              3338.0       15062.0   \n",
       "1             4209.0             2102.0              3545.0       15473.0   \n",
       "2             4168.0             2127.0              3443.0       15944.0   \n",
       "3             3863.0             2047.0              3601.0       16791.0   \n",
       "4             3873.0             2118.0              3660.0       17385.0   \n",
       "\n",
       "   returns_in_is  returns_in_oos  returns_out_is  returns_out_oos  agi_stay  \\\n",
       "0          951.0          1410.0           853.0           1245.0  714261.0   \n",
       "1         1139.0          1551.0           971.0           1307.0  756692.0   \n",
       "2         1072.0          1447.0          1025.0           1284.0  827611.0   \n",
       "3         1185.0          1458.0           989.0           1398.0  901200.0   \n",
       "4         1038.0          1462.0          1018.0           1375.0  936888.0   \n",
       "\n",
       "   agi_in_is  agi_in_oos  agi_out_is  agi_out_oos  \n",
       "0    32399.0     73510.0     26576.0      59705.0  \n",
       "1    38883.0     82027.0     31657.0      70658.0  \n",
       "2    37153.0     79737.0     36112.0      67092.0  \n",
       "3    43332.0     83366.0     34063.0      69089.0  \n",
       "4    36050.0     79697.0     34539.0      75861.0  "
      ]
     },
     "execution_count": 19,
     "metadata": {},
     "output_type": "execute_result"
    }
   ],
   "source": [
    "samples = samples.drop(\"Unnamed: 0\", axis=1)\n",
    "samples.head()"
   ]
  },
  {
   "cell_type": "markdown",
   "metadata": {},
   "source": [
    "Split off a hold-out test set of data"
   ]
  },
  {
   "cell_type": "code",
   "execution_count": 20,
   "metadata": {
    "collapsed": true
   },
   "outputs": [],
   "source": [
    "y = samples[\"growth\"]\n",
    "X = samples.drop(\"growth\", axis=1)\n",
    "X_train, X_test, y_train, y_test = train_test_split(X, y, test_size=0.25, random_state=36)"
   ]
  },
  {
   "cell_type": "markdown",
   "metadata": {},
   "source": [
    "# Testing Various Models\n",
    "## Model 1: Logistic Regression"
   ]
  },
  {
   "cell_type": "code",
   "execution_count": 22,
   "metadata": {
    "collapsed": true
   },
   "outputs": [],
   "source": [
    "# define steps and hyperparameter ranges\n",
    "steps = [(\"scaler\", preprocessing.StandardScaler()),\n",
    "        (\"pca\", PCA()),\n",
    "        (\"model\", LogisticRegression())]\n",
    "parameters = {\"pca__n_components\":np.arange(1,18)}"
   ]
  },
  {
   "cell_type": "code",
   "execution_count": 23,
   "metadata": {
    "collapsed": true
   },
   "outputs": [],
   "source": [
    "# create pipeline and train model\n",
    "pipeline = Pipeline(steps)\n",
    "cv = GridSearchCV(pipeline, parameters)\n",
    "cv.fit(X_train, y_train)\n"
   ]
  },
  {
   "cell_type": "code",
   "execution_count": 32,
   "metadata": {},
   "outputs": [
    {
     "name": "stdout",
     "output_type": "stream",
     "text": [
      "Best Score: 0.652959898154\n",
      "Best Params: {'pca__n_components': 16}\n",
      "Classification Report:\n",
      "             precision    recall  f1-score   support\n",
      "\n",
      "      False       0.66      0.97      0.78      5044\n",
      "       True       0.60      0.09      0.16      2811\n",
      "\n",
      "avg / total       0.64      0.65      0.56      7855\n",
      "\n"
     ]
    }
   ],
   "source": [
    "# score the model\n",
    "y_pred = cv.predict(X_test)\n",
    "print(\"Best Score:\", cv.score(X_test, y_test))\n",
    "print(\"Best Params:\", cv.best_params_)\n",
    "print(\"Classification Report:\")\n",
    "print(classification_report(y_test, y_pred))"
   ]
  },
  {
   "cell_type": "markdown",
   "metadata": {},
   "source": [
    "## Model 2: Nearest Neighbors"
   ]
  },
  {
   "cell_type": "code",
   "execution_count": 36,
   "metadata": {
    "collapsed": true
   },
   "outputs": [],
   "source": [
    "# define steps and hyperparameter ranges\n",
    "steps = [(\"scaler\", preprocessing.StandardScaler()),\n",
    "        (\"pca\", PCA()),\n",
    "        (\"model\", KNeighborsClassifier())]\n",
    "parameters = {\"pca__n_components\":np.arange(1,18),\n",
    "             \"model__n_neighbors\":np.arange(1,10)}"
   ]
  },
  {
   "cell_type": "code",
   "execution_count": 37,
   "metadata": {
    "collapsed": true
   },
   "outputs": [],
   "source": [
    "# create pipeline and train model\n",
    "pipeline = Pipeline(steps)\n",
    "cv = GridSearchCV(pipeline, parameters)\n",
    "cv.fit(X_train, y_train)\n",
    "y_pred = cv.predict(X_test)"
   ]
  },
  {
   "cell_type": "code",
   "execution_count": 38,
   "metadata": {},
   "outputs": [
    {
     "name": "stdout",
     "output_type": "stream",
     "text": [
      "Best Score: 0.624188415022\n",
      "Best Params: {'model__n_neighbors': 8, 'pca__n_components': 4}\n",
      "Classification Report:\n",
      "             precision    recall  f1-score   support\n",
      "\n",
      "      False       0.66      0.87      0.75      5044\n",
      "       True       0.44      0.18      0.26      2811\n",
      "\n",
      "avg / total       0.58      0.62      0.57      7855\n",
      "\n"
     ]
    }
   ],
   "source": [
    "#score the model\n",
    "y_pred = cv.predict(X_test)\n",
    "print(\"Best Score:\", cv.score(X_test, y_test))\n",
    "print(\"Best Params:\", cv.best_params_)\n",
    "print(\"Classification Report:\")\n",
    "print(classification_report(y_test, y_pred))"
   ]
  },
  {
   "cell_type": "markdown",
   "metadata": {},
   "source": [
    "## Model 3: Naive Bayes"
   ]
  },
  {
   "cell_type": "markdown",
   "metadata": {},
   "source": [
    "#use this\n",
    "https://github.com/raymondgh/springboard-data-science/blob/master/Minor%20Projects%20and%20Exercises/Naive%20Bayes%20-%20Predicting%20Movie%20Ratings/Mini_Project_Naive_Bayes.ipynb"
   ]
  },
  {
   "cell_type": "code",
   "execution_count": null,
   "metadata": {
    "collapsed": true
   },
   "outputs": [],
   "source": []
  },
  {
   "cell_type": "code",
   "execution_count": null,
   "metadata": {
    "collapsed": true
   },
   "outputs": [],
   "source": []
  },
  {
   "cell_type": "markdown",
   "metadata": {},
   "source": [
    "## Model 4: Random Forest"
   ]
  },
  {
   "cell_type": "code",
   "execution_count": 41,
   "metadata": {
    "collapsed": true
   },
   "outputs": [],
   "source": [
    "#use this http://scikit-learn.org/stable/modules/generated/sklearn.ensemble.RandomForestClassifier.html"
   ]
  },
  {
   "cell_type": "code",
   "execution_count": null,
   "metadata": {
    "collapsed": true
   },
   "outputs": [],
   "source": []
  },
  {
   "cell_type": "code",
   "execution_count": null,
   "metadata": {
    "collapsed": true
   },
   "outputs": [],
   "source": []
  },
  {
   "cell_type": "markdown",
   "metadata": {},
   "source": [
    "## Model 5: Support Vector Machine"
   ]
  },
  {
   "cell_type": "code",
   "execution_count": 40,
   "metadata": {
    "collapsed": true
   },
   "outputs": [],
   "source": [
    "#use this http://scikit-learn.org/stable/modules/svm.html"
   ]
  },
  {
   "cell_type": "code",
   "execution_count": null,
   "metadata": {
    "collapsed": true
   },
   "outputs": [],
   "source": []
  },
  {
   "cell_type": "code",
   "execution_count": null,
   "metadata": {
    "collapsed": true
   },
   "outputs": [],
   "source": []
  },
  {
   "cell_type": "markdown",
   "metadata": {},
   "source": [
    "# Intepretation"
   ]
  },
  {
   "cell_type": "code",
   "execution_count": null,
   "metadata": {
    "collapsed": true
   },
   "outputs": [],
   "source": []
  }
 ],
 "metadata": {
  "kernelspec": {
   "display_name": "Python 3",
   "language": "python",
   "name": "python3"
  },
  "language_info": {
   "codemirror_mode": {
    "name": "ipython",
    "version": 3
   },
   "file_extension": ".py",
   "mimetype": "text/x-python",
   "name": "python",
   "nbconvert_exporter": "python",
   "pygments_lexer": "ipython3",
   "version": "3.6.3"
  }
 },
 "nbformat": 4,
 "nbformat_minor": 2
}
