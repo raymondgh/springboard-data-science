{
 "cells": [
  {
   "cell_type": "markdown",
   "metadata": {},
   "source": [
    "# What is the True Normal Human Body Temperature? \n",
    "\n",
    "#### Background\n",
    "\n",
    "The mean normal body temperature was held to be 37$^{\\circ}$C or 98.6$^{\\circ}$F for more than 120 years since it was first conceptualized and reported by Carl Wunderlich in a famous 1868 book. But, is this value statistically correct?"
   ]
  },
  {
   "cell_type": "markdown",
   "metadata": {},
   "source": [
    "<h3>Exercises</h3>\n",
    "\n",
    "<p>In this exercise, you will analyze a dataset of human body temperatures and employ the concepts of hypothesis testing, confidence intervals, and statistical significance.</p>\n",
    "\n",
    "<p>Answer the following questions <b>in this notebook below and submit to your Github account</b>.</p> \n",
    "\n",
    "<ol>\n",
    "<li>  Is the distribution of body temperatures normal? \n",
    "    <ul>\n",
    "    <li> Although this is not a requirement for CLT to hold (read CLT carefully), it gives us some peace of mind that the population may also be normally distributed if we assume that this sample is representative of the population.\n",
    "    </ul>\n",
    "<li>  Is the sample size large? Are the observations independent?\n",
    "    <ul>\n",
    "    <li> Remember that this is a condition for the CLT, and hence the statistical tests we are using, to apply.\n",
    "    </ul>\n",
    "<li>  Is the true population mean really 98.6 degrees F?\n",
    "    <ul>\n",
    "    <li> Would you use a one-sample or two-sample test? Why?\n",
    "    <li> In this situation, is it appropriate to use the $t$ or $z$ statistic? \n",
    "    <li> Now try using the other test. How is the result be different? Why?\n",
    "    </ul>\n",
    "<li>  Draw a small sample of size 10 from the data and repeat both tests. \n",
    "    <ul>\n",
    "    <li> Which one is the correct one to use? \n",
    "    <li> What do you notice? What does this tell you about the difference in application of the $t$ and $z$ statistic?\n",
    "    </ul>\n",
    "<li>  At what temperature should we consider someone's temperature to be \"abnormal\"?\n",
    "    <ul>\n",
    "    <li> Start by computing the margin of error and confidence interval.\n",
    "    </ul>\n",
    "<li>  Is there a significant difference between males and females in normal temperature?\n",
    "    <ul>\n",
    "    <li> What test did you use and why?\n",
    "    <li> Write a story with your conclusion in the context of the original problem.\n",
    "    </ul>\n",
    "</ol>\n",
    "\n",
    "You can include written notes in notebook cells using Markdown: \n",
    "   - In the control panel at the top, choose Cell > Cell Type > Markdown\n",
    "   - Markdown syntax: http://nestacms.com/docs/creating-content/markdown-cheat-sheet\n",
    "\n",
    "#### Resources\n",
    "\n",
    "+ Information and data sources: http://www.amstat.org/publications/jse/datasets/normtemp.txt, http://www.amstat.org/publications/jse/jse_data_archive.htm\n",
    "+ Markdown syntax: http://nestacms.com/docs/creating-content/markdown-cheat-sheet\n",
    "\n",
    "****"
   ]
  },
  {
   "cell_type": "code",
   "execution_count": 1,
   "metadata": {
    "collapsed": true
   },
   "outputs": [],
   "source": [
    "import pandas as pd\n",
    "import numpy as np\n",
    "import seaborn as sns\n",
    "import matplotlib.pyplot as plt\n",
    "from scipy import stats\n",
    "\n",
    "df = pd.read_csv('data/human_body_temperature.csv')"
   ]
  },
  {
   "cell_type": "code",
   "execution_count": 2,
   "metadata": {},
   "outputs": [
    {
     "data": {
      "text/html": [
       "<div>\n",
       "<style>\n",
       "    .dataframe thead tr:only-child th {\n",
       "        text-align: right;\n",
       "    }\n",
       "\n",
       "    .dataframe thead th {\n",
       "        text-align: left;\n",
       "    }\n",
       "\n",
       "    .dataframe tbody tr th {\n",
       "        vertical-align: top;\n",
       "    }\n",
       "</style>\n",
       "<table border=\"1\" class=\"dataframe\">\n",
       "  <thead>\n",
       "    <tr style=\"text-align: right;\">\n",
       "      <th></th>\n",
       "      <th>temperature</th>\n",
       "      <th>heart_rate</th>\n",
       "    </tr>\n",
       "  </thead>\n",
       "  <tbody>\n",
       "    <tr>\n",
       "      <th>count</th>\n",
       "      <td>130.000000</td>\n",
       "      <td>130.000000</td>\n",
       "    </tr>\n",
       "    <tr>\n",
       "      <th>mean</th>\n",
       "      <td>98.249231</td>\n",
       "      <td>73.761538</td>\n",
       "    </tr>\n",
       "    <tr>\n",
       "      <th>std</th>\n",
       "      <td>0.733183</td>\n",
       "      <td>7.062077</td>\n",
       "    </tr>\n",
       "    <tr>\n",
       "      <th>min</th>\n",
       "      <td>96.300000</td>\n",
       "      <td>57.000000</td>\n",
       "    </tr>\n",
       "    <tr>\n",
       "      <th>25%</th>\n",
       "      <td>97.800000</td>\n",
       "      <td>69.000000</td>\n",
       "    </tr>\n",
       "    <tr>\n",
       "      <th>50%</th>\n",
       "      <td>98.300000</td>\n",
       "      <td>74.000000</td>\n",
       "    </tr>\n",
       "    <tr>\n",
       "      <th>75%</th>\n",
       "      <td>98.700000</td>\n",
       "      <td>79.000000</td>\n",
       "    </tr>\n",
       "    <tr>\n",
       "      <th>max</th>\n",
       "      <td>100.800000</td>\n",
       "      <td>89.000000</td>\n",
       "    </tr>\n",
       "  </tbody>\n",
       "</table>\n",
       "</div>"
      ],
      "text/plain": [
       "       temperature  heart_rate\n",
       "count   130.000000  130.000000\n",
       "mean     98.249231   73.761538\n",
       "std       0.733183    7.062077\n",
       "min      96.300000   57.000000\n",
       "25%      97.800000   69.000000\n",
       "50%      98.300000   74.000000\n",
       "75%      98.700000   79.000000\n",
       "max     100.800000   89.000000"
      ]
     },
     "execution_count": 2,
     "metadata": {},
     "output_type": "execute_result"
    }
   ],
   "source": [
    "df.describe()"
   ]
  },
  {
   "cell_type": "code",
   "execution_count": 208,
   "metadata": {
    "collapsed": true
   },
   "outputs": [],
   "source": [
    "mean = np.mean(df[\"temperature\"])\n",
    "std = np.std(df[\"temperature\"])\n",
    "n = len(df[\"temperature\"].dropna())"
   ]
  },
  {
   "cell_type": "code",
   "execution_count": 4,
   "metadata": {
    "collapsed": true
   },
   "outputs": [],
   "source": [
    "samples = np.random.normal(mean, std, size=10000)"
   ]
  },
  {
   "cell_type": "code",
   "execution_count": 5,
   "metadata": {
    "collapsed": true
   },
   "outputs": [],
   "source": [
    "def ecdf(data):\n",
    "    \"\"\"Compute ECDF for a one-dimensional array of measurements.\"\"\"\n",
    "\n",
    "    # Number of data points: n\n",
    "    n = len(data)\n",
    "\n",
    "    # x-data for the ECDF: x\n",
    "    x = np.sort(data)\n",
    "\n",
    "    # y-data for the ECDF: y\n",
    "    y = np.arange(1, n+1) / n\n",
    "\n",
    "    return x, y"
   ]
  },
  {
   "cell_type": "code",
   "execution_count": 6,
   "metadata": {
    "collapsed": true
   },
   "outputs": [],
   "source": [
    "x, y = ecdf(df[\"temperature\"])\n",
    "x_theor, y_theor = ecdf(samples)"
   ]
  },
  {
   "cell_type": "code",
   "execution_count": 120,
   "metadata": {},
   "outputs": [
    {
     "data": {
      "image/png": "[encoded data removed]",
      "text/plain": [
       "<matplotlib.figure.Figure at 0x242ce8eaeb8>"
      ]
     },
     "metadata": {},
     "output_type": "display_data"
    }
   ],
   "source": [
    "sns.set()\n",
    "_ = plt.plot(x_theor, y_theor)\n",
    "_ = plt.plot(x, y, marker=\".\", linestyle=\"none\")\n",
    "_ = plt.xlabel(\"body temperature (f)\")\n",
    "_ = plt.ylabel(\"CDF\")\n",
    "_ = plt.legend(('Normal Distribution', 'Empirical Data'), loc='lower right')\n",
    "plt.show()"
   ]
  },
  {
   "cell_type": "code",
   "execution_count": 8,
   "metadata": {},
   "outputs": [
    {
     "data": {
      "text/plain": [
       "NormaltestResult(statistic=2.7038014333192031, pvalue=0.2587479863488254)"
      ]
     },
     "execution_count": 8,
     "metadata": {},
     "output_type": "execute_result"
    }
   ],
   "source": [
    "stats.normaltest(df[\"temperature\"])"
   ]
  },
  {
   "cell_type": "markdown",
   "metadata": {},
   "source": [
    "## 1. Is the distribution of body temperatures normal? \n",
    "\n",
    "The normal CDF overlaid with the data CDF shows promise that the data may be normally distributed. It's very close to the curve, but there are some spots with visible variance. A null hypothesis asserts that the temperature data is distributed normally. SciPy's handy normaltest function, produces a p-value of 0.2587, far too high to reject the null hypothesis. The temperature data therefore is normally distributed.\n",
    "\n",
    "## 2. Is the sample size large? Are the observations independent? \n",
    "\n",
    "As far as the Central Limit Theorem is concerned, the sample size of 130 observations is sufficiently large, as it is above the commonly espoused minimum of 30 samples. The observations can be declared indepedent as well, because one person's temperature does not affect another's. The data is naturally unordered.\n",
    "\n",
    "## 3. Is the true population mean really 98.6 degrees F?\n",
    "\n",
    "Since the sample data not being compared to another group, a one-sample test can be used. The data is assumed to follow the normal distribution. That condition, plus the large sample size (> 30 observations) allow the preferable Z-Test.\n",
    "\n",
    "Null Hypothesis: The true population mean is equal to the conventional mean 98.6 F\n",
    "\n",
    "Alternative hypothesis: The true population mean is not equal to the conventional mean 98.6 F\n",
    "\n",
    "For this test, a 95% confidence level will be used"
   ]
  },
  {
   "cell_type": "code",
   "execution_count": 219,
   "metadata": {},
   "outputs": [
    {
     "name": "stdout",
     "output_type": "stream",
     "text": [
      "The 95% confidence interval is (98.123682111456645, 98.37477942700491)\n"
     ]
    }
   ],
   "source": [
    "# z_critical value for normal distribution given a two-tailed error\n",
    "# the z-critical value for 95% confidence is commonly represented as 1.96 as per textbook lookup tables\n",
    "z_critical = stats.norm.ppf(q = 0.975)\n",
    "\n",
    "# sigma represents the population standard deviation for which we use the sample standard deviation\n",
    "sigma = std\n",
    "\n",
    "# margin of error for the sample mean is computed as such\n",
    "moe = z_critical * sigma / np.sqrt(n)\n",
    "\n",
    "# show the 95% confidence interval\n",
    "ci = (mean - moe, mean + moe)\n",
    "\n",
    "print(\"The 95% confidence interval is\", ci)"
   ]
  },
  {
   "cell_type": "markdown",
   "metadata": {},
   "source": [
    "Since the given population mean of 98.6 is not found within the 95% confidence interval, the null hypothesis is rejected.\n",
    "\n",
    "A T-Test could be arguably more relevant, as it doesn't assume the population standard deviation is the same as the sample's. The same hypothesis and confidence requirement will be used."
   ]
  },
  {
   "cell_type": "code",
   "execution_count": 189,
   "metadata": {},
   "outputs": [
    {
     "data": {
      "text/plain": [
       "Ttest_1sampResult(statistic=-5.4548232923645195, pvalue=2.4106320415561276e-07)"
      ]
     },
     "execution_count": 189,
     "metadata": {},
     "output_type": "execute_result"
    }
   ],
   "source": [
    "stats.ttest_1samp(df[\"temperature\"], 98.6)"
   ]
  },
  {
   "cell_type": "code",
   "execution_count": 248,
   "metadata": {},
   "outputs": [
    {
     "name": "stdout",
     "output_type": "stream",
     "text": [
      "t_test_statistic: -5.45482329236\n",
      "pvalue: 2.41063204156e-07\n",
      "test_stat2: -1.97852449146\n",
      "test_stat2: 1.97852449146\n",
      "pvalue2: 2.41063204156e-07\n"
     ]
    }
   ],
   "source": [
    "# this t value shows how much the sample differs from the null hypothesis\n",
    "t_test_statistic = stats.ttest_1samp(df[\"temperature\"], 98.6).statistic\n",
    "pvalue           = stats.ttest_1samp(df[\"temperature\"], 98.6).pvalue\n",
    "\n",
    "print(\"t_test_statistic:\", t_test_statistic)\n",
    "print(\"pvalue:\", pvalue)\n",
    "\n",
    "# next, check the quantiles of the t-distribution of the with 95% confidence\n",
    "test_stat1 = stats.t.ppf(.025, n-1)\n",
    "print(\"test_stat2:\", test_stat1)\n",
    "\n",
    "test_stat2 = stats.t.ppf(.975, n-1)\n",
    "print(\"test_stat2:\", test_stat2)\n",
    "\n",
    "# now check the probability of the sample's occurrance given that the null hypothesis is true\n",
    "pvalue2 = stats.t.cdf(t_test_statistic, n-1) * 2\n",
    "\n",
    "print(\"pvalue2:\", pvalue2)"
   ]
  },
  {
   "cell_type": "markdown",
   "metadata": {},
   "source": [
    "A p-value of 2.41e-07 means that observing data as extreme as the sample would happen about 0.0000241% of the time if the null hypothesis were true. In this case, the p-value is much lower than the significance level of 0.05, so the null hypothesis is rejected, as intuitively expected.\n",
    "\n",
    "A T-distribution is similar to a normal distribution, but varies by sample size. As sample size increases, the curve narrows, approaching the normal curve. With a sample of 130 observations, the curve is still wider, producing a larger critical value and wider confidence interval, shown below."
   ]
  },
  {
   "cell_type": "code",
   "execution_count": 218,
   "metadata": {},
   "outputs": [
    {
     "data": {
      "text/plain": [
       "(98.12249318821641, 98.375968350245145)"
      ]
     },
     "execution_count": 218,
     "metadata": {},
     "output_type": "execute_result"
    }
   ],
   "source": [
    "stats.t.interval(alpha=.95, df=n-1, loc=mean, scale=std / np.sqrt(n))"
   ]
  },
  {
   "cell_type": "markdown",
   "metadata": {},
   "source": [
    "## 4. Draw a small sample of size 10 from the data and repeat both tests.\n",
    "\n",
    "Small Sample"
   ]
  },
  {
   "cell_type": "code",
   "execution_count": 283,
   "metadata": {},
   "outputs": [
    {
     "name": "stdout",
     "output_type": "stream",
     "text": [
      "[ 97.7  98.8  98.8  98.2  98.7  98.2  98.5  98.   97.9  98.7]\n"
     ]
    }
   ],
   "source": [
    "# drawing a small sample of size 10\n",
    "small_n = 10\n",
    "small = np.random.choice(df[\"temperature\"], small_n)\n",
    "small_mean = np.mean(small)\n",
    "small_std = np.std(small)\n",
    "print(small)"
   ]
  },
  {
   "cell_type": "markdown",
   "metadata": {},
   "source": [
    "Z-Test"
   ]
  },
  {
   "cell_type": "code",
   "execution_count": 284,
   "metadata": {},
   "outputs": [
    {
     "name": "stdout",
     "output_type": "stream",
     "text": [
      "The 95% confidence interval is (98.112771477846422, 98.587228522153566)\n"
     ]
    }
   ],
   "source": [
    "# z_critical value for normal distribution given a two-tailed error\n",
    "# the z-critical value for 95% confidence is commonly represented as 1.96 as per textbook lookup tables\n",
    "small_z_critical = stats.norm.ppf(q = 0.975)\n",
    "\n",
    "# sigma represents the population standard deviation for which we use the sample standard deviation\n",
    "small_sigma = small_std\n",
    "\n",
    "# margin of error for the sample mean is computed as such\n",
    "small_moe = small_z_critical * small_sigma / np.sqrt(small_n)\n",
    "\n",
    "# show the 95% confidence interval\n",
    "small_ci = (small_mean - small_moe, small_mean + small_moe)\n",
    "\n",
    "print(\"The 95% confidence interval is\", small_ci)"
   ]
  },
  {
   "cell_type": "markdown",
   "metadata": {},
   "source": [
    "T-Test"
   ]
  },
  {
   "cell_type": "code",
   "execution_count": 285,
   "metadata": {
    "scrolled": true
   },
   "outputs": [
    {
     "name": "stdout",
     "output_type": "stream",
     "text": [
      "t_test_statistic: -5.45482329236\n",
      "pvalue: 2.41063204156e-07\n",
      "test_stat2: -2.26215716274\n",
      "test_stat2: 2.26215716274\n",
      "pvalue2: 0.000403129999163\n"
     ]
    }
   ],
   "source": [
    "# this t value shows how much the sample differs from the null hypothesis\n",
    "small_t_test_statistic = stats.ttest_1samp(df[\"temperature\"], 98.6).statistic\n",
    "small_pvalue           = stats.ttest_1samp(df[\"temperature\"], 98.6).pvalue\n",
    "\n",
    "print(\"t_test_statistic:\", small_t_test_statistic)\n",
    "print(\"pvalue:\", small_pvalue)\n",
    "\n",
    "# next, check the quantiles of the t-distribution of the with 95% confidence\n",
    "small_test_stat1 = stats.t.ppf(.025, small_n-1)\n",
    "print(\"test_stat2:\", small_test_stat1)\n",
    "\n",
    "small_test_stat2 = stats.t.ppf(.975, small_n-1)\n",
    "print(\"test_stat2:\", small_test_stat2)\n",
    "\n",
    "# now check the probability of the sample's occurrance given that the null hypothesis is true\n",
    "small_pvalue2 = stats.t.cdf(small_t_test_statistic, small_n-1) * 2\n",
    "\n",
    "print(\"pvalue2:\", small_pvalue2)"
   ]
  },
  {
   "cell_type": "code",
   "execution_count": 286,
   "metadata": {},
   "outputs": [
    {
     "data": {
      "text/plain": [
       "(98.076194866421432, 98.623805133578557)"
      ]
     },
     "execution_count": 286,
     "metadata": {},
     "output_type": "execute_result"
    }
   ],
   "source": [
    "stats.t.interval(alpha=.95, df=small_n-1, loc=small_mean, scale=small_std / np.sqrt(small_n))"
   ]
  },
  {
   "cell_type": "markdown",
   "metadata": {},
   "source": [
    "Now that the sample size is reduced to below the magical, statistical threshold of 30, the T-Test should be more appropriate. Both tests now produce increased margins of error and often include the given population mean of 98.6 degrees, preventing the consistent rejection of the null hypothesis at 95% confidence in the sample. The confidence intervals above for Z and T tests reject and retain the null hypothesis respectively.\n",
    "\n",
    "This illustrates the importance of repeating experiments and the value of drawing more samples."
   ]
  },
  {
   "cell_type": "markdown",
   "metadata": {},
   "source": [
    "## 5. At what temperature should we consider someone's temperature to be \"abnormal\"?\n",
    "\n",
    "As of 2018, it has become difficult to label someone as abnormal. In this exercise, a prediction interval is used to make a defensible attempt at doing so."
   ]
  },
  {
   "cell_type": "code",
   "execution_count": 334,
   "metadata": {},
   "outputs": [
    {
     "name": "stdout",
     "output_type": "stream",
     "text": [
      "(97.976036302927326, 98.522425235534229)\n",
      "The 95% confidence interval would suggest 89 of 130 people are abnormal\n"
     ]
    }
   ],
   "source": [
    "print(ci)\n",
    "low, high = ci\n",
    "abnormals = (df[\"temperature\"] < low).sum() + (df[\"temperature\"] > high).sum()\n",
    "print(\"The 95% confidence interval would suggest\", str(abnormals), \"of 130 people are abnormal\")"
   ]
  },
  {
   "cell_type": "markdown",
   "metadata": {},
   "source": [
    "Disregarding the assignment's suggestion to use a confidence interval, a prediction interval is used to find the range that encompasses 95% of observations."
   ]
  },
  {
   "cell_type": "code",
   "execution_count": 351,
   "metadata": {},
   "outputs": [
    {
     "data": {
      "text/plain": [
       "(96.798652852736836, 99.699808685724719)"
      ]
     },
     "execution_count": 351,
     "metadata": {},
     "output_type": "execute_result"
    }
   ],
   "source": [
    "# prediction interval with t-distribution\n",
    "t_critical = stats.t.ppf(0.975, n-1)\n",
    "mean - t_critical * np.sqrt(1 + 1/n) * std, mean + t_critical * np.sqrt(1 + 1/n) * std"
   ]
  },
  {
   "cell_type": "code",
   "execution_count": 353,
   "metadata": {},
   "outputs": [
    {
     "data": {
      "text/plain": [
       "(96.81775582674824, 99.680705711713316)"
      ]
     },
     "execution_count": 353,
     "metadata": {},
     "output_type": "execute_result"
    }
   ],
   "source": [
    "# prediction interval with normal distribution\n",
    "stats.norm.interval(0.95, loc=mean, scale=std)"
   ]
  },
  {
   "cell_type": "code",
   "execution_count": 354,
   "metadata": {},
   "outputs": [
    {
     "data": {
      "text/plain": [
       "(97.04499999999999, 99.3)"
      ]
     },
     "execution_count": 354,
     "metadata": {},
     "output_type": "execute_result"
    }
   ],
   "source": [
    "# good old fashioned quantile definition\n",
    "df[\"temperature\"].quantile(.05), df[\"temperature\"].quantile(.95)"
   ]
  },
  {
   "cell_type": "markdown",
   "metadata": {},
   "source": [
    "## 6. Is there a significant difference between males and females in normal temperature?\n",
    "\n",
    " - What test did you use and why?\n",
    " - Write a story with your conclusion in the context of the original problem. \n",
    "\n",
    "\n"
   ]
  },
  {
   "cell_type": "code",
   "execution_count": 328,
   "metadata": {},
   "outputs": [
    {
     "data": {
      "text/plain": [
       "130"
      ]
     },
     "execution_count": 328,
     "metadata": {},
     "output_type": "execute_result"
    }
   ],
   "source": [
    "((low <= df[\"temperature\"]) <= high).sum()"
   ]
  },
  {
   "cell_type": "code",
   "execution_count": 336,
   "metadata": {},
   "outputs": [
    {
     "data": {
      "text/plain": [
       "(97.04499999999999, 99.3)"
      ]
     },
     "execution_count": 336,
     "metadata": {},
     "output_type": "execute_result"
    }
   ],
   "source": [
    "df[\"temperature\"].quantile(.05), df[\"temperature\"].quantile(.95)"
   ]
  },
  {
   "cell_type": "code",
   "execution_count": 303,
   "metadata": {},
   "outputs": [
    {
     "data": {
      "text/plain": [
       "0.16499890521802019"
      ]
     },
     "execution_count": 303,
     "metadata": {},
     "output_type": "execute_result"
    }
   ],
   "source": [
    "2.5758293035489004 * std / np.sqrt(n)"
   ]
  },
  {
   "cell_type": "code",
   "execution_count": 294,
   "metadata": {},
   "outputs": [
    {
     "data": {
      "text/plain": [
       "0.7303577789050377"
      ]
     },
     "execution_count": 294,
     "metadata": {},
     "output_type": "execute_result"
    }
   ],
   "source": [
    "pi_width = crit_t * df.temperature.std() * np.sqrt((1 + 1/(len(df.temperature))))"
   ]
  },
  {
   "cell_type": "code",
   "execution_count": 340,
   "metadata": {},
   "outputs": [
    {
     "data": {
      "text/plain": [
       "1.0038387857082967"
      ]
     },
     "execution_count": 340,
     "metadata": {},
     "output_type": "execute_result"
    }
   ],
   "source": [
    "np.sqrt(1 + 1/n)"
   ]
  },
  {
   "cell_type": "code",
   "execution_count": 344,
   "metadata": {},
   "outputs": [
    {
     "data": {
      "text/plain": [
       "3.1268535864134739"
      ]
     },
     "execution_count": 344,
     "metadata": {},
     "output_type": "execute_result"
    }
   ],
   "source": [
    "z_critical * np.sqrt(1 + 1/n) * std"
   ]
  },
  {
   "cell_type": "code",
   "execution_count": 345,
   "metadata": {},
   "outputs": [
    {
     "data": {
      "text/plain": [
       "(95.122377182817303, 101.37608435564425)"
      ]
     },
     "execution_count": 345,
     "metadata": {},
     "output_type": "execute_result"
    }
   ],
   "source": [
    "mean - z_critical * np.sqrt(1 + 1/n) * std, mean + z_critical * np.sqrt(1 + 1/n) * std"
   ]
  },
  {
   "cell_type": "code",
   "execution_count": 320,
   "metadata": {},
   "outputs": [
    {
     "data": {
      "text/plain": [
       "3"
      ]
     },
     "execution_count": 320,
     "metadata": {},
     "output_type": "execute_result"
    }
   ],
   "source": [
    "(df[\"temperature\"] > 99.5).sum()"
   ]
  },
  {
   "cell_type": "code",
   "execution_count": 322,
   "metadata": {},
   "outputs": [
    {
     "data": {
      "text/plain": [
       "tuple"
      ]
     },
     "execution_count": 322,
     "metadata": {},
     "output_type": "execute_result"
    }
   ],
   "source": [
    "crit_t = sp.stats.t.ppf(0.975, len(df.temperature) - 1)"
   ]
  },
  {
   "cell_type": "code",
   "execution_count": 346,
   "metadata": {
    "collapsed": true
   },
   "outputs": [],
   "source": []
  },
  {
   "cell_type": "code",
   "execution_count": 347,
   "metadata": {},
   "outputs": [
    {
     "data": {
      "text/plain": [
       "(96.798652852736836, 99.699808685724719)"
      ]
     },
     "execution_count": 347,
     "metadata": {},
     "output_type": "execute_result"
    }
   ],
   "source": [
    "mean - t_critical * np.sqrt(1 + 1/n) * std, mean + t_critical * np.sqrt(1 + 1/n) * std"
   ]
  },
  {
   "cell_type": "code",
   "execution_count": null,
   "metadata": {
    "collapsed": true
   },
   "outputs": [],
   "source": []
  }
 ],
 "metadata": {
  "kernelspec": {
   "display_name": "Python 3",
   "language": "python",
   "name": "python3"
  },
  "language_info": {
   "codemirror_mode": {
    "name": "ipython",
    "version": 3
   },
   "file_extension": ".py",
   "mimetype": "text/x-python",
   "name": "python",
   "nbconvert_exporter": "python",
   "pygments_lexer": "ipython3",
   "version": "3.6.3"
  }
 },
 "nbformat": 4,
 "nbformat_minor": 1
}
