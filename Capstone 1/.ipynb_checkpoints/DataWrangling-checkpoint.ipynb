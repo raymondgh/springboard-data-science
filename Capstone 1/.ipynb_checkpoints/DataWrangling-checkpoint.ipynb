{
 "cells": [
  {
   "cell_type": "code",
   "execution_count": 1,
   "metadata": {
    "collapsed": true
   },
   "outputs": [],
   "source": [
    "import numpy as np\n",
    "import pandas as pd\n",
    "from glob import glob\n",
    "import matplotlib.pyplot as plt"
   ]
  },
  {
   "cell_type": "code",
   "execution_count": 2,
   "metadata": {
    "collapsed": true
   },
   "outputs": [],
   "source": [
    "filenames = glob(\"data/raw/BP_*_00A1.csv\")"
   ]
  },
  {
   "cell_type": "code",
   "execution_count": 3,
   "metadata": {
    "collapsed": true
   },
   "outputs": [],
   "source": [
    "dataframes = [pd.read_csv(f, encoding='latin-1') for f in filenames]"
   ]
  },
  {
   "cell_type": "code",
   "execution_count": 4,
   "metadata": {
    "collapsed": true,
    "scrolled": false
   },
   "outputs": [],
   "source": [
    "for dataframe in dataframes:\n",
    "    newcols = []\n",
    "    for column in dataframe.columns:\n",
    "        column = column.replace(\".\",\"\").replace(\"-\",\"\").replace(\"_\",\"\")\n",
    "        newcols.append(column)\n",
    "    dataframe.columns = newcols   \n",
    "  #  print(dataframe.columns)\n",
    "    "
   ]
  },
  {
   "cell_type": "code",
   "execution_count": 5,
   "metadata": {},
   "outputs": [],
   "source": [
    "dataframes2 =[]\n",
    "for dataframe in dataframes:\n",
    "    dataframe = dataframe[[\"GEOid2\",\n",
    "                           \"GEOdisplaylabel\",\n",
    "                           \"GEOfipsstatecode\",\n",
    "                           \"GEOfipscountycode\",\n",
    "                           \"NAICSdisplaylabel\",\n",
    "                           \"ESTAB\",\n",
    "                           \"EMP\",\n",
    "                           \"YEARid\"]]\n",
    "    dataframe.columns = [\"geo_id\",\n",
    "                       \"county_name\",\n",
    "                       \"state_fips\",\n",
    "                       \"county_fips\",\n",
    "                       \"naics_industry\",\n",
    "                       \"establishments\",\n",
    "                       \"employees\",\n",
    "                       \"year\"]\n",
    "    dataframe = dataframe.set_index([\"year\"])\n",
    "    \n",
    "    #exclude state totals\n",
    "    dataframe = dataframe[dataframe.county_fips != 999]\n",
    "    \n",
    "    #exclude puerto rico\n",
    "    dataframe = dataframe[dataframe.state_fips != 72] \n",
    "    \n",
    "    #exclude retired Alaskan Provinces\n",
    "    dataframe = dataframe[dataframe.geo_id != 2201]\n",
    "    dataframe = dataframe[dataframe.geo_id != 2232]\n",
    "    dataframe = dataframe[dataframe.geo_id != 2280]\n",
    "    \n",
    "    #exclude totals\n",
    "    dataframe = dataframe[dataframe.naics_industry != \"Total for all sectors\"]\n",
    "    \n",
    "    #apply updated NAICS sector code name\n",
    "    dataframe.naics_industry = dataframe.naics_industry.str.replace(\"Mining\",\"Mining, quarrying, and oil and gas extraction\")\n",
    "\n",
    "    #source typo corrections\n",
    "    dataframe.county_name = dataframe.county_name.str.replace(\"Dona Ana County, New Mexico\",\"Doña Ana County, New Mexico\")\n",
    "    dataframe.county_name = dataframe.county_name.str.replace(\"DoÃ±a Ana County, New Mexico\",\"Doña Ana County, New Mexico\")\n",
    "    dataframe.county_name = dataframe.county_name.str.replace(\"La Salle County, Illinois\",\"LaSalle County, Illinois\")\n",
    "    dataframe.county_name = dataframe.county_name.str.replace(\"La Salle Parish, Louisiana\",\"LaSalle Parish, Louisiana\")    \n",
    "    \n",
    "    dataframes2.append(dataframe)\n",
    "    \n",
    "    "
   ]
  },
  {
   "cell_type": "code",
   "execution_count": 6,
   "metadata": {
    "collapsed": true,
    "scrolled": true
   },
   "outputs": [],
   "source": [
    "stacked = pd.concat(dataframes2)"
   ]
  },
  {
   "cell_type": "code",
   "execution_count": 7,
   "metadata": {},
   "outputs": [
    {
     "data": {
      "text/html": [
       "<div>\n",
       "<style>\n",
       "    .dataframe thead tr:only-child th {\n",
       "        text-align: right;\n",
       "    }\n",
       "\n",
       "    .dataframe thead th {\n",
       "        text-align: left;\n",
       "    }\n",
       "\n",
       "    .dataframe tbody tr th {\n",
       "        vertical-align: top;\n",
       "    }\n",
       "</style>\n",
       "<table border=\"1\" class=\"dataframe\">\n",
       "  <thead>\n",
       "    <tr style=\"text-align: right;\">\n",
       "      <th></th>\n",
       "      <th>geo_id</th>\n",
       "      <th>county_name</th>\n",
       "      <th>state_fips</th>\n",
       "      <th>county_fips</th>\n",
       "      <th>naics_industry</th>\n",
       "      <th>establishments</th>\n",
       "      <th>employees</th>\n",
       "    </tr>\n",
       "    <tr>\n",
       "      <th>year</th>\n",
       "      <th></th>\n",
       "      <th></th>\n",
       "      <th></th>\n",
       "      <th></th>\n",
       "      <th></th>\n",
       "      <th></th>\n",
       "      <th></th>\n",
       "    </tr>\n",
       "  </thead>\n",
       "  <tbody>\n",
       "    <tr>\n",
       "      <th>2005</th>\n",
       "      <td>1001</td>\n",
       "      <td>Autauga County, Alabama</td>\n",
       "      <td>1</td>\n",
       "      <td>1</td>\n",
       "      <td>Agriculture, forestry, fishing and hunting</td>\n",
       "      <td>10</td>\n",
       "      <td>NaN</td>\n",
       "    </tr>\n",
       "    <tr>\n",
       "      <th>2005</th>\n",
       "      <td>1001</td>\n",
       "      <td>Autauga County, Alabama</td>\n",
       "      <td>1</td>\n",
       "      <td>1</td>\n",
       "      <td>Mining, quarrying, and oil and gas extraction</td>\n",
       "      <td>4</td>\n",
       "      <td>NaN</td>\n",
       "    </tr>\n",
       "    <tr>\n",
       "      <th>2005</th>\n",
       "      <td>1001</td>\n",
       "      <td>Autauga County, Alabama</td>\n",
       "      <td>1</td>\n",
       "      <td>1</td>\n",
       "      <td>Utilities</td>\n",
       "      <td>8</td>\n",
       "      <td>NaN</td>\n",
       "    </tr>\n",
       "    <tr>\n",
       "      <th>2005</th>\n",
       "      <td>1001</td>\n",
       "      <td>Autauga County, Alabama</td>\n",
       "      <td>1</td>\n",
       "      <td>1</td>\n",
       "      <td>Construction</td>\n",
       "      <td>119</td>\n",
       "      <td>642.0</td>\n",
       "    </tr>\n",
       "    <tr>\n",
       "      <th>2005</th>\n",
       "      <td>1001</td>\n",
       "      <td>Autauga County, Alabama</td>\n",
       "      <td>1</td>\n",
       "      <td>1</td>\n",
       "      <td>Manufacturing</td>\n",
       "      <td>33</td>\n",
       "      <td>1623.0</td>\n",
       "    </tr>\n",
       "  </tbody>\n",
       "</table>\n",
       "</div>"
      ],
      "text/plain": [
       "      geo_id              county_name  state_fips  county_fips  \\\n",
       "year                                                             \n",
       "2005    1001  Autauga County, Alabama           1            1   \n",
       "2005    1001  Autauga County, Alabama           1            1   \n",
       "2005    1001  Autauga County, Alabama           1            1   \n",
       "2005    1001  Autauga County, Alabama           1            1   \n",
       "2005    1001  Autauga County, Alabama           1            1   \n",
       "\n",
       "                                      naics_industry  establishments  \\\n",
       "year                                                                   \n",
       "2005      Agriculture, forestry, fishing and hunting              10   \n",
       "2005  Mining, quarrying, and oil and gas extraction                4   \n",
       "2005                                       Utilities               8   \n",
       "2005                                    Construction             119   \n",
       "2005                                   Manufacturing              33   \n",
       "\n",
       "      employees  \n",
       "year             \n",
       "2005        NaN  \n",
       "2005        NaN  \n",
       "2005        NaN  \n",
       "2005      642.0  \n",
       "2005     1623.0  "
      ]
     },
     "execution_count": 7,
     "metadata": {},
     "output_type": "execute_result"
    }
   ],
   "source": [
    "stacked.head()"
   ]
  },
  {
   "cell_type": "code",
   "execution_count": 8,
   "metadata": {},
   "outputs": [],
   "source": [
    "yearly_establishments = stacked.groupby((\"county_name\",\"year\")).sum()[\"establishments\"]\n",
    "county_list = stacked.groupby((\"county_name\",\"year\")).sum()[\"establishments\"].index.levels[0]"
   ]
  },
  {
   "cell_type": "code",
   "execution_count": 9,
   "metadata": {},
   "outputs": [
    {
     "data": {
      "image/png": "[encoded data removed]",
      "text/plain": [
       "<matplotlib.figure.Figure at 0x1dc2a12c630>"
      ]
     },
     "metadata": {},
     "output_type": "display_data"
    }
   ],
   "source": [
    "stacked.groupby((\"county_name\",\"year\")).sum()[\"establishments\"][county_list[0]].pct_change().plot()\n",
    "plt.show()"
   ]
  },
  {
   "cell_type": "code",
   "execution_count": 10,
   "metadata": {},
   "outputs": [
    {
     "data": {
      "image/png": "[encoded data removed]",
      "text/plain": [
       "<matplotlib.figure.Figure at 0x1dc2c34ec88>"
      ]
     },
     "metadata": {},
     "output_type": "display_data"
    }
   ],
   "source": [
    "for county in county_list:\n",
    "    yearly_establishments[county].plot()\n",
    "plt.show()"
   ]
  },
  {
   "cell_type": "code",
   "execution_count": 11,
   "metadata": {},
   "outputs": [
    {
     "data": {
      "text/html": [
       "<div>\n",
       "<style>\n",
       "    .dataframe thead tr:only-child th {\n",
       "        text-align: right;\n",
       "    }\n",
       "\n",
       "    .dataframe thead th {\n",
       "        text-align: left;\n",
       "    }\n",
       "\n",
       "    .dataframe tbody tr th {\n",
       "        vertical-align: top;\n",
       "    }\n",
       "</style>\n",
       "<table border=\"1\" class=\"dataframe\">\n",
       "  <thead>\n",
       "    <tr style=\"text-align: right;\">\n",
       "      <th></th>\n",
       "      <th>establishments</th>\n",
       "    </tr>\n",
       "    <tr>\n",
       "      <th>county_name</th>\n",
       "      <th></th>\n",
       "    </tr>\n",
       "  </thead>\n",
       "  <tbody>\n",
       "    <tr>\n",
       "      <th>Abbeville County, South Carolina</th>\n",
       "      <td>332</td>\n",
       "    </tr>\n",
       "    <tr>\n",
       "      <th>Acadia Parish, Louisiana</th>\n",
       "      <td>1122</td>\n",
       "    </tr>\n",
       "    <tr>\n",
       "      <th>Accomack County, Virginia</th>\n",
       "      <td>738</td>\n",
       "    </tr>\n",
       "    <tr>\n",
       "      <th>Ada County, Idaho</th>\n",
       "      <td>12757</td>\n",
       "    </tr>\n",
       "    <tr>\n",
       "      <th>Adair County, Iowa</th>\n",
       "      <td>188</td>\n",
       "    </tr>\n",
       "  </tbody>\n",
       "</table>\n",
       "</div>"
      ],
      "text/plain": [
       "                                  establishments\n",
       "county_name                                     \n",
       "Abbeville County, South Carolina             332\n",
       "Acadia Parish, Louisiana                    1122\n",
       "Accomack County, Virginia                    738\n",
       "Ada County, Idaho                          12757\n",
       "Adair County, Iowa                           188"
      ]
     },
     "execution_count": 11,
     "metadata": {},
     "output_type": "execute_result"
    }
   ],
   "source": [
    "county_establishments = yearly_establishments.reset_index(\"year\")\n",
    "establishments_2015 = county_establishments[county_establishments[\"year\"] == 2015][[\"establishments\"]]\n",
    "establishments_2015.head()"
   ]
  },
  {
   "cell_type": "code",
   "execution_count": 12,
   "metadata": {},
   "outputs": [
    {
     "data": {
      "image/png": "[encoded data removed]",
      "text/plain": [
       "<matplotlib.figure.Figure at 0x1dc27480f98>"
      ]
     },
     "metadata": {},
     "output_type": "display_data"
    }
   ],
   "source": [
    "establishments_2015.plot(kind=\"hist\", bins=500)\n",
    "plt.axis(xmax=10000, xmin=0)\n",
    "plt.show()"
   ]
  },
  {
   "cell_type": "code",
   "execution_count": 13,
   "metadata": {},
   "outputs": [
    {
     "data": {
      "text/plain": [
       "3142"
      ]
     },
     "execution_count": 13,
     "metadata": {},
     "output_type": "execute_result"
    }
   ],
   "source": [
    "len(county_list)"
   ]
  },
  {
   "cell_type": "code",
   "execution_count": 14,
   "metadata": {},
   "outputs": [
    {
     "name": "stdout",
     "output_type": "stream",
     "text": [
      "3135\n",
      "3135\n",
      "3136\n",
      "3136\n",
      "3136\n",
      "3136\n",
      "3135\n",
      "3141\n",
      "3142\n",
      "3142\n",
      "3142\n"
     ]
    }
   ],
   "source": [
    "county_sets = []\n",
    "for year in range(11):\n",
    "    county_set = set(dataframes2[year].groupby((\"county_name\",\"year\")).sum()[\"establishments\"].index.levels[0])\n",
    "    county_sets.append(county_set)\n",
    "    print(len(county_set))"
   ]
  },
  {
   "cell_type": "code",
   "execution_count": 15,
   "metadata": {},
   "outputs": [
    {
     "name": "stdout",
     "output_type": "stream",
     "text": [
      "{'Loving County, Texas'}\n",
      "{'Loving County, Texas', 'Kalawao County, Hawaii', 'Hoonah-Angoon Census Area, Alaska', 'Wrangell City and Borough, Alaska', 'Prince of Wales-Hyder Census Area, Alaska', 'Skagway Municipality, Alaska', 'Petersburg Census Area, Alaska'}\n"
     ]
    }
   ],
   "source": [
    "print(county_sets[2] - county_sets[0])\n",
    "print(county_sets[10] - county_sets[0])"
   ]
  }
 ],
 "metadata": {
  "kernelspec": {
   "display_name": "Python 3",
   "language": "python",
   "name": "python3"
  },
  "language_info": {
   "codemirror_mode": {
    "name": "ipython",
    "version": 3
   },
   "file_extension": ".py",
   "mimetype": "text/x-python",
   "name": "python",
   "nbconvert_exporter": "python",
   "pygments_lexer": "ipython3",
   "version": "3.6.3"
  }
 },
 "nbformat": 4,
 "nbformat_minor": 2
}
