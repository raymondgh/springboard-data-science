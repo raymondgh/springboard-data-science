{
 "cells": [
  {
   "cell_type": "code",
   "execution_count": 1,
   "metadata": {
    "collapsed": true
   },
   "outputs": [],
   "source": [
    "import numpy as np\n",
    "import pandas as pd\n",
    "import urllib.request\n",
    "from html2text import html2text"
   ]
  },
  {
   "cell_type": "markdown",
   "metadata": {},
   "source": [
    "## Downloaded from Google Cloud Storage Export of HN BigQuery Data Set"
   ]
  },
  {
   "cell_type": "code",
   "execution_count": 3,
   "metadata": {},
   "outputs": [
    {
     "name": "stdout",
     "output_type": "stream",
     "text": [
      "00\n",
      "01\n",
      "02\n",
      "03\n",
      "04\n",
      "05\n",
      "06\n",
      "07\n",
      "08\n",
      "09\n",
      "10\n",
      "11\n",
      "12\n",
      "13\n",
      "14\n",
      "15\n",
      "16\n"
     ]
    }
   ],
   "source": [
    "# accessed March 18, 2018\n",
    "for i in [\"%02d\" % (x,) for x in range(17)]:\n",
    "    urllib.request.urlretrieve(\"https://storage.googleapis.com/hn-full/file_0000000000\" + i, \"data/raw/file_\" + i + \".csv\")"
   ]
  },
  {
   "cell_type": "code",
   "execution_count": null,
   "metadata": {
    "collapsed": true
   },
   "outputs": [],
   "source": [
    "filenames = glob(\"data/raw/file_*.csv\")\n",
    "dataframes = [pd.read_csv(f, encoding='latin-1') for f in filenames]"
   ]
  },
  {
   "cell_type": "code",
   "execution_count": 7,
   "metadata": {
    "collapsed": true
   },
   "outputs": [],
   "source": [
    "for dataframe in dataframes:\n",
    "    dataframe[\"parent\"] = dataframe[\"parent\"].fillna(0)\n",
    "    dataframe[\"parent\"] = pd.to_numeric(dataframe[\"parent\"], downcast=\"integer\")\n",
    "    dataframe[\"id\"] = pd.to_numeric(dataframe[\"id\"], downcast=\"integer\")\n",
    "    dataframe[\"text\"] = dataframe[\"text\"].map(lambda x: \"\" if type(x) != str else html2text(x))"
   ]
  },
  {
   "cell_type": "code",
   "execution_count": 10,
   "metadata": {},
   "outputs": [],
   "source": [
    "for i in range(17):\n",
    "    dataframes[i].to_csv(\"data/interim/df_\" + str(i) + \".csv\")"
   ]
  }
 ],
 "metadata": {
  "kernelspec": {
   "display_name": "Python 3",
   "language": "python",
   "name": "python3"
  },
  "language_info": {
   "codemirror_mode": {
    "name": "ipython",
    "version": 3
   },
   "file_extension": ".py",
   "mimetype": "text/x-python",
   "name": "python",
   "nbconvert_exporter": "python",
   "pygments_lexer": "ipython3",
   "version": "3.6.3"
  }
 },
 "nbformat": 4,
 "nbformat_minor": 2
}
