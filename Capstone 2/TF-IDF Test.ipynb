{
 "cells": [
  {
   "cell_type": "code",
   "execution_count": 4,
   "metadata": {
    "collapsed": true
   },
   "outputs": [],
   "source": [
    "import numpy as np\n",
    "import pandas as pd\n",
    "import matplotlib.pyplot as plt\n",
    "import seaborn as sns\n",
    "from sklearn.feature_extraction.text import TfidfVectorizer\n",
    "from glob import glob\n",
    "import html2text"
   ]
  },
  {
   "cell_type": "markdown",
   "metadata": {},
   "source": [
    "## Loading Data"
   ]
  },
  {
   "cell_type": "code",
   "execution_count": 5,
   "metadata": {
    "collapsed": true
   },
   "outputs": [],
   "source": [
    "# load data\n",
    "filenames = glob(\"data/interim/df_*.csv\")\n",
    "dataframes = [pd.read_csv(f, encoding='latin-1') for f in filenames]"
   ]
  },
  {
   "cell_type": "code",
   "execution_count": 19,
   "metadata": {},
   "outputs": [],
   "source": [
    "for i in range(17):\n",
    "    dataframes[i] = dataframes[i].drop('Unnamed: 0', axis=1)"
   ]
  },
  {
   "cell_type": "markdown",
   "metadata": {},
   "source": [
    "## Some useful functions"
   ]
  },
  {
   "cell_type": "code",
   "execution_count": 6,
   "metadata": {
    "collapsed": true
   },
   "outputs": [],
   "source": [
    "# takes a post id and returns a dataframe with that post\n",
    "def getPost(id):\n",
    "    \n",
    "    # define dataframe structure in memory\n",
    "    df = pd.DataFrame(columns=['by', 'score', 'time', 'timestamp', 'title', 'type', 'url', 'text',\n",
    "       'parent', 'deleted', 'dead', 'descendants', 'id', 'ranking'])\n",
    "    \n",
    "    # find the post and add it to the dataframe in memory\n",
    "    for dataframe in dataframes:\n",
    "        df = pd.concat([dataframe[dataframe[\"id\"] == id], df])\n",
    "        \n",
    "    return df"
   ]
  },
  {
   "cell_type": "code",
   "execution_count": 7,
   "metadata": {
    "collapsed": true
   },
   "outputs": [],
   "source": [
    "# takes a list of post ids and returns the comments on those posts\n",
    "def getComments(parents, family=None):\n",
    "    \n",
    "    # define dataframe structure in memory\n",
    "    children = pd.DataFrame(columns=['by', 'score', 'time', 'timestamp', 'title', 'type', 'url', 'text',\n",
    "       'parent', 'deleted', 'dead', 'descendants', 'id', 'ranking'])\n",
    "    \n",
    "    # store family\n",
    "    fam = family\n",
    "    \n",
    "    # base case: if no parents provided, return the family\n",
    "    if not parents:\n",
    "        return fam\n",
    "    \n",
    "    # recursive case: if parents provided, add children to family and check next generation\n",
    "    else:\n",
    "        \n",
    "        # define the next generation\n",
    "        nextgen = []\n",
    "        \n",
    "        # for each dataframe\n",
    "        for dataframe in dataframes:\n",
    "\n",
    "            # add the parent's children to the next generation\n",
    "            children = pd.concat([dataframe[dataframe[\"parent\"].isin(parents)], children]) \n",
    "            nextgen += list(children[\"id\"])\n",
    "\n",
    "            # add the parent's children to the family\n",
    "            fam = pd.concat([children, fam])\n",
    "\n",
    "            # reset children for the next parent\n",
    "            children = pd.DataFrame(columns=['by', 'score', 'time', 'timestamp', 'title', 'type', 'url', 'text',\n",
    "   'parent', 'deleted', 'dead', 'descendants', 'id', 'ranking'])\n",
    "\n",
    "        # return getThread on the next generation and current family\n",
    "        return getComments(nextgen, fam)        "
   ]
  },
  {
   "cell_type": "code",
   "execution_count": 8,
   "metadata": {
    "collapsed": true
   },
   "outputs": [],
   "source": [
    "def getThread(id):\n",
    "    return pd.concat([getPost(id), getComments([id])])"
   ]
  },
  {
   "cell_type": "code",
   "execution_count": 9,
   "metadata": {
    "collapsed": true
   },
   "outputs": [],
   "source": [
    "def makeDocument(id):\n",
    "    return html2text.html2text(\" \".join(list(getThread(id)[\"text\"].dropna())))"
   ]
  },
  {
   "cell_type": "markdown",
   "metadata": {},
   "source": [
    "## Testing the waters with TF IDF"
   ]
  },
  {
   "cell_type": "code",
   "execution_count": 22,
   "metadata": {
    "collapsed": true
   },
   "outputs": [],
   "source": [
    "tf = TfidfVectorizer(analyzer='word', ngram_range=(1,1), min_df=0, stop_words='english')"
   ]
  },
  {
   "cell_type": "code",
   "execution_count": 23,
   "metadata": {
    "collapsed": true
   },
   "outputs": [],
   "source": [
    "# define test documents\n",
    "sexism = [14988086, 13784509, 14967505]\n",
    "selfDriving = [15644680, 13718586, 14338328]\n",
    "augmentedReality = [15124809, 14490239, 14713679]"
   ]
  },
  {
   "cell_type": "code",
   "execution_count": 24,
   "metadata": {
    "collapsed": true
   },
   "outputs": [],
   "source": [
    "corpus = [makeDocument(id) for id in sexism + selfDriving + augmentedReality]"
   ]
  },
  {
   "cell_type": "code",
   "execution_count": 25,
   "metadata": {},
   "outputs": [
    {
     "name": "stdout",
     "output_type": "stream",
     "text": [
      "Top words in document 1\n",
      "\tWord: women, TF-IDF: 0.54592\n",
      "\tWord: men, TF-IDF: 0.25394\n",
      "\tWord: people, TF-IDF: 0.19514\n",
      "\tWord: gender, TF-IDF: 0.15832\n",
      "Top words in document 2\n",
      "\tWord: sexism, TF-IDF: 0.2909\n",
      "\tWord: manager, TF-IDF: 0.25308\n",
      "\tWord: tank, TF-IDF: 0.23651\n",
      "\tWord: dress, TF-IDF: 0.23221\n",
      "Top words in document 3\n",
      "\tWord: women, TF-IDF: 0.3793\n",
      "\tWord: people, TF-IDF: 0.24035\n",
      "\tWord: salary, TF-IDF: 0.20347\n",
      "\tWord: memo, TF-IDF: 0.17917\n",
      "Top words in document 4\n",
      "\tWord: car, TF-IDF: 0.52935\n",
      "\tWord: driving, TF-IDF: 0.29048\n",
      "\tWord: cars, TF-IDF: 0.24951\n",
      "\tWord: waymo, TF-IDF: 0.20291\n",
      "Top words in document 5\n",
      "\tWord: google, TF-IDF: 0.34588\n",
      "\tWord: uber, TF-IDF: 0.27355\n",
      "\tWord: laptop, TF-IDF: 0.20365\n",
      "\tWord: waymo, TF-IDF: 0.19234\n",
      "Top words in document 6\n",
      "\tWord: lyft, TF-IDF: 0.51379\n",
      "\tWord: uber, TF-IDF: 0.47412\n",
      "\tWord: driving, TF-IDF: 0.18652\n",
      "\tWord: drivers, TF-IDF: 0.17458\n",
      "Top words in document 7\n",
      "\tWord: apple, TF-IDF: 0.33966\n",
      "\tWord: ar, TF-IDF: 0.33961\n",
      "\tWord: android, TF-IDF: 0.33788\n",
      "\tWord: ios, TF-IDF: 0.2291\n",
      "Top words in document 8\n",
      "\tWord: ar, TF-IDF: 0.64569\n",
      "\tWord: apple, TF-IDF: 0.33202\n",
      "\tWord: camera, TF-IDF: 0.20898\n",
      "\tWord: com, TF-IDF: 0.17379\n",
      "Top words in document 9\n",
      "\tWord: ar, TF-IDF: 0.599\n",
      "\tWord: pokemon, TF-IDF: 0.36562\n",
      "\tWord: game, TF-IDF: 0.1487\n",
      "\tWord: 3ds, TF-IDF: 0.11652\n"
     ]
    }
   ],
   "source": [
    "# find our most descriptive words!\n",
    "tfidf_matrix = tf.fit_transform(corpus)\n",
    "feature_names = tf.get_feature_names()\n",
    "dense_matrix = tfidf_matrix.todense()\n",
    "num_documents = len(corpus)\n",
    "for i in np.arange(num_documents):\n",
    "    document_words = dense_matrix[i].tolist()[0]\n",
    "    document_scores = [pair for pair in zip(range(0, len(document_words)), document_words) if pair[1] > 0]\n",
    "    \n",
    "    sorted_scores = sorted(document_scores, key=lambda t: t[1] * -1)[0:4] #3 words\n",
    "    \n",
    "    print(\"Top words in document {}\".format(i + 1))\n",
    "    for scores_tuple in sorted_scores:\n",
    "        print(\"\\tWord: {}, TF-IDF: {}\".format(feature_names[scores_tuple[0]], round(scores_tuple[1], 5)))"
   ]
  },
  {
   "cell_type": "code",
   "execution_count": null,
   "metadata": {
    "collapsed": true
   },
   "outputs": [],
   "source": []
  }
 ],
 "metadata": {
  "kernelspec": {
   "display_name": "Python 3",
   "language": "python",
   "name": "python3"
  },
  "language_info": {
   "codemirror_mode": {
    "name": "ipython",
    "version": 3
   },
   "file_extension": ".py",
   "mimetype": "text/x-python",
   "name": "python",
   "nbconvert_exporter": "python",
   "pygments_lexer": "ipython3",
   "version": "3.6.3"
  }
 },
 "nbformat": 4,
 "nbformat_minor": 2
}
