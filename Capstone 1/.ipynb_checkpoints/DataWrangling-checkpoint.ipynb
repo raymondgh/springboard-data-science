{
 "cells": [
  {
   "cell_type": "code",
   "execution_count": 1,
   "metadata": {
    "collapsed": true
   },
   "outputs": [],
   "source": [
    "import numpy as np\n",
    "import pandas as pd\n",
    "from glob import glob\n",
    "import matplotlib.pyplot as plt\n",
    "from collections import namedtuple"
   ]
  },
  {
   "cell_type": "code",
   "execution_count": 2,
   "metadata": {
    "collapsed": true
   },
   "outputs": [],
   "source": [
    "filenames = glob(\"data/raw/BP_*_00A1.csv\")"
   ]
  },
  {
   "cell_type": "code",
   "execution_count": 3,
   "metadata": {
    "collapsed": true
   },
   "outputs": [],
   "source": [
    "dataframes = [pd.read_csv(f, encoding='latin-1') for f in filenames]"
   ]
  },
  {
   "cell_type": "code",
   "execution_count": 4,
   "metadata": {
    "collapsed": true,
    "scrolled": false
   },
   "outputs": [],
   "source": [
    "# remove punctuation from column names\n",
    "for dataframe in dataframes:\n",
    "    newcols = []\n",
    "    for column in dataframe.columns:\n",
    "        column = column.replace(\".\",\"\").replace(\"-\",\"\").replace(\"_\",\"\")\n",
    "        newcols.append(column)\n",
    "    dataframe.columns = newcols    "
   ]
  },
  {
   "cell_type": "code",
   "execution_count": 5,
   "metadata": {},
   "outputs": [],
   "source": [
    "#\n",
    "\n",
    "dataframes2 =[]\n",
    "\n",
    "\n",
    "for dataframe in dataframes:\n",
    "    \n",
    "    #rename columns\n",
    "    dataframe = dataframe[[\"GEOid2\",\n",
    "                           \"GEOdisplaylabel\",\n",
    "                           \"GEOfipsstatecode\",\n",
    "                           \"GEOfipscountycode\",\n",
    "                           \"NAICSdisplaylabel\",\n",
    "                           \"ESTAB\",\n",
    "                           \"EMP\",\n",
    "                           \"YEARid\"]]\n",
    "    dataframe.columns = [\"geo_id\",\n",
    "                       \"county_name\",\n",
    "                       \"state_fips\",\n",
    "                       \"county_fips\",\n",
    "                       \"naics_industry\",\n",
    "                       \"establishments\",\n",
    "                       \"employees\",\n",
    "                       \"year\"]\n",
    "    \n",
    "    #exclude state totals\n",
    "    dataframe = dataframe[dataframe.county_fips != 999]\n",
    "    \n",
    "    #exclude puerto rico\n",
    "    dataframe = dataframe[dataframe.state_fips != 72] \n",
    "    \n",
    "    #exclude retired Alaskan Provinces\n",
    "    dataframe = dataframe[dataframe.geo_id != 2201]\n",
    "    dataframe = dataframe[dataframe.geo_id != 2232]\n",
    "    dataframe = dataframe[dataframe.geo_id != 2280]\n",
    "    \n",
    "    #exclude totals\n",
    "    dataframe = dataframe[dataframe.naics_industry != \"Total for all sectors\"]\n",
    "    \n",
    "    #apply updated NAICS sector code name\n",
    "    dataframe.naics_industry = dataframe.naics_industry.str.replace(\"Mining\",\"Mining, quarrying, and oil and gas extraction\")\n",
    "\n",
    "    #source typo corrections\n",
    "    dataframe.county_name = dataframe.county_name.str.replace(\"Dona Ana County, New Mexico\",\"Doña Ana County, New Mexico\")\n",
    "    dataframe.county_name = dataframe.county_name.str.replace(\"DoÃ±a Ana County, New Mexico\",\"Doña Ana County, New Mexico\")\n",
    "    dataframe.county_name = dataframe.county_name.str.replace(\"La Salle County, Illinois\",\"LaSalle County, Illinois\")\n",
    "    dataframe.county_name = dataframe.county_name.str.replace(\"La Salle Parish, Louisiana\",\"LaSalle Parish, Louisiana\")    \n",
    "    \n",
    "    dataframes2.append(dataframe)\n",
    "    \n",
    "    "
   ]
  },
  {
   "cell_type": "code",
   "execution_count": 6,
   "metadata": {
    "collapsed": true,
    "scrolled": true
   },
   "outputs": [],
   "source": [
    "stacked = pd.concat(dataframes2)"
   ]
  },
  {
   "cell_type": "code",
   "execution_count": 7,
   "metadata": {},
   "outputs": [],
   "source": [
    "#fill in 0s for missing Loving County entries\n",
    "\n",
    "loving = stacked[stacked.county_name == 'Loving County, Texas']\n",
    "loving15 = loving.groupby([\"geo_id\", \n",
    "                          \"county_name\", \n",
    "                          \"state_fips\", \n",
    "                          \"county_fips\", \n",
    "                          \"naics_industry\"])[\"year\", \"establishments\",\"employees\"]\n",
    "loving2 = loving15.apply(lambda x: x.set_index(\"year\").reindex(range(2005, 2016), fill_value=0)).reset_index()\n",
    "loving3 = stacked.merge(loving2, how=\"outer\", on=[\"year\",\n",
    "                                                  \"geo_id\",\n",
    "                                                  \"county_name\",\n",
    "                                                  \"state_fips\",\n",
    "                                                  \"county_fips\",\n",
    "                                                  \"naics_industry\",\n",
    "                                                  \"establishments\",\n",
    "                                                  \"employees\"])"
   ]
  },
  {
   "cell_type": "code",
   "execution_count": 8,
   "metadata": {},
   "outputs": [],
   "source": [
    "#fill in 0s for missing Kalawao County entries\n",
    "\n",
    "kalawao = loving3[loving3.county_name == 'Kalawao County, Hawaii']\n",
    "kalawao15 = kalawao.groupby([\"geo_id\", \n",
    "                          \"county_name\", \n",
    "                          \"state_fips\", \n",
    "                          \"county_fips\", \n",
    "                          \"naics_industry\"])[\"year\", \"establishments\",\"employees\"]\n",
    "kalawao2 = kalawao15.apply(lambda x: x.set_index(\"year\").reindex(range(2005, 2016), fill_value=0)).reset_index()\n",
    "kalawao3 = loving3.merge(kalawao2, how=\"outer\", on=[\"year\",\n",
    "                                                  \"geo_id\",\n",
    "                                                  \"county_name\",\n",
    "                                                  \"state_fips\",\n",
    "                                                  \"county_fips\",\n",
    "                                                  \"naics_industry\",\n",
    "                                                  \"establishments\",\n",
    "                                                  \"employees\"])"
   ]
  },
  {
   "cell_type": "code",
   "execution_count": 9,
   "metadata": {},
   "outputs": [],
   "source": [
    "#backfill the five new alaskan counties\n",
    "\n",
    "fill_counties = ['Petersburg Census Area, Alaska', 'Skagway Municipality, Alaska', 'Prince of Wales-Hyder Census Area, Alaska', 'Wrangell City and Borough, Alaska', 'Hoonah-Angoon Census Area, Alaska']\n",
    "dataframeA = kalawao3\n",
    "    \n",
    "for fill_county in fill_counties:\n",
    "    dataframeB = dataframeA[dataframeA.county_name == fill_county].groupby([\"geo_id\", \n",
    "                          \"county_name\", \n",
    "                          \"state_fips\", \n",
    "                          \"county_fips\", \n",
    "                          \"naics_industry\"])[\"year\", \"establishments\",\"employees\"].apply(lambda x: x.set_index(\"year\").reindex(range(2005, 2016), method=\"bfill\")).reset_index().merge(dataframeA, how=\"outer\", on=[\"year\",\n",
    "                                                  \"geo_id\",\n",
    "                                                  \"county_name\",\n",
    "                                                  \"state_fips\",\n",
    "                                                  \"county_fips\",\n",
    "                                                  \"naics_industry\",\n",
    "                                                  \"establishments\",\n",
    "                                                  \"employees\"])\n",
    "    dataframeA = dataframeB\n"
   ]
  },
  {
   "cell_type": "code",
   "execution_count": 11,
   "metadata": {
    "scrolled": true
   },
   "outputs": [],
   "source": [
    "#fill privacy-concerned NaNs with 0s, zip est & emp into a tuple column, drop est & emp cols\n",
    "\n",
    "dataframeA = dataframeA.fillna(0)\n",
    "\n",
    "#reshaping dataframe\n",
    "dataframeA = dataframeA.pivot_table(index=[\"geo_id\", \"county_name\", \"state_fips\", \"county_fips\", \"year\"], \n",
    "                       columns=\"naics_industry\", \n",
    "                       values=[\"establishments\", \"employees\"], \n",
    "                       fill_value=0)\n",
    "dataframeA = dataframeA.reset_index([\"state_fips\", \"county_fips\"])"
   ]
  },
  {
   "cell_type": "code",
   "execution_count": null,
   "metadata": {},
   "outputs": [],
   "source": []
  },
  {
   "cell_type": "code",
   "execution_count": null,
   "metadata": {
    "collapsed": true
   },
   "outputs": [],
   "source": []
  }
 ],
 "metadata": {
  "kernelspec": {
   "display_name": "Python 3",
   "language": "python",
   "name": "python3"
  },
  "language_info": {
   "codemirror_mode": {
    "name": "ipython",
    "version": 3
   },
   "file_extension": ".py",
   "mimetype": "text/x-python",
   "name": "python",
   "nbconvert_exporter": "python",
   "pygments_lexer": "ipython3",
   "version": "3.6.3"
  }
 },
 "nbformat": 4,
 "nbformat_minor": 2
}
