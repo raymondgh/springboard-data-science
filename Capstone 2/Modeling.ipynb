{
 "cells": [
  {
   "cell_type": "code",
   "execution_count": 275,
   "metadata": {
    "collapsed": true
   },
   "outputs": [],
   "source": [
    "import numpy as np\n",
    "import pandas as pd\n",
    "import matplotlib.pyplot as plt\n",
    "import seaborn as sns\n",
    "from sklearn.feature_extraction.text import TfidfVectorizer\n",
    "from glob import glob\n",
    "import html2text\n",
    "import requests\n",
    "from collections import defaultdict\n",
    "import networkx as nx"
   ]
  },
  {
   "cell_type": "markdown",
   "metadata": {},
   "source": [
    "## Loading Data"
   ]
  },
  {
   "cell_type": "code",
   "execution_count": 2,
   "metadata": {
    "collapsed": true
   },
   "outputs": [],
   "source": [
    "# load data\n",
    "filenames = glob(\"data/interim/df_*.csv\")\n",
    "dataframes = [pd.read_csv(f, encoding='latin-1') for f in filenames]"
   ]
  },
  {
   "cell_type": "code",
   "execution_count": 3,
   "metadata": {
    "collapsed": true
   },
   "outputs": [],
   "source": [
    "for i in range(17):\n",
    "    dataframes[i] = dataframes[i].drop('Unnamed: 0', axis=1)"
   ]
  },
  {
   "cell_type": "markdown",
   "metadata": {},
   "source": [
    "## Functions to create documents"
   ]
  },
  {
   "cell_type": "code",
   "execution_count": 4,
   "metadata": {
    "collapsed": true
   },
   "outputs": [],
   "source": [
    "# takes a post id and returns a dataframe with that post\n",
    "def getPost(id):\n",
    "    \n",
    "    # define dataframe structure in memory\n",
    "    df = pd.DataFrame(columns=['by', 'score', 'time', 'timestamp', 'title', 'type', 'url', 'text',\n",
    "       'parent', 'deleted', 'dead', 'descendants', 'id', 'ranking'])\n",
    "    \n",
    "    # find the post and add it to the dataframe in memory\n",
    "    for dataframe in dataframes:\n",
    "        df = pd.concat([dataframe[dataframe[\"id\"] == id], df])\n",
    "        \n",
    "    return df"
   ]
  },
  {
   "cell_type": "code",
   "execution_count": 5,
   "metadata": {
    "collapsed": true
   },
   "outputs": [],
   "source": [
    "# takes a list of post ids and returns the comments on those posts\n",
    "def getComments(parents, family=None):\n",
    "    \n",
    "    # define dataframe structure in memory\n",
    "    children = pd.DataFrame(columns=['by', 'score', 'time', 'timestamp', 'title', 'type', 'url', 'text',\n",
    "       'parent', 'deleted', 'dead', 'descendants', 'id', 'ranking'])\n",
    "    \n",
    "    # store family\n",
    "    fam = family\n",
    "    \n",
    "    # base case: if no parents provided, return the family\n",
    "    if not parents:\n",
    "        return fam\n",
    "    \n",
    "    # recursive case: if parents provided, add children to family and check next generation\n",
    "    else:\n",
    "        \n",
    "        # define the next generation\n",
    "        nextgen = []\n",
    "        \n",
    "        # for each dataframe\n",
    "        for dataframe in dataframes:\n",
    "\n",
    "            # add the parent's children to the next generation\n",
    "            children = pd.concat([dataframe[dataframe[\"parent\"].isin(parents)], children]) \n",
    "            nextgen += list(children[\"id\"])\n",
    "\n",
    "            # add the parent's children to the family\n",
    "            fam = pd.concat([children, fam])\n",
    "\n",
    "            # reset children for the next parent\n",
    "            children = pd.DataFrame(columns=['by', 'score', 'time', 'timestamp', 'title', 'type', 'url', 'text',\n",
    "   'parent', 'deleted', 'dead', 'descendants', 'id', 'ranking'])\n",
    "\n",
    "        # return getThread on the next generation and current family\n",
    "        return getComments(nextgen, fam)        "
   ]
  },
  {
   "cell_type": "code",
   "execution_count": 6,
   "metadata": {
    "collapsed": true
   },
   "outputs": [],
   "source": [
    "def getThread(id):\n",
    "    return pd.concat([getPost(id), getComments([id])])"
   ]
  },
  {
   "cell_type": "code",
   "execution_count": 7,
   "metadata": {
    "collapsed": true
   },
   "outputs": [],
   "source": [
    "def makeDocument(id):\n",
    "    return html2text.html2text(\" \".join(list(getThread(id)[\"text\"].dropna())))"
   ]
  },
  {
   "cell_type": "code",
   "execution_count": 8,
   "metadata": {
    "collapsed": true
   },
   "outputs": [],
   "source": [
    "def computeDescendants(thread):\n",
    "    thread = thread.reset_index(drop=True)\n",
    "    \n",
    "    thread[\"count\"] = 1\n",
    "    \n",
    "    sums = thread.groupby(\"parent\").sum().reset_index()[[\"parent\", \"count\"]]\n",
    "    \n",
    "    descendants = pd.merge(thread, sums, how=\"left\", left_on=\"id\", right_on=\"parent\")\n",
    "    \n",
    "    descendants = descendants[\"count_y\"].fillna(0).astype(int)\n",
    "    \n",
    "    thread[\"descendants\"] = descendants\n",
    "    \n",
    "    return thread"
   ]
  },
  {
   "cell_type": "code",
   "execution_count": 9,
   "metadata": {
    "collapsed": true
   },
   "outputs": [],
   "source": [
    "def getMostRecentPostsBy(user):\n",
    "    url = \"https://hacker-news.firebaseio.com/v0/user/\" + user + \".json\"\n",
    "    response = requests.get(url, data=data)\n",
    "    comments = response.json()[\"submitted\"][0:3]\n",
    "    \n",
    "    posts = []\n",
    "    \n",
    "    for comment in comments:\n",
    "        url = \"https://hacker-news.firebaseio.com/v0/item/\" + str(comment) + \".json\"\n",
    "        response = requests.get(url, data=data)\n",
    "        posts += [response.json()[\"text\"]]\n",
    "        \n",
    "    return posts"
   ]
  },
  {
   "cell_type": "markdown",
   "metadata": {},
   "source": [
    "## Can Discussion Threads by Categorized by the content of the comments?"
   ]
  },
  {
   "cell_type": "code",
   "execution_count": 245,
   "metadata": {
    "collapsed": true
   },
   "outputs": [],
   "source": [
    "# define test documents\n",
    "sexism = [14988086, 3739913, 14967505]\n",
    "selfDriving = [15644680, 13718586, 14338328]\n",
    "augmentedReality = [15124809, 14490239, 14713679]\n",
    "\n",
    "corpus = [makeDocument(id) for id in sexism + selfDriving + augmentedReality]"
   ]
  },
  {
   "cell_type": "markdown",
   "metadata": {},
   "source": [
    "#### Find Descriptive Words and Add them to a defaultdict of documents"
   ]
  },
  {
   "cell_type": "code",
   "execution_count": 276,
   "metadata": {},
   "outputs": [
    {
     "name": "stdout",
     "output_type": "stream",
     "text": [
      "Top words in document 1\n",
      "\tWord: women, TF-IDF: 0.54375\n",
      "\tWord: men, TF-IDF: 0.25293\n",
      "\tWord: people, TF-IDF: 0.19437\n",
      "\tWord: gender, TF-IDF: 0.15769\n",
      "Top words in document 2\n",
      "\tWord: women, TF-IDF: 0.58869\n",
      "\tWord: sexism, TF-IDF: 0.31297\n",
      "\tWord: men, TF-IDF: 0.188\n",
      "\tWord: sexist, TF-IDF: 0.14904\n",
      "Top words in document 3\n",
      "\tWord: women, TF-IDF: 0.37567\n",
      "\tWord: people, TF-IDF: 0.23805\n",
      "\tWord: salary, TF-IDF: 0.22809\n",
      "\tWord: memo, TF-IDF: 0.17746\n",
      "Top words in document 4\n",
      "\tWord: car, TF-IDF: 0.51751\n",
      "\tWord: driving, TF-IDF: 0.31626\n",
      "\tWord: cars, TF-IDF: 0.24394\n",
      "\tWord: waymo, TF-IDF: 0.19838\n",
      "Top words in document 5\n",
      "\tWord: google, TF-IDF: 0.31002\n",
      "\tWord: uber, TF-IDF: 0.30372\n",
      "\tWord: laptop, TF-IDF: 0.20177\n",
      "\tWord: waymo, TF-IDF: 0.19056\n",
      "Top words in document 6\n",
      "\tWord: uber, TF-IDF: 0.51213\n",
      "\tWord: lyft, TF-IDF: 0.49522\n",
      "\tWord: driving, TF-IDF: 0.2002\n",
      "\tWord: drivers, TF-IDF: 0.16827\n",
      "Top words in document 7\n",
      "\tWord: apple, TF-IDF: 0.34026\n",
      "\tWord: ar, TF-IDF: 0.34021\n",
      "\tWord: android, TF-IDF: 0.33848\n",
      "\tWord: ios, TF-IDF: 0.22951\n",
      "Top words in document 8\n",
      "\tWord: ar, TF-IDF: 0.64404\n",
      "\tWord: apple, TF-IDF: 0.33117\n",
      "\tWord: camera, TF-IDF: 0.20845\n",
      "\tWord: com, TF-IDF: 0.17335\n",
      "Top words in document 9\n",
      "\tWord: ar, TF-IDF: 0.60022\n",
      "\tWord: pokemon, TF-IDF: 0.36637\n",
      "\tWord: game, TF-IDF: 0.13434\n",
      "\tWord: 3ds, TF-IDF: 0.11676\n"
     ]
    }
   ],
   "source": [
    "# find our most descriptive words!\n",
    "tf = TfidfVectorizer(analyzer='word', ngram_range=(1,1), min_df=0, stop_words='english')\n",
    "\n",
    "tfidf_matrix = tf.fit_transform(corpus)\n",
    "feature_names = tf.get_feature_names()\n",
    "dense_matrix = tfidf_matrix.todense()\n",
    "num_documents = len(corpus)\n",
    "\n",
    "docs_and_scores = defaultdict(list)\n",
    "\n",
    "for i in np.arange(num_documents):\n",
    "    document_words = dense_matrix[i].tolist()[0]\n",
    "    document_scores = [pair for pair in zip(range(0, len(document_words)), document_words) if pair[1] > 0]\n",
    "    \n",
    "    sorted_scores = sorted(document_scores, key=lambda t: t[1] * -1)[0:4] #4 words\n",
    "    \n",
    "    print(\"Top words in document {}\".format(i + 1))\n",
    "    for scores_tuple in sorted_scores:\n",
    "        \n",
    "        \n",
    "        docs_and_scores[i+1].append((feature_names[scores_tuple[0]], round(scores_tuple[1], 5)))\n",
    "        print(\"\\tWord: {}, TF-IDF: {}\".format(feature_names[scores_tuple[0]], round(scores_tuple[1], 5)))\n"
   ]
  },
  {
   "cell_type": "markdown",
   "metadata": {},
   "source": [
    "#### Compute edges as product of descriptive word scores"
   ]
  },
  {
   "cell_type": "code",
   "execution_count": 277,
   "metadata": {},
   "outputs": [
    {
     "data": {
      "text/plain": [
       "[(1, 2, 'men', 0.06397358489999999),\n",
       " (1, 2, 'women', 0.29566406249999994),\n",
       " (1, 3, 'people', 0.03777969689999999),\n",
       " (1, 3, 'women', 0.29566406249999994),\n",
       " (2, 3, 'women', 0.3465559161),\n",
       " (4, 5, 'waymo', 0.0393546244),\n",
       " (4, 6, 'driving', 0.1000203876),\n",
       " (5, 6, 'uber', 0.09224583839999999),\n",
       " (7, 8, 'apple', 0.1157768676),\n",
       " (7, 8, 'ar', 0.1157428441),\n",
       " (7, 9, 'ar', 0.1157428441),\n",
       " (8, 9, 'ar', 0.41478752159999993)]"
      ]
     },
     "execution_count": 277,
     "metadata": {},
     "output_type": "execute_result"
    }
   ],
   "source": [
    "edges = []\n",
    "\n",
    "for u in range(1, len(docs_and_scores)+1):\n",
    "    set1 = set([i[0] for i in docs_and_scores[u]])\n",
    "    for v in range(u+1, len(docs_and_scores)+1):\n",
    "        set2 = set([i[0] for i in docs_and_scores[v]])\n",
    "        \n",
    "        keyword_intersections = set1.intersection(set2)        \n",
    "        \n",
    "        for word in keyword_intersections:\n",
    "            \n",
    "            score1 = dict(docs_and_scores[u])[word]\n",
    "            score2 = dict(docs_and_scores[u])[word]\n",
    "            \n",
    "            weight = score1 * score2\n",
    "\n",
    "            edges.append((u, v, word, weight))\n",
    "            \n",
    "edges"
   ]
  },
  {
   "cell_type": "markdown",
   "metadata": {},
   "source": [
    "### Create and draw graph of corpus"
   ]
  },
  {
   "cell_type": "code",
   "execution_count": 298,
   "metadata": {},
   "outputs": [
    {
     "data": {
      "image/png": "[encoded data removed]",
      "text/plain": [
       "<matplotlib.figure.Figure at 0x25ec0cad0b8>"
      ]
     },
     "metadata": {},
     "output_type": "display_data"
    }
   ],
   "source": [
    "G = nx.Graph()\n",
    "\n",
    "G.add_nodes_from(list(docs_and_scores.keys()))\n",
    "\n",
    "for edge in edges:\n",
    "    G.add_edge(edge[0], edge[1], key=edge[2], weight=edge[3])\n",
    "\n",
    "nx.draw(G, with_labels=True)\n",
    "plt.title(\"Sample Hacker News Corpus with Topic Relationships\")\n",
    "plt.show()"
   ]
  },
  {
   "cell_type": "markdown",
   "metadata": {},
   "source": [
    "### Finding the most provocative users in each topic"
   ]
  },
  {
   "cell_type": "code",
   "execution_count": 14,
   "metadata": {
    "collapsed": true
   },
   "outputs": [],
   "source": [
    "def makeTopicDf(topicIdList):\n",
    "    return pd.concat([computeDescendants(getThread(id)) for id in topicIdList])"
   ]
  },
  {
   "cell_type": "code",
   "execution_count": 15,
   "metadata": {
    "collapsed": true
   },
   "outputs": [],
   "source": [
    "def getProvocativeCommenters(df):\n",
    "    df = df[df.type != \"story\"]\n",
    "    df = df.groupby(\"by\").sum()\n",
    "    df[\"avg\"] = df[\"descendants\"] / df[\"count\"]\n",
    "    df = df[df[\"count\"] > 2]\n",
    "    return df.sort_values(by=\"avg\", ascending=False)    "
   ]
  },
  {
   "cell_type": "code",
   "execution_count": 16,
   "metadata": {
    "scrolled": true
   },
   "outputs": [
    {
     "data": {
      "text/html": [
       "<div>\n",
       "<style>\n",
       "    .dataframe thead tr:only-child th {\n",
       "        text-align: right;\n",
       "    }\n",
       "\n",
       "    .dataframe thead th {\n",
       "        text-align: left;\n",
       "    }\n",
       "\n",
       "    .dataframe tbody tr th {\n",
       "        vertical-align: top;\n",
       "    }\n",
       "</style>\n",
       "<table border=\"1\" class=\"dataframe\">\n",
       "  <thead>\n",
       "    <tr style=\"text-align: right;\">\n",
       "      <th></th>\n",
       "      <th>score</th>\n",
       "      <th>time</th>\n",
       "      <th>descendants</th>\n",
       "      <th>ranking</th>\n",
       "      <th>count</th>\n",
       "      <th>avg</th>\n",
       "    </tr>\n",
       "    <tr>\n",
       "      <th>by</th>\n",
       "      <th></th>\n",
       "      <th></th>\n",
       "      <th></th>\n",
       "      <th></th>\n",
       "      <th></th>\n",
       "      <th></th>\n",
       "    </tr>\n",
       "  </thead>\n",
       "  <tbody>\n",
       "    <tr>\n",
       "      <th>aidenn0</th>\n",
       "      <td>NaN</td>\n",
       "      <td>4.530410e+09</td>\n",
       "      <td>12</td>\n",
       "      <td>NaN</td>\n",
       "      <td>3</td>\n",
       "      <td>4.00</td>\n",
       "    </tr>\n",
       "    <tr>\n",
       "      <th>nodesocket</th>\n",
       "      <td>NaN</td>\n",
       "      <td>5.979329e+09</td>\n",
       "      <td>13</td>\n",
       "      <td>NaN</td>\n",
       "      <td>4</td>\n",
       "      <td>3.25</td>\n",
       "    </tr>\n",
       "    <tr>\n",
       "      <th>xt00</th>\n",
       "      <td>NaN</td>\n",
       "      <td>4.463675e+09</td>\n",
       "      <td>9</td>\n",
       "      <td>NaN</td>\n",
       "      <td>3</td>\n",
       "      <td>3.00</td>\n",
       "    </tr>\n",
       "    <tr>\n",
       "      <th>CPLX</th>\n",
       "      <td>NaN</td>\n",
       "      <td>4.477572e+09</td>\n",
       "      <td>9</td>\n",
       "      <td>NaN</td>\n",
       "      <td>3</td>\n",
       "      <td>3.00</td>\n",
       "    </tr>\n",
       "    <tr>\n",
       "      <th>keeptrying</th>\n",
       "      <td>NaN</td>\n",
       "      <td>4.484538e+09</td>\n",
       "      <td>9</td>\n",
       "      <td>NaN</td>\n",
       "      <td>3</td>\n",
       "      <td>3.00</td>\n",
       "    </tr>\n",
       "  </tbody>\n",
       "</table>\n",
       "</div>"
      ],
      "text/plain": [
       "            score          time  descendants  ranking  count   avg\n",
       "by                                                                \n",
       "aidenn0       NaN  4.530410e+09           12      NaN      3  4.00\n",
       "nodesocket    NaN  5.979329e+09           13      NaN      4  3.25\n",
       "xt00          NaN  4.463675e+09            9      NaN      3  3.00\n",
       "CPLX          NaN  4.477572e+09            9      NaN      3  3.00\n",
       "keeptrying    NaN  4.484538e+09            9      NaN      3  3.00"
      ]
     },
     "execution_count": 16,
     "metadata": {},
     "output_type": "execute_result"
    }
   ],
   "source": [
    "getProvocativeCommenters(makeTopicDf(selfDriving)).head()"
   ]
  },
  {
   "cell_type": "code",
   "execution_count": 17,
   "metadata": {},
   "outputs": [
    {
     "data": {
      "text/html": [
       "<div>\n",
       "<style>\n",
       "    .dataframe thead tr:only-child th {\n",
       "        text-align: right;\n",
       "    }\n",
       "\n",
       "    .dataframe thead th {\n",
       "        text-align: left;\n",
       "    }\n",
       "\n",
       "    .dataframe tbody tr th {\n",
       "        vertical-align: top;\n",
       "    }\n",
       "</style>\n",
       "<table border=\"1\" class=\"dataframe\">\n",
       "  <thead>\n",
       "    <tr style=\"text-align: right;\">\n",
       "      <th></th>\n",
       "      <th>score</th>\n",
       "      <th>time</th>\n",
       "      <th>descendants</th>\n",
       "      <th>ranking</th>\n",
       "      <th>count</th>\n",
       "      <th>avg</th>\n",
       "    </tr>\n",
       "    <tr>\n",
       "      <th>by</th>\n",
       "      <th></th>\n",
       "      <th></th>\n",
       "      <th></th>\n",
       "      <th></th>\n",
       "      <th></th>\n",
       "      <th></th>\n",
       "    </tr>\n",
       "  </thead>\n",
       "  <tbody>\n",
       "    <tr>\n",
       "      <th>imartin2k</th>\n",
       "      <td>NaN</td>\n",
       "      <td>6.009886e+09</td>\n",
       "      <td>19</td>\n",
       "      <td>NaN</td>\n",
       "      <td>4</td>\n",
       "      <td>4.750000</td>\n",
       "    </tr>\n",
       "    <tr>\n",
       "      <th>rayiner</th>\n",
       "      <td>NaN</td>\n",
       "      <td>6.009309e+09</td>\n",
       "      <td>17</td>\n",
       "      <td>NaN</td>\n",
       "      <td>4</td>\n",
       "      <td>4.250000</td>\n",
       "    </tr>\n",
       "    <tr>\n",
       "      <th>josteink</th>\n",
       "      <td>NaN</td>\n",
       "      <td>6.009134e+09</td>\n",
       "      <td>12</td>\n",
       "      <td>NaN</td>\n",
       "      <td>4</td>\n",
       "      <td>3.000000</td>\n",
       "    </tr>\n",
       "    <tr>\n",
       "      <th>trentnix</th>\n",
       "      <td>NaN</td>\n",
       "      <td>4.506852e+09</td>\n",
       "      <td>8</td>\n",
       "      <td>NaN</td>\n",
       "      <td>3</td>\n",
       "      <td>2.666667</td>\n",
       "    </tr>\n",
       "    <tr>\n",
       "      <th>huffmsa</th>\n",
       "      <td>NaN</td>\n",
       "      <td>1.041999e+10</td>\n",
       "      <td>14</td>\n",
       "      <td>NaN</td>\n",
       "      <td>7</td>\n",
       "      <td>2.000000</td>\n",
       "    </tr>\n",
       "  </tbody>\n",
       "</table>\n",
       "</div>"
      ],
      "text/plain": [
       "           score          time  descendants  ranking  count       avg\n",
       "by                                                                   \n",
       "imartin2k    NaN  6.009886e+09           19      NaN      4  4.750000\n",
       "rayiner      NaN  6.009309e+09           17      NaN      4  4.250000\n",
       "josteink     NaN  6.009134e+09           12      NaN      4  3.000000\n",
       "trentnix     NaN  4.506852e+09            8      NaN      3  2.666667\n",
       "huffmsa      NaN  1.041999e+10           14      NaN      7  2.000000"
      ]
     },
     "execution_count": 17,
     "metadata": {},
     "output_type": "execute_result"
    }
   ],
   "source": [
    "getProvocativeCommenters(makeTopicDf(sexism)).head()"
   ]
  },
  {
   "cell_type": "code",
   "execution_count": 18,
   "metadata": {},
   "outputs": [
    {
     "data": {
      "text/html": [
       "<div>\n",
       "<style>\n",
       "    .dataframe thead tr:only-child th {\n",
       "        text-align: right;\n",
       "    }\n",
       "\n",
       "    .dataframe thead th {\n",
       "        text-align: left;\n",
       "    }\n",
       "\n",
       "    .dataframe tbody tr th {\n",
       "        vertical-align: top;\n",
       "    }\n",
       "</style>\n",
       "<table border=\"1\" class=\"dataframe\">\n",
       "  <thead>\n",
       "    <tr style=\"text-align: right;\">\n",
       "      <th></th>\n",
       "      <th>score</th>\n",
       "      <th>time</th>\n",
       "      <th>descendants</th>\n",
       "      <th>ranking</th>\n",
       "      <th>count</th>\n",
       "      <th>avg</th>\n",
       "    </tr>\n",
       "    <tr>\n",
       "      <th>by</th>\n",
       "      <th></th>\n",
       "      <th></th>\n",
       "      <th></th>\n",
       "      <th></th>\n",
       "      <th></th>\n",
       "      <th></th>\n",
       "    </tr>\n",
       "  </thead>\n",
       "  <tbody>\n",
       "    <tr>\n",
       "      <th>prophesi</th>\n",
       "      <td>NaN</td>\n",
       "      <td>4.512089e+09</td>\n",
       "      <td>8</td>\n",
       "      <td>NaN</td>\n",
       "      <td>3</td>\n",
       "      <td>2.666667</td>\n",
       "    </tr>\n",
       "    <tr>\n",
       "      <th>greenscale</th>\n",
       "      <td>NaN</td>\n",
       "      <td>4.498125e+09</td>\n",
       "      <td>8</td>\n",
       "      <td>NaN</td>\n",
       "      <td>3</td>\n",
       "      <td>2.666667</td>\n",
       "    </tr>\n",
       "    <tr>\n",
       "      <th>sillysaurus3</th>\n",
       "      <td>NaN</td>\n",
       "      <td>5.997632e+09</td>\n",
       "      <td>10</td>\n",
       "      <td>NaN</td>\n",
       "      <td>4</td>\n",
       "      <td>2.500000</td>\n",
       "    </tr>\n",
       "    <tr>\n",
       "      <th>sidlls</th>\n",
       "      <td>NaN</td>\n",
       "      <td>7.520153e+09</td>\n",
       "      <td>12</td>\n",
       "      <td>NaN</td>\n",
       "      <td>5</td>\n",
       "      <td>2.400000</td>\n",
       "    </tr>\n",
       "    <tr>\n",
       "      <th>rsp1984</th>\n",
       "      <td>NaN</td>\n",
       "      <td>6.016123e+09</td>\n",
       "      <td>9</td>\n",
       "      <td>NaN</td>\n",
       "      <td>4</td>\n",
       "      <td>2.250000</td>\n",
       "    </tr>\n",
       "  </tbody>\n",
       "</table>\n",
       "</div>"
      ],
      "text/plain": [
       "              score          time  descendants  ranking  count       avg\n",
       "by                                                                      \n",
       "prophesi        NaN  4.512089e+09            8      NaN      3  2.666667\n",
       "greenscale      NaN  4.498125e+09            8      NaN      3  2.666667\n",
       "sillysaurus3    NaN  5.997632e+09           10      NaN      4  2.500000\n",
       "sidlls          NaN  7.520153e+09           12      NaN      5  2.400000\n",
       "rsp1984         NaN  6.016123e+09            9      NaN      4  2.250000"
      ]
     },
     "execution_count": 18,
     "metadata": {},
     "output_type": "execute_result"
    }
   ],
   "source": [
    "getProvocativeCommenters(makeTopicDf(augmentedReality)).head()"
   ]
  },
  {
   "cell_type": "markdown",
   "metadata": {},
   "source": [
    "# Bringing it together: Recommending Blockchain content\n",
    "\n",
    "### Simulating a corpus"
   ]
  },
  {
   "cell_type": "code",
   "execution_count": 19,
   "metadata": {
    "collapsed": true
   },
   "outputs": [],
   "source": [
    "# bootstrap a topic by filling it with algolia search results\n",
    "blockchain = [16145451, 15509147, 15935179, 15605753, 16617136, 14945008, 15203314, 15400963, 15008634, 15919650, 15882877, 15935342, 16035387, 14824695, 14894906, 15870468, 15347578, 15817510, 14548805, 16122776, 16004945, 14795457, 14495623, 15136222, 14623821, 14901900, 14705499, 14981556, 15831713, 15299359, 14730354, 14865868, 14434244, 15479945, 15840594, 16269444, 16622245, 15172617, 14850806, 16435294, 16598210, 15398550, 16107597, 15945490, 15497729, 15372940, 16584755, 15979024, 14430690, 15588380, 16358102, 16205776, 15994571, 15404601, 14439789, 16191506, 15058698, 14552030, 16315456, 16674387, 16545023, 15569325, 15264169, 16256472, 14573959, 15436592, 14317971, 14897774, 15103007, 14758516, 15998861, 14332397, 15540833, 16537377, 15021711, 15644545, 15178093, 14802154, 15984946, 15306223, 14434405, 15522023, 16235886, 14825095, 15950179, 14774263, 15430668, 16244668, 16201007, 16628067, 16421383, 15298300, 16089069, 16017319, 14534352, 15529512, 14671346, 14475733, 14926380, 15614231, 14594172, 15988709, 15016080, 15024823, 15479091, 15382911, 16161641, 14644820, 15850949, 15915520, 16115891, 16468714, 14236945, 16017978, 15057985, 14361918]"
   ]
  },
  {
   "cell_type": "code",
   "execution_count": 20,
   "metadata": {
    "collapsed": true
   },
   "outputs": [],
   "source": [
    "blockchain_df = makeTopicDf(blockchain)\n",
    "blockchain_commenters = getProvocativeCommenters(blockchain_df)"
   ]
  },
  {
   "cell_type": "code",
   "execution_count": 21,
   "metadata": {},
   "outputs": [
    {
     "data": {
      "text/html": [
       "<div>\n",
       "<style>\n",
       "    .dataframe thead tr:only-child th {\n",
       "        text-align: right;\n",
       "    }\n",
       "\n",
       "    .dataframe thead th {\n",
       "        text-align: left;\n",
       "    }\n",
       "\n",
       "    .dataframe tbody tr th {\n",
       "        vertical-align: top;\n",
       "    }\n",
       "</style>\n",
       "<table border=\"1\" class=\"dataframe\">\n",
       "  <thead>\n",
       "    <tr style=\"text-align: right;\">\n",
       "      <th></th>\n",
       "      <th>score</th>\n",
       "      <th>time</th>\n",
       "      <th>descendants</th>\n",
       "      <th>ranking</th>\n",
       "      <th>count</th>\n",
       "      <th>avg</th>\n",
       "    </tr>\n",
       "    <tr>\n",
       "      <th>by</th>\n",
       "      <th></th>\n",
       "      <th></th>\n",
       "      <th></th>\n",
       "      <th></th>\n",
       "      <th></th>\n",
       "      <th></th>\n",
       "    </tr>\n",
       "  </thead>\n",
       "  <tbody>\n",
       "    <tr>\n",
       "      <th>victor106</th>\n",
       "      <td>NaN</td>\n",
       "      <td>4.530126e+09</td>\n",
       "      <td>15</td>\n",
       "      <td>NaN</td>\n",
       "      <td>3</td>\n",
       "      <td>5.000000</td>\n",
       "    </tr>\n",
       "    <tr>\n",
       "      <th>lumberjack</th>\n",
       "      <td>NaN</td>\n",
       "      <td>6.015430e+09</td>\n",
       "      <td>17</td>\n",
       "      <td>NaN</td>\n",
       "      <td>4</td>\n",
       "      <td>4.250000</td>\n",
       "    </tr>\n",
       "    <tr>\n",
       "      <th>davesque</th>\n",
       "      <td>NaN</td>\n",
       "      <td>4.553854e+09</td>\n",
       "      <td>11</td>\n",
       "      <td>NaN</td>\n",
       "      <td>3</td>\n",
       "      <td>3.666667</td>\n",
       "    </tr>\n",
       "    <tr>\n",
       "      <th>programmarchy</th>\n",
       "      <td>NaN</td>\n",
       "      <td>4.515940e+09</td>\n",
       "      <td>11</td>\n",
       "      <td>NaN</td>\n",
       "      <td>3</td>\n",
       "      <td>3.666667</td>\n",
       "    </tr>\n",
       "    <tr>\n",
       "      <th>joshfraser</th>\n",
       "      <td>NaN</td>\n",
       "      <td>4.544610e+09</td>\n",
       "      <td>11</td>\n",
       "      <td>NaN</td>\n",
       "      <td>3</td>\n",
       "      <td>3.666667</td>\n",
       "    </tr>\n",
       "  </tbody>\n",
       "</table>\n",
       "</div>"
      ],
      "text/plain": [
       "               score          time  descendants  ranking  count       avg\n",
       "by                                                                       \n",
       "victor106        NaN  4.530126e+09           15      NaN      3  5.000000\n",
       "lumberjack       NaN  6.015430e+09           17      NaN      4  4.250000\n",
       "davesque         NaN  4.553854e+09           11      NaN      3  3.666667\n",
       "programmarchy    NaN  4.515940e+09           11      NaN      3  3.666667\n",
       "joshfraser       NaN  4.544610e+09           11      NaN      3  3.666667"
      ]
     },
     "execution_count": 21,
     "metadata": {},
     "output_type": "execute_result"
    }
   ],
   "source": [
    "blockchain_commenters.head()"
   ]
  },
  {
   "cell_type": "markdown",
   "metadata": {},
   "source": [
    "### Fetching Latest Posts by top users"
   ]
  },
  {
   "cell_type": "code",
   "execution_count": 22,
   "metadata": {
    "collapsed": true
   },
   "outputs": [],
   "source": [
    "# use the live HN api to grab the latest post by users\n",
    "def getLatestPostBy(user):\n",
    "    url = \"https://hacker-news.firebaseio.com/v0/user/\" + str(user) + \".json\"\n",
    "    response = requests.get(url, data=0)\n",
    "    \n",
    "    recentPost = max(response.json()[\"submitted\"])\n",
    "    \n",
    "    url = \"https://hacker-news.firebaseio.com/v0/item/\" + str(recentPost) + \".json\"\n",
    "    response = requests.get(url, data=0)\n",
    "\n",
    "    \n",
    "    return response.json()"
   ]
  },
  {
   "cell_type": "code",
   "execution_count": 23,
   "metadata": {
    "collapsed": true
   },
   "outputs": [],
   "source": [
    "blockchain_provocateurs = list(blockchain_commenters.index)[0:5]"
   ]
  },
  {
   "cell_type": "code",
   "execution_count": 24,
   "metadata": {},
   "outputs": [
    {
     "data": {
      "text/plain": [
       "{'by': 'lumberjack',\n",
       " 'id': 16687489,\n",
       " 'kids': [16689329],\n",
       " 'parent': 16686488,\n",
       " 'text': 'There are some niches where you can invest in some $100k equipment and then basically just lease it out to people, or operate a very simple business where all you do is operate the equipment.<p>Some examples:\\n- cutting prescription lenses\\n- power washing&#x2F;landscaping equipment\\n- food carts\\n- printing T-Shirts\\n- plotters&#x2F;CNC machines&#x2F;3D printers<p>I know a few people who run side businesses where all they did was buy the equipment and hire one employee to operate it.',\n",
       " 'time': 1522152509,\n",
       " 'type': 'comment'}"
      ]
     },
     "execution_count": 24,
     "metadata": {},
     "output_type": "execute_result"
    }
   ],
   "source": [
    "getLatestPostBy(\"lumberjack\")"
   ]
  },
  {
   "cell_type": "markdown",
   "metadata": {},
   "source": [
    "### Recommending Threads to Explore"
   ]
  },
  {
   "cell_type": "code",
   "execution_count": 26,
   "metadata": {},
   "outputs": [
    {
     "name": "stdout",
     "output_type": "stream",
     "text": [
      "Provocative Blockchain Posters are Commenting here:\n",
      "https://news.ycombinator.com/item?id=16621384\n",
      "https://news.ycombinator.com/item?id=16556468\n",
      "https://news.ycombinator.com/item?id=16668172\n",
      "https://news.ycombinator.com/item?id=16686488\n",
      "https://news.ycombinator.com/item?id=16691141\n"
     ]
    }
   ],
   "source": [
    "links = []\n",
    "\n",
    "for user in blockchain_provocateurs:\n",
    "    thread = getLatestPostBy(user)\n",
    "    url = \"https://news.ycombinator.com/item?id=\" + str(thread[\"parent\"])\n",
    "    links.append(url)\n",
    "    \n",
    "print(\"Provocative Blockchain Posters are Commenting here:\")\n",
    "for link in set(links):\n",
    "    print(link)"
   ]
  },
  {
   "cell_type": "code",
   "execution_count": null,
   "metadata": {
    "collapsed": true
   },
   "outputs": [],
   "source": []
  }
 ],
 "metadata": {
  "kernelspec": {
   "display_name": "Python 3",
   "language": "python",
   "name": "python3"
  },
  "language_info": {
   "codemirror_mode": {
    "name": "ipython",
    "version": 3
   },
   "file_extension": ".py",
   "mimetype": "text/x-python",
   "name": "python",
   "nbconvert_exporter": "python",
   "pygments_lexer": "ipython3",
   "version": "3.6.3"
  }
 },
 "nbformat": 4,
 "nbformat_minor": 2
}
