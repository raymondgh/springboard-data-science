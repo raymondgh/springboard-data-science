{
 "cells": [
  {
   "cell_type": "markdown",
   "metadata": {},
   "source": [
    "# Modeling\n",
    "\n",
    "Import packages"
   ]
  },
  {
   "cell_type": "code",
   "execution_count": 1,
   "metadata": {
    "collapsed": true
   },
   "outputs": [],
   "source": [
    "import numpy as np\n",
    "import pandas as pd"
   ]
  },
  {
   "cell_type": "code",
   "execution_count": 2,
   "metadata": {
    "collapsed": true
   },
   "outputs": [],
   "source": [
    "# read establishment data\n",
    "biz = pd.read_csv(\"data/interim/establishments.csv\", encoding=\"latin-1\")\n",
    "biz[\"geo_id\"] = biz[\"geo_id\"].apply(lambda x: \"%05d\" % (x,))\n",
    "\n",
    "# read immigration data\n",
    "exemptions_in = pd.read_csv(\"data/interim/exemptions_inflow.csv\", encoding=\"latin-1\")\n",
    "\n",
    "# compute summary statistics\n",
    "exemptions_in[\"sum\"] = exemptions_in.drop([\"year\", \"geo_id\"], axis=1).sum(axis=1)\n",
    "exemptions_in[\"home\"] = exemptions_in.drop([\"year\",\"sum\", \"geo_id\"], axis=1).max(axis=1)\n",
    "exemptions_in[\"immigrants\"] = exemptions_in[\"sum\"] - exemptions_in[\"home\"]\n",
    "exemptions_in[\"geo_id\"] = exemptions_in[\"geo_id\"].apply(lambda x: \"%05d\" % (x,))\n",
    "\n",
    "# read emigration data\n",
    "exemptions_out = pd.read_csv(\"data/interim/exemptions_outflow.csv\", encoding=\"latin-1\")\n",
    "\n",
    "# compute summary statistics\n",
    "exemptions_out[\"sum\"] = exemptions_out.drop(\"year\", axis=1).drop(\"geo_id\", axis=1).sum(axis=1)\n",
    "exemptions_out[\"home\"] = exemptions_out.drop([\"year\",\"sum\", \"geo_id\"], axis=1).max(axis=1)\n",
    "exemptions_out[\"emigrants\"] = exemptions_out[\"sum\"] - exemptions_out[\"home\"]\n",
    "exemptions_out[\"geo_id\"] = exemptions_out[\"geo_id\"].apply(lambda x: \"%05d\" % (x,))"
   ]
  },
  {
   "cell_type": "code",
   "execution_count": 3,
   "metadata": {},
   "outputs": [
    {
     "name": "stderr",
     "output_type": "stream",
     "text": [
      "C:\\ProgramData\\Anaconda3\\lib\\site-packages\\pandas\\core\\base.py:331: PerformanceWarning: dropping on a non-lexsorted multi-index without a level parameter may impact performance.\n",
      "  return self.obj.drop(self.exclusions, axis=1)\n"
     ]
    }
   ],
   "source": [
    "# aggregating immigration info by state\n",
    "\n",
    "state_ins = exemptions_in\n",
    "state_ins.columns = state_ins.columns.str[0:2]\n",
    "state_ins = state_ins.set_index([\"ge\", \"ye\"]).transpose()\n",
    "state_ins = state_ins.reset_index().groupby(\"index\").sum()\n",
    "state_ins = state_ins.transpose().drop(\"su\", axis=1)\n",
    "state_ins[\"state_immigrants\"] = state_ins.max(axis=1) - state_ins[\"ho\"]"
   ]
  },
  {
   "cell_type": "code",
   "execution_count": 4,
   "metadata": {
    "collapsed": true
   },
   "outputs": [],
   "source": [
    "# create and update a samples dataframe\n",
    "\n",
    "samples = pd.merge(exemptions_in[[\"ge\", \"ye\", \"su\"]], state_ins.reset_index()[[\"ge\",\"ye\", \"ho\", \"im\", \"state_immigrants\"]], how=\"left\", on=[\"ge\", \"ye\"])\n",
    "samples.columns = [\"geo_id\", \"year\", \"population\", \"stayed_home\", \"total_immigrants\", \"in_state_immigrants\"]\n"
   ]
  },
  {
   "cell_type": "code",
   "execution_count": 5,
   "metadata": {},
   "outputs": [
    {
     "name": "stderr",
     "output_type": "stream",
     "text": [
      "C:\\ProgramData\\Anaconda3\\lib\\site-packages\\pandas\\core\\base.py:331: PerformanceWarning: dropping on a non-lexsorted multi-index without a level parameter may impact performance.\n",
      "  return self.obj.drop(self.exclusions, axis=1)\n"
     ]
    }
   ],
   "source": [
    "# aggregating emigration info by state\n",
    "\n",
    "state_outs = exemptions_out\n",
    "state_outs.columns = state_outs.columns.str[0:2]\n",
    "state_outs = state_outs.set_index([\"ge\", \"ye\"]).transpose()\n",
    "state_outs = state_outs.reset_index().groupby(\"index\").sum()\n",
    "state_outs = state_outs.transpose().drop(\"su\", axis=1)\n",
    "state_outs[\"state_emigrants\"] = state_outs.max(axis=1) - state_ins[\"ho\"]"
   ]
  },
  {
   "cell_type": "code",
   "execution_count": 6,
   "metadata": {
    "collapsed": true,
    "scrolled": true
   },
   "outputs": [],
   "source": [
    "# update samples dataframe\n",
    "\n",
    "samples = pd.merge(samples, state_outs.reset_index()[[\"ge\", \"ye\", \"em\", \"state_emigrants\"]], how=\"left\", left_on=[\"geo_id\", \"year\"], right_on=[\"ge\", \"ye\"])\n",
    "samples.columns = [\"geo_id\", \"year\", \"population\", \"stayed_home\", \"total_immigrants\", \"in_state_immigrants\", \"ge\", \"ye\", \"total_emigrants\", \"in_state_emigrants\"]\n",
    "samples = samples.drop([\"ge\", \"ye\"], axis=1)\n",
    "\n",
    "\n",
    "# add busienss data\n",
    "samples = pd.merge(biz[[\"geo_id\", \"year\", \"Retail trade\"]], samples, how=\"left\", on=[\"geo_id\", \"year\"])"
   ]
  },
  {
   "cell_type": "code",
   "execution_count": 7,
   "metadata": {
    "collapsed": true
   },
   "outputs": [],
   "source": [
    "# set create a year column for previous year\n",
    "samples[\"previous_year\"] = samples[\"year\"] -1\n",
    "\n",
    "# merge year 2 data with year 1 data by matching year to \"previous year\" of next year\n",
    "samples = pd.merge(samples, samples, how=\"left\", left_on=[\"geo_id\", \"year\"], right_on=[\"geo_id\", \"previous_year\"], suffixes=(\"_y1\", \"_y2\")).fillna(0)\n",
    "\n",
    "# drop extra columns\n",
    "samples = samples.drop([\"previous_year_y1\", \"previous_year_y2\"], axis=1)\n",
    "\n",
    "# convert floats to int\n",
    "samples = samples.astype(int)\n",
    "\n",
    "# drop 2005 from table\n",
    "samples = samples[samples[\"year_y2\"] != 0]"
   ]
  },
  {
   "cell_type": "code",
   "execution_count": 8,
   "metadata": {},
   "outputs": [
    {
     "data": {
      "text/html": [
       "<div>\n",
       "<style>\n",
       "    .dataframe thead tr:only-child th {\n",
       "        text-align: right;\n",
       "    }\n",
       "\n",
       "    .dataframe thead th {\n",
       "        text-align: left;\n",
       "    }\n",
       "\n",
       "    .dataframe tbody tr th {\n",
       "        vertical-align: top;\n",
       "    }\n",
       "</style>\n",
       "<table border=\"1\" class=\"dataframe\">\n",
       "  <thead>\n",
       "    <tr style=\"text-align: right;\">\n",
       "      <th></th>\n",
       "      <th>geo_id</th>\n",
       "      <th>year_y1</th>\n",
       "      <th>Retail trade_y1</th>\n",
       "      <th>population_y1</th>\n",
       "      <th>stayed_home_y1</th>\n",
       "      <th>total_immigrants_y1</th>\n",
       "      <th>in_state_immigrants_y1</th>\n",
       "      <th>total_emigrants_y1</th>\n",
       "      <th>in_state_emigrants_y1</th>\n",
       "      <th>year_y2</th>\n",
       "      <th>Retail trade_y2</th>\n",
       "      <th>population_y2</th>\n",
       "      <th>stayed_home_y2</th>\n",
       "      <th>total_immigrants_y2</th>\n",
       "      <th>in_state_immigrants_y2</th>\n",
       "      <th>total_emigrants_y2</th>\n",
       "      <th>in_state_emigrants_y2</th>\n",
       "    </tr>\n",
       "  </thead>\n",
       "  <tbody>\n",
       "    <tr>\n",
       "      <th>0</th>\n",
       "      <td>1001</td>\n",
       "      <td>2005</td>\n",
       "      <td>176</td>\n",
       "      <td>42270</td>\n",
       "      <td>35901</td>\n",
       "      <td>6369</td>\n",
       "      <td>2185</td>\n",
       "      <td>5221</td>\n",
       "      <td>1883</td>\n",
       "      <td>2006</td>\n",
       "      <td>180</td>\n",
       "      <td>43578</td>\n",
       "      <td>36850</td>\n",
       "      <td>6728</td>\n",
       "      <td>2519</td>\n",
       "      <td>5647</td>\n",
       "      <td>2102</td>\n",
       "    </tr>\n",
       "    <tr>\n",
       "      <th>1</th>\n",
       "      <td>1001</td>\n",
       "      <td>2006</td>\n",
       "      <td>180</td>\n",
       "      <td>43578</td>\n",
       "      <td>36850</td>\n",
       "      <td>6728</td>\n",
       "      <td>2519</td>\n",
       "      <td>5647</td>\n",
       "      <td>2102</td>\n",
       "      <td>2007</td>\n",
       "      <td>176</td>\n",
       "      <td>44329</td>\n",
       "      <td>37767</td>\n",
       "      <td>6562</td>\n",
       "      <td>2394</td>\n",
       "      <td>5570</td>\n",
       "      <td>2127</td>\n",
       "    </tr>\n",
       "    <tr>\n",
       "      <th>2</th>\n",
       "      <td>1001</td>\n",
       "      <td>2007</td>\n",
       "      <td>176</td>\n",
       "      <td>44329</td>\n",
       "      <td>37767</td>\n",
       "      <td>6562</td>\n",
       "      <td>2394</td>\n",
       "      <td>5570</td>\n",
       "      <td>2127</td>\n",
       "      <td>2008</td>\n",
       "      <td>176</td>\n",
       "      <td>45929</td>\n",
       "      <td>39518</td>\n",
       "      <td>6411</td>\n",
       "      <td>2548</td>\n",
       "      <td>5648</td>\n",
       "      <td>2047</td>\n",
       "    </tr>\n",
       "    <tr>\n",
       "      <th>3</th>\n",
       "      <td>1001</td>\n",
       "      <td>2008</td>\n",
       "      <td>176</td>\n",
       "      <td>45929</td>\n",
       "      <td>39518</td>\n",
       "      <td>6411</td>\n",
       "      <td>2548</td>\n",
       "      <td>5648</td>\n",
       "      <td>2047</td>\n",
       "      <td>2009</td>\n",
       "      <td>175</td>\n",
       "      <td>46822</td>\n",
       "      <td>40719</td>\n",
       "      <td>6103</td>\n",
       "      <td>2230</td>\n",
       "      <td>5778</td>\n",
       "      <td>2118</td>\n",
       "    </tr>\n",
       "    <tr>\n",
       "      <th>4</th>\n",
       "      <td>1001</td>\n",
       "      <td>2009</td>\n",
       "      <td>175</td>\n",
       "      <td>46822</td>\n",
       "      <td>40719</td>\n",
       "      <td>6103</td>\n",
       "      <td>2230</td>\n",
       "      <td>5778</td>\n",
       "      <td>2118</td>\n",
       "      <td>2010</td>\n",
       "      <td>173</td>\n",
       "      <td>45868</td>\n",
       "      <td>40099</td>\n",
       "      <td>5769</td>\n",
       "      <td>2225</td>\n",
       "      <td>4943</td>\n",
       "      <td>1925</td>\n",
       "    </tr>\n",
       "    <tr>\n",
       "      <th>5</th>\n",
       "      <td>1001</td>\n",
       "      <td>2010</td>\n",
       "      <td>173</td>\n",
       "      <td>45868</td>\n",
       "      <td>40099</td>\n",
       "      <td>5769</td>\n",
       "      <td>2225</td>\n",
       "      <td>4943</td>\n",
       "      <td>1925</td>\n",
       "      <td>2011</td>\n",
       "      <td>168</td>\n",
       "      <td>46890</td>\n",
       "      <td>40643</td>\n",
       "      <td>6247</td>\n",
       "      <td>2331</td>\n",
       "      <td>5559</td>\n",
       "      <td>2080</td>\n",
       "    </tr>\n",
       "    <tr>\n",
       "      <th>6</th>\n",
       "      <td>1001</td>\n",
       "      <td>2011</td>\n",
       "      <td>168</td>\n",
       "      <td>46890</td>\n",
       "      <td>40643</td>\n",
       "      <td>6247</td>\n",
       "      <td>2331</td>\n",
       "      <td>5559</td>\n",
       "      <td>2080</td>\n",
       "      <td>2012</td>\n",
       "      <td>163</td>\n",
       "      <td>47808</td>\n",
       "      <td>41757</td>\n",
       "      <td>6051</td>\n",
       "      <td>2682</td>\n",
       "      <td>6185</td>\n",
       "      <td>2652</td>\n",
       "    </tr>\n",
       "    <tr>\n",
       "      <th>7</th>\n",
       "      <td>1001</td>\n",
       "      <td>2012</td>\n",
       "      <td>163</td>\n",
       "      <td>47808</td>\n",
       "      <td>41757</td>\n",
       "      <td>6051</td>\n",
       "      <td>2682</td>\n",
       "      <td>6185</td>\n",
       "      <td>2652</td>\n",
       "      <td>2013</td>\n",
       "      <td>164</td>\n",
       "      <td>47654</td>\n",
       "      <td>41552</td>\n",
       "      <td>6102</td>\n",
       "      <td>2520</td>\n",
       "      <td>5695</td>\n",
       "      <td>2216</td>\n",
       "    </tr>\n",
       "    <tr>\n",
       "      <th>8</th>\n",
       "      <td>1001</td>\n",
       "      <td>2013</td>\n",
       "      <td>164</td>\n",
       "      <td>47654</td>\n",
       "      <td>41552</td>\n",
       "      <td>6102</td>\n",
       "      <td>2520</td>\n",
       "      <td>5695</td>\n",
       "      <td>2216</td>\n",
       "      <td>2014</td>\n",
       "      <td>165</td>\n",
       "      <td>47191</td>\n",
       "      <td>41198</td>\n",
       "      <td>5993</td>\n",
       "      <td>2148</td>\n",
       "      <td>5974</td>\n",
       "      <td>2137</td>\n",
       "    </tr>\n",
       "    <tr>\n",
       "      <th>9</th>\n",
       "      <td>1001</td>\n",
       "      <td>2014</td>\n",
       "      <td>165</td>\n",
       "      <td>47191</td>\n",
       "      <td>41198</td>\n",
       "      <td>5993</td>\n",
       "      <td>2148</td>\n",
       "      <td>5974</td>\n",
       "      <td>2137</td>\n",
       "      <td>2015</td>\n",
       "      <td>169</td>\n",
       "      <td>45971</td>\n",
       "      <td>42354</td>\n",
       "      <td>3617</td>\n",
       "      <td>1735</td>\n",
       "      <td>3329</td>\n",
       "      <td>1542</td>\n",
       "    </tr>\n",
       "    <tr>\n",
       "      <th>11</th>\n",
       "      <td>1003</td>\n",
       "      <td>2005</td>\n",
       "      <td>954</td>\n",
       "      <td>127140</td>\n",
       "      <td>112964</td>\n",
       "      <td>14176</td>\n",
       "      <td>3582</td>\n",
       "      <td>8874</td>\n",
       "      <td>2142</td>\n",
       "      <td>2006</td>\n",
       "      <td>983</td>\n",
       "      <td>126258</td>\n",
       "      <td>111825</td>\n",
       "      <td>14433</td>\n",
       "      <td>3642</td>\n",
       "      <td>9768</td>\n",
       "      <td>2430</td>\n",
       "    </tr>\n",
       "    <tr>\n",
       "      <th>12</th>\n",
       "      <td>1003</td>\n",
       "      <td>2006</td>\n",
       "      <td>983</td>\n",
       "      <td>126258</td>\n",
       "      <td>111825</td>\n",
       "      <td>14433</td>\n",
       "      <td>3642</td>\n",
       "      <td>9768</td>\n",
       "      <td>2430</td>\n",
       "      <td>2007</td>\n",
       "      <td>1026</td>\n",
       "      <td>127668</td>\n",
       "      <td>115030</td>\n",
       "      <td>12638</td>\n",
       "      <td>3246</td>\n",
       "      <td>9313</td>\n",
       "      <td>2403</td>\n",
       "    </tr>\n",
       "    <tr>\n",
       "      <th>13</th>\n",
       "      <td>1003</td>\n",
       "      <td>2007</td>\n",
       "      <td>1026</td>\n",
       "      <td>127668</td>\n",
       "      <td>115030</td>\n",
       "      <td>12638</td>\n",
       "      <td>3246</td>\n",
       "      <td>9313</td>\n",
       "      <td>2403</td>\n",
       "      <td>2008</td>\n",
       "      <td>990</td>\n",
       "      <td>136562</td>\n",
       "      <td>123743</td>\n",
       "      <td>12819</td>\n",
       "      <td>3329</td>\n",
       "      <td>10088</td>\n",
       "      <td>2696</td>\n",
       "    </tr>\n",
       "    <tr>\n",
       "      <th>14</th>\n",
       "      <td>1003</td>\n",
       "      <td>2008</td>\n",
       "      <td>990</td>\n",
       "      <td>136562</td>\n",
       "      <td>123743</td>\n",
       "      <td>12819</td>\n",
       "      <td>3329</td>\n",
       "      <td>10088</td>\n",
       "      <td>2696</td>\n",
       "      <td>2009</td>\n",
       "      <td>964</td>\n",
       "      <td>141502</td>\n",
       "      <td>128866</td>\n",
       "      <td>12636</td>\n",
       "      <td>3300</td>\n",
       "      <td>9850</td>\n",
       "      <td>2211</td>\n",
       "    </tr>\n",
       "    <tr>\n",
       "      <th>15</th>\n",
       "      <td>1003</td>\n",
       "      <td>2009</td>\n",
       "      <td>964</td>\n",
       "      <td>141502</td>\n",
       "      <td>128866</td>\n",
       "      <td>12636</td>\n",
       "      <td>3300</td>\n",
       "      <td>9850</td>\n",
       "      <td>2211</td>\n",
       "      <td>2010</td>\n",
       "      <td>946</td>\n",
       "      <td>143123</td>\n",
       "      <td>130133</td>\n",
       "      <td>12990</td>\n",
       "      <td>3588</td>\n",
       "      <td>9539</td>\n",
       "      <td>2067</td>\n",
       "    </tr>\n",
       "  </tbody>\n",
       "</table>\n",
       "</div>"
      ],
      "text/plain": [
       "    geo_id  year_y1  Retail trade_y1  population_y1  stayed_home_y1  \\\n",
       "0     1001     2005              176          42270           35901   \n",
       "1     1001     2006              180          43578           36850   \n",
       "2     1001     2007              176          44329           37767   \n",
       "3     1001     2008              176          45929           39518   \n",
       "4     1001     2009              175          46822           40719   \n",
       "5     1001     2010              173          45868           40099   \n",
       "6     1001     2011              168          46890           40643   \n",
       "7     1001     2012              163          47808           41757   \n",
       "8     1001     2013              164          47654           41552   \n",
       "9     1001     2014              165          47191           41198   \n",
       "11    1003     2005              954         127140          112964   \n",
       "12    1003     2006              983         126258          111825   \n",
       "13    1003     2007             1026         127668          115030   \n",
       "14    1003     2008              990         136562          123743   \n",
       "15    1003     2009              964         141502          128866   \n",
       "\n",
       "    total_immigrants_y1  in_state_immigrants_y1  total_emigrants_y1  \\\n",
       "0                  6369                    2185                5221   \n",
       "1                  6728                    2519                5647   \n",
       "2                  6562                    2394                5570   \n",
       "3                  6411                    2548                5648   \n",
       "4                  6103                    2230                5778   \n",
       "5                  5769                    2225                4943   \n",
       "6                  6247                    2331                5559   \n",
       "7                  6051                    2682                6185   \n",
       "8                  6102                    2520                5695   \n",
       "9                  5993                    2148                5974   \n",
       "11                14176                    3582                8874   \n",
       "12                14433                    3642                9768   \n",
       "13                12638                    3246                9313   \n",
       "14                12819                    3329               10088   \n",
       "15                12636                    3300                9850   \n",
       "\n",
       "    in_state_emigrants_y1  year_y2  Retail trade_y2  population_y2  \\\n",
       "0                    1883     2006              180          43578   \n",
       "1                    2102     2007              176          44329   \n",
       "2                    2127     2008              176          45929   \n",
       "3                    2047     2009              175          46822   \n",
       "4                    2118     2010              173          45868   \n",
       "5                    1925     2011              168          46890   \n",
       "6                    2080     2012              163          47808   \n",
       "7                    2652     2013              164          47654   \n",
       "8                    2216     2014              165          47191   \n",
       "9                    2137     2015              169          45971   \n",
       "11                   2142     2006              983         126258   \n",
       "12                   2430     2007             1026         127668   \n",
       "13                   2403     2008              990         136562   \n",
       "14                   2696     2009              964         141502   \n",
       "15                   2211     2010              946         143123   \n",
       "\n",
       "    stayed_home_y2  total_immigrants_y2  in_state_immigrants_y2  \\\n",
       "0            36850                 6728                    2519   \n",
       "1            37767                 6562                    2394   \n",
       "2            39518                 6411                    2548   \n",
       "3            40719                 6103                    2230   \n",
       "4            40099                 5769                    2225   \n",
       "5            40643                 6247                    2331   \n",
       "6            41757                 6051                    2682   \n",
       "7            41552                 6102                    2520   \n",
       "8            41198                 5993                    2148   \n",
       "9            42354                 3617                    1735   \n",
       "11          111825                14433                    3642   \n",
       "12          115030                12638                    3246   \n",
       "13          123743                12819                    3329   \n",
       "14          128866                12636                    3300   \n",
       "15          130133                12990                    3588   \n",
       "\n",
       "    total_emigrants_y2  in_state_emigrants_y2  \n",
       "0                 5647                   2102  \n",
       "1                 5570                   2127  \n",
       "2                 5648                   2047  \n",
       "3                 5778                   2118  \n",
       "4                 4943                   1925  \n",
       "5                 5559                   2080  \n",
       "6                 6185                   2652  \n",
       "7                 5695                   2216  \n",
       "8                 5974                   2137  \n",
       "9                 3329                   1542  \n",
       "11                9768                   2430  \n",
       "12                9313                   2403  \n",
       "13               10088                   2696  \n",
       "14                9850                   2211  \n",
       "15                9539                   2067  "
      ]
     },
     "execution_count": 8,
     "metadata": {},
     "output_type": "execute_result"
    }
   ],
   "source": [
    "samples.head(15)"
   ]
  },
  {
   "cell_type": "code",
   "execution_count": 9,
   "metadata": {
    "collapsed": true
   },
   "outputs": [],
   "source": [
    "# should i add columns for biz growth and pop growth? or ordinal values better?"
   ]
  },
  {
   "cell_type": "code",
   "execution_count": 10,
   "metadata": {
    "collapsed": true
   },
   "outputs": [],
   "source": [
    "samples[\"growth\"] = samples[\"Retail trade_y1\"] < samples[\"Retail trade_y2\"]"
   ]
  },
  {
   "cell_type": "code",
   "execution_count": 11,
   "metadata": {},
   "outputs": [
    {
     "data": {
      "text/html": [
       "<div>\n",
       "<style>\n",
       "    .dataframe thead tr:only-child th {\n",
       "        text-align: right;\n",
       "    }\n",
       "\n",
       "    .dataframe thead th {\n",
       "        text-align: left;\n",
       "    }\n",
       "\n",
       "    .dataframe tbody tr th {\n",
       "        vertical-align: top;\n",
       "    }\n",
       "</style>\n",
       "<table border=\"1\" class=\"dataframe\">\n",
       "  <thead>\n",
       "    <tr style=\"text-align: right;\">\n",
       "      <th></th>\n",
       "      <th>geo_id</th>\n",
       "      <th>year_y1</th>\n",
       "      <th>Retail trade_y1</th>\n",
       "      <th>population_y1</th>\n",
       "      <th>stayed_home_y1</th>\n",
       "      <th>total_immigrants_y1</th>\n",
       "      <th>in_state_immigrants_y1</th>\n",
       "      <th>total_emigrants_y1</th>\n",
       "      <th>in_state_emigrants_y1</th>\n",
       "      <th>year_y2</th>\n",
       "      <th>Retail trade_y2</th>\n",
       "      <th>population_y2</th>\n",
       "      <th>stayed_home_y2</th>\n",
       "      <th>total_immigrants_y2</th>\n",
       "      <th>in_state_immigrants_y2</th>\n",
       "      <th>total_emigrants_y2</th>\n",
       "      <th>in_state_emigrants_y2</th>\n",
       "      <th>growth</th>\n",
       "    </tr>\n",
       "  </thead>\n",
       "  <tbody>\n",
       "    <tr>\n",
       "      <th>0</th>\n",
       "      <td>1001</td>\n",
       "      <td>2005</td>\n",
       "      <td>176</td>\n",
       "      <td>42270</td>\n",
       "      <td>35901</td>\n",
       "      <td>6369</td>\n",
       "      <td>2185</td>\n",
       "      <td>5221</td>\n",
       "      <td>1883</td>\n",
       "      <td>2006</td>\n",
       "      <td>180</td>\n",
       "      <td>43578</td>\n",
       "      <td>36850</td>\n",
       "      <td>6728</td>\n",
       "      <td>2519</td>\n",
       "      <td>5647</td>\n",
       "      <td>2102</td>\n",
       "      <td>True</td>\n",
       "    </tr>\n",
       "    <tr>\n",
       "      <th>1</th>\n",
       "      <td>1001</td>\n",
       "      <td>2006</td>\n",
       "      <td>180</td>\n",
       "      <td>43578</td>\n",
       "      <td>36850</td>\n",
       "      <td>6728</td>\n",
       "      <td>2519</td>\n",
       "      <td>5647</td>\n",
       "      <td>2102</td>\n",
       "      <td>2007</td>\n",
       "      <td>176</td>\n",
       "      <td>44329</td>\n",
       "      <td>37767</td>\n",
       "      <td>6562</td>\n",
       "      <td>2394</td>\n",
       "      <td>5570</td>\n",
       "      <td>2127</td>\n",
       "      <td>False</td>\n",
       "    </tr>\n",
       "    <tr>\n",
       "      <th>2</th>\n",
       "      <td>1001</td>\n",
       "      <td>2007</td>\n",
       "      <td>176</td>\n",
       "      <td>44329</td>\n",
       "      <td>37767</td>\n",
       "      <td>6562</td>\n",
       "      <td>2394</td>\n",
       "      <td>5570</td>\n",
       "      <td>2127</td>\n",
       "      <td>2008</td>\n",
       "      <td>176</td>\n",
       "      <td>45929</td>\n",
       "      <td>39518</td>\n",
       "      <td>6411</td>\n",
       "      <td>2548</td>\n",
       "      <td>5648</td>\n",
       "      <td>2047</td>\n",
       "      <td>False</td>\n",
       "    </tr>\n",
       "    <tr>\n",
       "      <th>3</th>\n",
       "      <td>1001</td>\n",
       "      <td>2008</td>\n",
       "      <td>176</td>\n",
       "      <td>45929</td>\n",
       "      <td>39518</td>\n",
       "      <td>6411</td>\n",
       "      <td>2548</td>\n",
       "      <td>5648</td>\n",
       "      <td>2047</td>\n",
       "      <td>2009</td>\n",
       "      <td>175</td>\n",
       "      <td>46822</td>\n",
       "      <td>40719</td>\n",
       "      <td>6103</td>\n",
       "      <td>2230</td>\n",
       "      <td>5778</td>\n",
       "      <td>2118</td>\n",
       "      <td>False</td>\n",
       "    </tr>\n",
       "    <tr>\n",
       "      <th>4</th>\n",
       "      <td>1001</td>\n",
       "      <td>2009</td>\n",
       "      <td>175</td>\n",
       "      <td>46822</td>\n",
       "      <td>40719</td>\n",
       "      <td>6103</td>\n",
       "      <td>2230</td>\n",
       "      <td>5778</td>\n",
       "      <td>2118</td>\n",
       "      <td>2010</td>\n",
       "      <td>173</td>\n",
       "      <td>45868</td>\n",
       "      <td>40099</td>\n",
       "      <td>5769</td>\n",
       "      <td>2225</td>\n",
       "      <td>4943</td>\n",
       "      <td>1925</td>\n",
       "      <td>False</td>\n",
       "    </tr>\n",
       "    <tr>\n",
       "      <th>5</th>\n",
       "      <td>1001</td>\n",
       "      <td>2010</td>\n",
       "      <td>173</td>\n",
       "      <td>45868</td>\n",
       "      <td>40099</td>\n",
       "      <td>5769</td>\n",
       "      <td>2225</td>\n",
       "      <td>4943</td>\n",
       "      <td>1925</td>\n",
       "      <td>2011</td>\n",
       "      <td>168</td>\n",
       "      <td>46890</td>\n",
       "      <td>40643</td>\n",
       "      <td>6247</td>\n",
       "      <td>2331</td>\n",
       "      <td>5559</td>\n",
       "      <td>2080</td>\n",
       "      <td>False</td>\n",
       "    </tr>\n",
       "    <tr>\n",
       "      <th>6</th>\n",
       "      <td>1001</td>\n",
       "      <td>2011</td>\n",
       "      <td>168</td>\n",
       "      <td>46890</td>\n",
       "      <td>40643</td>\n",
       "      <td>6247</td>\n",
       "      <td>2331</td>\n",
       "      <td>5559</td>\n",
       "      <td>2080</td>\n",
       "      <td>2012</td>\n",
       "      <td>163</td>\n",
       "      <td>47808</td>\n",
       "      <td>41757</td>\n",
       "      <td>6051</td>\n",
       "      <td>2682</td>\n",
       "      <td>6185</td>\n",
       "      <td>2652</td>\n",
       "      <td>False</td>\n",
       "    </tr>\n",
       "    <tr>\n",
       "      <th>7</th>\n",
       "      <td>1001</td>\n",
       "      <td>2012</td>\n",
       "      <td>163</td>\n",
       "      <td>47808</td>\n",
       "      <td>41757</td>\n",
       "      <td>6051</td>\n",
       "      <td>2682</td>\n",
       "      <td>6185</td>\n",
       "      <td>2652</td>\n",
       "      <td>2013</td>\n",
       "      <td>164</td>\n",
       "      <td>47654</td>\n",
       "      <td>41552</td>\n",
       "      <td>6102</td>\n",
       "      <td>2520</td>\n",
       "      <td>5695</td>\n",
       "      <td>2216</td>\n",
       "      <td>True</td>\n",
       "    </tr>\n",
       "    <tr>\n",
       "      <th>8</th>\n",
       "      <td>1001</td>\n",
       "      <td>2013</td>\n",
       "      <td>164</td>\n",
       "      <td>47654</td>\n",
       "      <td>41552</td>\n",
       "      <td>6102</td>\n",
       "      <td>2520</td>\n",
       "      <td>5695</td>\n",
       "      <td>2216</td>\n",
       "      <td>2014</td>\n",
       "      <td>165</td>\n",
       "      <td>47191</td>\n",
       "      <td>41198</td>\n",
       "      <td>5993</td>\n",
       "      <td>2148</td>\n",
       "      <td>5974</td>\n",
       "      <td>2137</td>\n",
       "      <td>True</td>\n",
       "    </tr>\n",
       "    <tr>\n",
       "      <th>9</th>\n",
       "      <td>1001</td>\n",
       "      <td>2014</td>\n",
       "      <td>165</td>\n",
       "      <td>47191</td>\n",
       "      <td>41198</td>\n",
       "      <td>5993</td>\n",
       "      <td>2148</td>\n",
       "      <td>5974</td>\n",
       "      <td>2137</td>\n",
       "      <td>2015</td>\n",
       "      <td>169</td>\n",
       "      <td>45971</td>\n",
       "      <td>42354</td>\n",
       "      <td>3617</td>\n",
       "      <td>1735</td>\n",
       "      <td>3329</td>\n",
       "      <td>1542</td>\n",
       "      <td>True</td>\n",
       "    </tr>\n",
       "    <tr>\n",
       "      <th>11</th>\n",
       "      <td>1003</td>\n",
       "      <td>2005</td>\n",
       "      <td>954</td>\n",
       "      <td>127140</td>\n",
       "      <td>112964</td>\n",
       "      <td>14176</td>\n",
       "      <td>3582</td>\n",
       "      <td>8874</td>\n",
       "      <td>2142</td>\n",
       "      <td>2006</td>\n",
       "      <td>983</td>\n",
       "      <td>126258</td>\n",
       "      <td>111825</td>\n",
       "      <td>14433</td>\n",
       "      <td>3642</td>\n",
       "      <td>9768</td>\n",
       "      <td>2430</td>\n",
       "      <td>True</td>\n",
       "    </tr>\n",
       "    <tr>\n",
       "      <th>12</th>\n",
       "      <td>1003</td>\n",
       "      <td>2006</td>\n",
       "      <td>983</td>\n",
       "      <td>126258</td>\n",
       "      <td>111825</td>\n",
       "      <td>14433</td>\n",
       "      <td>3642</td>\n",
       "      <td>9768</td>\n",
       "      <td>2430</td>\n",
       "      <td>2007</td>\n",
       "      <td>1026</td>\n",
       "      <td>127668</td>\n",
       "      <td>115030</td>\n",
       "      <td>12638</td>\n",
       "      <td>3246</td>\n",
       "      <td>9313</td>\n",
       "      <td>2403</td>\n",
       "      <td>True</td>\n",
       "    </tr>\n",
       "    <tr>\n",
       "      <th>13</th>\n",
       "      <td>1003</td>\n",
       "      <td>2007</td>\n",
       "      <td>1026</td>\n",
       "      <td>127668</td>\n",
       "      <td>115030</td>\n",
       "      <td>12638</td>\n",
       "      <td>3246</td>\n",
       "      <td>9313</td>\n",
       "      <td>2403</td>\n",
       "      <td>2008</td>\n",
       "      <td>990</td>\n",
       "      <td>136562</td>\n",
       "      <td>123743</td>\n",
       "      <td>12819</td>\n",
       "      <td>3329</td>\n",
       "      <td>10088</td>\n",
       "      <td>2696</td>\n",
       "      <td>False</td>\n",
       "    </tr>\n",
       "    <tr>\n",
       "      <th>14</th>\n",
       "      <td>1003</td>\n",
       "      <td>2008</td>\n",
       "      <td>990</td>\n",
       "      <td>136562</td>\n",
       "      <td>123743</td>\n",
       "      <td>12819</td>\n",
       "      <td>3329</td>\n",
       "      <td>10088</td>\n",
       "      <td>2696</td>\n",
       "      <td>2009</td>\n",
       "      <td>964</td>\n",
       "      <td>141502</td>\n",
       "      <td>128866</td>\n",
       "      <td>12636</td>\n",
       "      <td>3300</td>\n",
       "      <td>9850</td>\n",
       "      <td>2211</td>\n",
       "      <td>False</td>\n",
       "    </tr>\n",
       "    <tr>\n",
       "      <th>15</th>\n",
       "      <td>1003</td>\n",
       "      <td>2009</td>\n",
       "      <td>964</td>\n",
       "      <td>141502</td>\n",
       "      <td>128866</td>\n",
       "      <td>12636</td>\n",
       "      <td>3300</td>\n",
       "      <td>9850</td>\n",
       "      <td>2211</td>\n",
       "      <td>2010</td>\n",
       "      <td>946</td>\n",
       "      <td>143123</td>\n",
       "      <td>130133</td>\n",
       "      <td>12990</td>\n",
       "      <td>3588</td>\n",
       "      <td>9539</td>\n",
       "      <td>2067</td>\n",
       "      <td>False</td>\n",
       "    </tr>\n",
       "  </tbody>\n",
       "</table>\n",
       "</div>"
      ],
      "text/plain": [
       "    geo_id  year_y1  Retail trade_y1  population_y1  stayed_home_y1  \\\n",
       "0     1001     2005              176          42270           35901   \n",
       "1     1001     2006              180          43578           36850   \n",
       "2     1001     2007              176          44329           37767   \n",
       "3     1001     2008              176          45929           39518   \n",
       "4     1001     2009              175          46822           40719   \n",
       "5     1001     2010              173          45868           40099   \n",
       "6     1001     2011              168          46890           40643   \n",
       "7     1001     2012              163          47808           41757   \n",
       "8     1001     2013              164          47654           41552   \n",
       "9     1001     2014              165          47191           41198   \n",
       "11    1003     2005              954         127140          112964   \n",
       "12    1003     2006              983         126258          111825   \n",
       "13    1003     2007             1026         127668          115030   \n",
       "14    1003     2008              990         136562          123743   \n",
       "15    1003     2009              964         141502          128866   \n",
       "\n",
       "    total_immigrants_y1  in_state_immigrants_y1  total_emigrants_y1  \\\n",
       "0                  6369                    2185                5221   \n",
       "1                  6728                    2519                5647   \n",
       "2                  6562                    2394                5570   \n",
       "3                  6411                    2548                5648   \n",
       "4                  6103                    2230                5778   \n",
       "5                  5769                    2225                4943   \n",
       "6                  6247                    2331                5559   \n",
       "7                  6051                    2682                6185   \n",
       "8                  6102                    2520                5695   \n",
       "9                  5993                    2148                5974   \n",
       "11                14176                    3582                8874   \n",
       "12                14433                    3642                9768   \n",
       "13                12638                    3246                9313   \n",
       "14                12819                    3329               10088   \n",
       "15                12636                    3300                9850   \n",
       "\n",
       "    in_state_emigrants_y1  year_y2  Retail trade_y2  population_y2  \\\n",
       "0                    1883     2006              180          43578   \n",
       "1                    2102     2007              176          44329   \n",
       "2                    2127     2008              176          45929   \n",
       "3                    2047     2009              175          46822   \n",
       "4                    2118     2010              173          45868   \n",
       "5                    1925     2011              168          46890   \n",
       "6                    2080     2012              163          47808   \n",
       "7                    2652     2013              164          47654   \n",
       "8                    2216     2014              165          47191   \n",
       "9                    2137     2015              169          45971   \n",
       "11                   2142     2006              983         126258   \n",
       "12                   2430     2007             1026         127668   \n",
       "13                   2403     2008              990         136562   \n",
       "14                   2696     2009              964         141502   \n",
       "15                   2211     2010              946         143123   \n",
       "\n",
       "    stayed_home_y2  total_immigrants_y2  in_state_immigrants_y2  \\\n",
       "0            36850                 6728                    2519   \n",
       "1            37767                 6562                    2394   \n",
       "2            39518                 6411                    2548   \n",
       "3            40719                 6103                    2230   \n",
       "4            40099                 5769                    2225   \n",
       "5            40643                 6247                    2331   \n",
       "6            41757                 6051                    2682   \n",
       "7            41552                 6102                    2520   \n",
       "8            41198                 5993                    2148   \n",
       "9            42354                 3617                    1735   \n",
       "11          111825                14433                    3642   \n",
       "12          115030                12638                    3246   \n",
       "13          123743                12819                    3329   \n",
       "14          128866                12636                    3300   \n",
       "15          130133                12990                    3588   \n",
       "\n",
       "    total_emigrants_y2  in_state_emigrants_y2  growth  \n",
       "0                 5647                   2102    True  \n",
       "1                 5570                   2127   False  \n",
       "2                 5648                   2047   False  \n",
       "3                 5778                   2118   False  \n",
       "4                 4943                   1925   False  \n",
       "5                 5559                   2080   False  \n",
       "6                 6185                   2652   False  \n",
       "7                 5695                   2216    True  \n",
       "8                 5974                   2137    True  \n",
       "9                 3329                   1542    True  \n",
       "11                9768                   2430    True  \n",
       "12                9313                   2403    True  \n",
       "13               10088                   2696   False  \n",
       "14                9850                   2211   False  \n",
       "15                9539                   2067   False  "
      ]
     },
     "execution_count": 11,
     "metadata": {},
     "output_type": "execute_result"
    }
   ],
   "source": [
    "samples.head(15)"
   ]
  },
  {
   "cell_type": "code",
   "execution_count": 12,
   "metadata": {
    "collapsed": true
   },
   "outputs": [],
   "source": [
    "from sklearn.decomposition import PCA"
   ]
  },
  {
   "cell_type": "code",
   "execution_count": 13,
   "metadata": {},
   "outputs": [
    {
     "data": {
      "text/plain": [
       "18"
      ]
     },
     "execution_count": 13,
     "metadata": {},
     "output_type": "execute_result"
    }
   ],
   "source": [
    "len(samples.columns)"
   ]
  },
  {
   "cell_type": "code",
   "execution_count": 14,
   "metadata": {},
   "outputs": [
    {
     "data": {
      "text/plain": [
       "PCA(copy=True, iterated_power='auto', n_components=18, random_state=None,\n",
       "  svd_solver='auto', tol=0.0, whiten=False)"
      ]
     },
     "execution_count": 14,
     "metadata": {},
     "output_type": "execute_result"
    }
   ],
   "source": [
    "pca = PCA(n_components=18)\n",
    "pca.fit(samples)"
   ]
  },
  {
   "cell_type": "code",
   "execution_count": 15,
   "metadata": {},
   "outputs": [
    {
     "data": {
      "text/html": [
       "<div>\n",
       "<style>\n",
       "    .dataframe thead tr:only-child th {\n",
       "        text-align: right;\n",
       "    }\n",
       "\n",
       "    .dataframe thead th {\n",
       "        text-align: left;\n",
       "    }\n",
       "\n",
       "    .dataframe tbody tr th {\n",
       "        vertical-align: top;\n",
       "    }\n",
       "</style>\n",
       "<table border=\"1\" class=\"dataframe\">\n",
       "  <thead>\n",
       "    <tr style=\"text-align: right;\">\n",
       "      <th></th>\n",
       "      <th>Retail trade_y1</th>\n",
       "      <th>stayed_home_y1</th>\n",
       "      <th>total_immigrants_y1</th>\n",
       "      <th>in_state_immigrants_y1</th>\n",
       "      <th>total_emigrants_y1</th>\n",
       "      <th>in_state_emigrants_y1</th>\n",
       "      <th>stayed_home_y2</th>\n",
       "      <th>total_immigrants_y2</th>\n",
       "      <th>in_state_immigrants_y2</th>\n",
       "      <th>total_emigrants_y2</th>\n",
       "      <th>in_state_emigrants_y2</th>\n",
       "    </tr>\n",
       "  </thead>\n",
       "  <tbody>\n",
       "    <tr>\n",
       "      <th>0</th>\n",
       "      <td>176</td>\n",
       "      <td>35901</td>\n",
       "      <td>6369</td>\n",
       "      <td>2185</td>\n",
       "      <td>5221</td>\n",
       "      <td>1883</td>\n",
       "      <td>36850</td>\n",
       "      <td>6728</td>\n",
       "      <td>2519</td>\n",
       "      <td>5647</td>\n",
       "      <td>2102</td>\n",
       "    </tr>\n",
       "    <tr>\n",
       "      <th>1</th>\n",
       "      <td>180</td>\n",
       "      <td>36850</td>\n",
       "      <td>6728</td>\n",
       "      <td>2519</td>\n",
       "      <td>5647</td>\n",
       "      <td>2102</td>\n",
       "      <td>37767</td>\n",
       "      <td>6562</td>\n",
       "      <td>2394</td>\n",
       "      <td>5570</td>\n",
       "      <td>2127</td>\n",
       "    </tr>\n",
       "    <tr>\n",
       "      <th>2</th>\n",
       "      <td>176</td>\n",
       "      <td>37767</td>\n",
       "      <td>6562</td>\n",
       "      <td>2394</td>\n",
       "      <td>5570</td>\n",
       "      <td>2127</td>\n",
       "      <td>39518</td>\n",
       "      <td>6411</td>\n",
       "      <td>2548</td>\n",
       "      <td>5648</td>\n",
       "      <td>2047</td>\n",
       "    </tr>\n",
       "    <tr>\n",
       "      <th>3</th>\n",
       "      <td>176</td>\n",
       "      <td>39518</td>\n",
       "      <td>6411</td>\n",
       "      <td>2548</td>\n",
       "      <td>5648</td>\n",
       "      <td>2047</td>\n",
       "      <td>40719</td>\n",
       "      <td>6103</td>\n",
       "      <td>2230</td>\n",
       "      <td>5778</td>\n",
       "      <td>2118</td>\n",
       "    </tr>\n",
       "    <tr>\n",
       "      <th>4</th>\n",
       "      <td>175</td>\n",
       "      <td>40719</td>\n",
       "      <td>6103</td>\n",
       "      <td>2230</td>\n",
       "      <td>5778</td>\n",
       "      <td>2118</td>\n",
       "      <td>40099</td>\n",
       "      <td>5769</td>\n",
       "      <td>2225</td>\n",
       "      <td>4943</td>\n",
       "      <td>1925</td>\n",
       "    </tr>\n",
       "  </tbody>\n",
       "</table>\n",
       "</div>"
      ],
      "text/plain": [
       "   Retail trade_y1  stayed_home_y1  total_immigrants_y1  \\\n",
       "0              176           35901                 6369   \n",
       "1              180           36850                 6728   \n",
       "2              176           37767                 6562   \n",
       "3              176           39518                 6411   \n",
       "4              175           40719                 6103   \n",
       "\n",
       "   in_state_immigrants_y1  total_emigrants_y1  in_state_emigrants_y1  \\\n",
       "0                    2185                5221                   1883   \n",
       "1                    2519                5647                   2102   \n",
       "2                    2394                5570                   2127   \n",
       "3                    2548                5648                   2047   \n",
       "4                    2230                5778                   2118   \n",
       "\n",
       "   stayed_home_y2  total_immigrants_y2  in_state_immigrants_y2  \\\n",
       "0           36850                 6728                    2519   \n",
       "1           37767                 6562                    2394   \n",
       "2           39518                 6411                    2548   \n",
       "3           40719                 6103                    2230   \n",
       "4           40099                 5769                    2225   \n",
       "\n",
       "   total_emigrants_y2  in_state_emigrants_y2  \n",
       "0                5647                   2102  \n",
       "1                5570                   2127  \n",
       "2                5648                   2047  \n",
       "3                5778                   2118  \n",
       "4                4943                   1925  "
      ]
     },
     "execution_count": 15,
     "metadata": {},
     "output_type": "execute_result"
    }
   ],
   "source": [
    "samples2 = samples.drop([\"geo_id\",\"year_y1\", \"year_y2\", \"growth\", \"population_y1\", \"population_y2\", \"Retail trade_y2\"], axis=1)\n",
    "samples2.head()"
   ]
  },
  {
   "cell_type": "code",
   "execution_count": 16,
   "metadata": {},
   "outputs": [
    {
     "data": {
      "text/plain": [
       "(31420, 11)"
      ]
     },
     "execution_count": 16,
     "metadata": {},
     "output_type": "execute_result"
    }
   ],
   "source": [
    "samples2.shape"
   ]
  },
  {
   "cell_type": "code",
   "execution_count": 17,
   "metadata": {},
   "outputs": [
    {
     "data": {
      "text/plain": [
       "PCA(copy=True, iterated_power='auto', n_components=11, random_state=None,\n",
       "  svd_solver='auto', tol=0.0, whiten=False)"
      ]
     },
     "execution_count": 17,
     "metadata": {},
     "output_type": "execute_result"
    }
   ],
   "source": [
    "pca = PCA(n_components=11)\n",
    "pca.fit(samples2)"
   ]
  },
  {
   "cell_type": "code",
   "execution_count": 18,
   "metadata": {},
   "outputs": [
    {
     "data": {
      "text/plain": [
       "array([  9.98526275e-01,   1.11228002e-03,   1.62234518e-04,\n",
       "         1.12323293e-04,   4.45099475e-05,   2.32069519e-05,\n",
       "         9.35111522e-06,   7.90765526e-06,   9.63302166e-07,\n",
       "         6.29189594e-07,   3.18739198e-07])"
      ]
     },
     "execution_count": 18,
     "metadata": {},
     "output_type": "execute_result"
    }
   ],
   "source": [
    "pca.explained_variance_ratio_"
   ]
  },
  {
   "cell_type": "code",
   "execution_count": 19,
   "metadata": {
    "collapsed": true
   },
   "outputs": [],
   "source": [
    "from sklearn import preprocessing"
   ]
  },
  {
   "cell_type": "code",
   "execution_count": 20,
   "metadata": {
    "collapsed": true
   },
   "outputs": [],
   "source": [
    "samples3 = preprocessing.normalize(samples2, norm='l2')"
   ]
  },
  {
   "cell_type": "code",
   "execution_count": 21,
   "metadata": {},
   "outputs": [
    {
     "data": {
      "text/plain": [
       "(31420, 11)"
      ]
     },
     "execution_count": 21,
     "metadata": {},
     "output_type": "execute_result"
    }
   ],
   "source": [
    "samples3.shape"
   ]
  },
  {
   "cell_type": "code",
   "execution_count": 22,
   "metadata": {},
   "outputs": [
    {
     "data": {
      "text/plain": [
       "PCA(copy=True, iterated_power='auto', n_components=11, random_state=None,\n",
       "  svd_solver='auto', tol=0.0, whiten=False)"
      ]
     },
     "execution_count": 22,
     "metadata": {},
     "output_type": "execute_result"
    }
   ],
   "source": [
    "pca = PCA(n_components=11)\n",
    "pca.fit(samples3)"
   ]
  },
  {
   "cell_type": "code",
   "execution_count": 23,
   "metadata": {},
   "outputs": [
    {
     "data": {
      "text/plain": [
       "array([ 0.36107474,  0.31056064,  0.15857888,  0.05201319,  0.04362037,\n",
       "        0.02688549,  0.0222333 ,  0.01342051,  0.00512984,  0.0048416 ,\n",
       "        0.00164144])"
      ]
     },
     "execution_count": 23,
     "metadata": {},
     "output_type": "execute_result"
    }
   ],
   "source": [
    "#pca on normalized data\n",
    "pca.explained_variance_ratio_"
   ]
  },
  {
   "cell_type": "code",
   "execution_count": null,
   "metadata": {
    "collapsed": true
   },
   "outputs": [],
   "source": []
  },
  {
   "cell_type": "code",
   "execution_count": 24,
   "metadata": {},
   "outputs": [
    {
     "data": {
      "text/plain": [
       "0.0395594535"
      ]
     },
     "execution_count": 24,
     "metadata": {},
     "output_type": "execute_result"
    }
   ],
   "source": [
    "3.95594535e-02"
   ]
  },
  {
   "cell_type": "code",
   "execution_count": 25,
   "metadata": {},
   "outputs": [
    {
     "data": {
      "text/plain": [
       "0.0116036119"
      ]
     },
     "execution_count": 25,
     "metadata": {},
     "output_type": "execute_result"
    }
   ],
   "source": [
    "1.16036119e-02"
   ]
  },
  {
   "cell_type": "code",
   "execution_count": 30,
   "metadata": {
    "scrolled": true
   },
   "outputs": [],
   "source": [
    "samples3 = samples2.drop([\"stayed_home_y2\", \"total_immigrants_y2\", \"in_state_immigrants_y2\", \"total_emigrants_y2\", \"in_state_emigrants_y2\"], axis=1)"
   ]
  },
  {
   "cell_type": "code",
   "execution_count": 31,
   "metadata": {},
   "outputs": [
    {
     "data": {
      "text/plain": [
       "(31420, 6)"
      ]
     },
     "execution_count": 31,
     "metadata": {},
     "output_type": "execute_result"
    }
   ],
   "source": [
    "samples3.shape"
   ]
  },
  {
   "cell_type": "code",
   "execution_count": 33,
   "metadata": {},
   "outputs": [
    {
     "data": {
      "text/plain": [
       "PCA(copy=True, iterated_power='auto', n_components=6, random_state=None,\n",
       "  svd_solver='auto', tol=0.0, whiten=False)"
      ]
     },
     "execution_count": 33,
     "metadata": {},
     "output_type": "execute_result"
    }
   ],
   "source": [
    "pca2 = PCA(n_components=6)\n",
    "pca2.fit(samples3)"
   ]
  },
  {
   "cell_type": "code",
   "execution_count": 34,
   "metadata": {},
   "outputs": [
    {
     "data": {
      "text/plain": [
       "array([  9.98668694e-01,   1.13916899e-03,   1.17847341e-04,\n",
       "         6.36087902e-05,   1.00077921e-05,   6.73110232e-07])"
      ]
     },
     "execution_count": 34,
     "metadata": {},
     "output_type": "execute_result"
    }
   ],
   "source": [
    "pca2.explained_variance_ratio_"
   ]
  },
  {
   "cell_type": "code",
   "execution_count": 35,
   "metadata": {
    "collapsed": true
   },
   "outputs": [],
   "source": [
    "samples3 = preprocessing.normalize(samples3, norm='l2')"
   ]
  },
  {
   "cell_type": "code",
   "execution_count": 36,
   "metadata": {},
   "outputs": [
    {
     "data": {
      "text/plain": [
       "(31420, 6)"
      ]
     },
     "execution_count": 36,
     "metadata": {},
     "output_type": "execute_result"
    }
   ],
   "source": [
    "samples3.shape"
   ]
  },
  {
   "cell_type": "code",
   "execution_count": 42,
   "metadata": {},
   "outputs": [
    {
     "data": {
      "text/plain": [
       "PCA(copy=True, iterated_power='auto', n_components=6, random_state=None,\n",
       "  svd_solver='auto', tol=0.0, whiten=False)"
      ]
     },
     "execution_count": 42,
     "metadata": {},
     "output_type": "execute_result"
    }
   ],
   "source": [
    "pca4 = PCA(n_components=6)\n",
    "pca4.fit(samples3)"
   ]
  },
  {
   "cell_type": "code",
   "execution_count": 43,
   "metadata": {},
   "outputs": [
    {
     "data": {
      "text/plain": [
       "array([ 0.5226109 ,  0.33703312,  0.05086285,  0.04712254,  0.03506683,\n",
       "        0.00730375])"
      ]
     },
     "execution_count": 43,
     "metadata": {},
     "output_type": "execute_result"
    }
   ],
   "source": [
    "pca4.explained_variance_ratio_"
   ]
  },
  {
   "cell_type": "code",
   "execution_count": null,
   "metadata": {
    "collapsed": true
   },
   "outputs": [],
   "source": []
  }
 ],
 "metadata": {
  "kernelspec": {
   "display_name": "Python 3",
   "language": "python",
   "name": "python3"
  },
  "language_info": {
   "codemirror_mode": {
    "name": "ipython",
    "version": 3
   },
   "file_extension": ".py",
   "mimetype": "text/x-python",
   "name": "python",
   "nbconvert_exporter": "python",
   "pygments_lexer": "ipython3",
   "version": "3.6.3"
  }
 },
 "nbformat": 4,
 "nbformat_minor": 2
}
