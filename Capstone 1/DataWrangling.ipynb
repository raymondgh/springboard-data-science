{
 "cells": [
  {
   "cell_type": "code",
   "execution_count": 1,
   "metadata": {
    "collapsed": true
   },
   "outputs": [],
   "source": [
    "import numpy as np\n",
    "import pandas as pd\n",
    "from glob import glob"
   ]
  },
  {
   "cell_type": "code",
   "execution_count": 2,
   "metadata": {
    "collapsed": true
   },
   "outputs": [],
   "source": [
    "df_key = pd.read_csv(\"data/raw/key.csv\", encoding='latin-1')"
   ]
  },
  {
   "cell_type": "code",
   "execution_count": 4,
   "metadata": {
    "collapsed": true
   },
   "outputs": [],
   "source": [
    "filenames = glob(\"data/raw/BP_*_00A1.csv\")"
   ]
  },
  {
   "cell_type": "code",
   "execution_count": 5,
   "metadata": {
    "collapsed": true
   },
   "outputs": [],
   "source": [
    "dataframes = [pd.read_csv(f, encoding='latin-1') for f in filenames]"
   ]
  },
  {
   "cell_type": "code",
   "execution_count": 175,
   "metadata": {
    "scrolled": false
   },
   "outputs": [],
   "source": [
    "for dataframe in dataframes:\n",
    "    newcols = []\n",
    "    for column in dataframe.columns:\n",
    "        column = column.replace(\".\",\"\").replace(\"-\",\"\").replace(\"_\",\"\")\n",
    "        newcols.append(column)\n",
    "    dataframe.columns = newcols   \n",
    "  #  print(dataframe.columns)\n",
    "    "
   ]
  },
  {
   "cell_type": "code",
   "execution_count": 154,
   "metadata": {
    "collapsed": true
   },
   "outputs": [],
   "source": [
    "dataframes2 =[]\n",
    "for dataframe in dataframes:\n",
    "    dataframe = dataframe[[\"GEOid2\",\n",
    "                           \"GEOdisplaylabel\",\n",
    "                           \"GEOfipsstatecode\",\n",
    "                           \"GEOfipscountycode\",\n",
    "                           \"NAICSdisplaylabel\",\n",
    "                           \"ESTAB\",\n",
    "                           \"EMP\",\n",
    "                           \"YEARid\"]]\n",
    "    dataframe.columns = [\"geo_id\",\n",
    "                       \"county_name\",\n",
    "                       \"state_fips\",\n",
    "                       \"county_fips\",\n",
    "                       \"naics_industry\",\n",
    "                       \"establishments\",\n",
    "                       \"employees\",\n",
    "                       \"year\"]\n",
    "    dataframe = dataframe.set_index([\"geo_id\"])\n",
    "    dataframe = dataframe[dataframe.county_fips != 999]\n",
    "    dataframe = dataframe[dataframe.naics_industry != \"Total for all sectors\"]\n",
    "    dataframe.naics_industry = dataframe.naics_industry.str.replace(\"Mining\",\"Mining, quarrying, and oil and gas extraction\")\n",
    "\n",
    "    dataframes2.append(dataframe)"
   ]
  },
  {
   "cell_type": "code",
   "execution_count": 155,
   "metadata": {
    "collapsed": true,
    "scrolled": true
   },
   "outputs": [],
   "source": [
    "stacked = pd.concat(dataframes2)"
   ]
  },
  {
   "cell_type": "code",
   "execution_count": 176,
   "metadata": {},
   "outputs": [
    {
     "data": {
      "text/html": [
       "<div>\n",
       "<style>\n",
       "    .dataframe thead tr:only-child th {\n",
       "        text-align: right;\n",
       "    }\n",
       "\n",
       "    .dataframe thead th {\n",
       "        text-align: left;\n",
       "    }\n",
       "\n",
       "    .dataframe tbody tr th {\n",
       "        vertical-align: top;\n",
       "    }\n",
       "</style>\n",
       "<table border=\"1\" class=\"dataframe\">\n",
       "  <thead>\n",
       "    <tr style=\"text-align: right;\">\n",
       "      <th></th>\n",
       "      <th>state_fips</th>\n",
       "      <th>county_fips</th>\n",
       "      <th>establishments</th>\n",
       "      <th>employees</th>\n",
       "    </tr>\n",
       "    <tr>\n",
       "      <th>year</th>\n",
       "      <th></th>\n",
       "      <th></th>\n",
       "      <th></th>\n",
       "      <th></th>\n",
       "    </tr>\n",
       "  </thead>\n",
       "  <tbody>\n",
       "    <tr>\n",
       "      <th>2005</th>\n",
       "      <td>90</td>\n",
       "      <td>45</td>\n",
       "      <td>61</td>\n",
       "      <td>693.0</td>\n",
       "    </tr>\n",
       "    <tr>\n",
       "      <th>2006</th>\n",
       "      <td>90</td>\n",
       "      <td>45</td>\n",
       "      <td>58</td>\n",
       "      <td>709.0</td>\n",
       "    </tr>\n",
       "    <tr>\n",
       "      <th>2007</th>\n",
       "      <td>72</td>\n",
       "      <td>36</td>\n",
       "      <td>44</td>\n",
       "      <td>41.0</td>\n",
       "    </tr>\n",
       "    <tr>\n",
       "      <th>2008</th>\n",
       "      <td>78</td>\n",
       "      <td>39</td>\n",
       "      <td>45</td>\n",
       "      <td>55.0</td>\n",
       "    </tr>\n",
       "    <tr>\n",
       "      <th>2009</th>\n",
       "      <td>90</td>\n",
       "      <td>45</td>\n",
       "      <td>43</td>\n",
       "      <td>32.0</td>\n",
       "    </tr>\n",
       "    <tr>\n",
       "      <th>2010</th>\n",
       "      <td>90</td>\n",
       "      <td>45</td>\n",
       "      <td>42</td>\n",
       "      <td>34.0</td>\n",
       "    </tr>\n",
       "    <tr>\n",
       "      <th>2011</th>\n",
       "      <td>84</td>\n",
       "      <td>42</td>\n",
       "      <td>46</td>\n",
       "      <td>627.0</td>\n",
       "    </tr>\n",
       "    <tr>\n",
       "      <th>2012</th>\n",
       "      <td>84</td>\n",
       "      <td>42</td>\n",
       "      <td>43</td>\n",
       "      <td>25.0</td>\n",
       "    </tr>\n",
       "    <tr>\n",
       "      <th>2013</th>\n",
       "      <td>84</td>\n",
       "      <td>42</td>\n",
       "      <td>36</td>\n",
       "      <td>72.0</td>\n",
       "    </tr>\n",
       "    <tr>\n",
       "      <th>2014</th>\n",
       "      <td>102</td>\n",
       "      <td>51</td>\n",
       "      <td>43</td>\n",
       "      <td>96.0</td>\n",
       "    </tr>\n",
       "    <tr>\n",
       "      <th>2015</th>\n",
       "      <td>96</td>\n",
       "      <td>48</td>\n",
       "      <td>37</td>\n",
       "      <td>74.0</td>\n",
       "    </tr>\n",
       "  </tbody>\n",
       "</table>\n",
       "</div>"
      ],
      "text/plain": [
       "      state_fips  county_fips  establishments  employees\n",
       "year                                                    \n",
       "2005          90           45              61      693.0\n",
       "2006          90           45              58      709.0\n",
       "2007          72           36              44       41.0\n",
       "2008          78           39              45       55.0\n",
       "2009          90           45              43       32.0\n",
       "2010          90           45              42       34.0\n",
       "2011          84           42              46      627.0\n",
       "2012          84           42              43       25.0\n",
       "2013          84           42              36       72.0\n",
       "2014         102           51              43       96.0\n",
       "2015          96           48              37       74.0"
      ]
     },
     "execution_count": 176,
     "metadata": {},
     "output_type": "execute_result"
    }
   ],
   "source": [
    "stacked.loc[6003].groupby(\"year\").sum()"
   ]
  },
  {
   "cell_type": "code",
   "execution_count": 174,
   "metadata": {},
   "outputs": [
    {
     "data": {
      "text/html": [
       "<div>\n",
       "<style>\n",
       "    .dataframe thead tr:only-child th {\n",
       "        text-align: right;\n",
       "    }\n",
       "\n",
       "    .dataframe thead th {\n",
       "        text-align: left;\n",
       "    }\n",
       "\n",
       "    .dataframe tbody tr th {\n",
       "        vertical-align: top;\n",
       "    }\n",
       "</style>\n",
       "<table border=\"1\" class=\"dataframe\">\n",
       "  <thead>\n",
       "    <tr style=\"text-align: right;\">\n",
       "      <th></th>\n",
       "      <th>county_name</th>\n",
       "      <th>state_fips</th>\n",
       "      <th>county_fips</th>\n",
       "      <th>naics_industry</th>\n",
       "      <th>establishments</th>\n",
       "      <th>employees</th>\n",
       "      <th>year</th>\n",
       "    </tr>\n",
       "    <tr>\n",
       "      <th>geo_id</th>\n",
       "      <th></th>\n",
       "      <th></th>\n",
       "      <th></th>\n",
       "      <th></th>\n",
       "      <th></th>\n",
       "      <th></th>\n",
       "      <th></th>\n",
       "    </tr>\n",
       "  </thead>\n",
       "  <tbody>\n",
       "    <tr>\n",
       "      <th>56045</th>\n",
       "      <td>Weston County, Wyoming</td>\n",
       "      <td>56</td>\n",
       "      <td>45</td>\n",
       "      <td>Health care and social assistance</td>\n",
       "      <td>22</td>\n",
       "      <td>364.0</td>\n",
       "      <td>2015</td>\n",
       "    </tr>\n",
       "    <tr>\n",
       "      <th>56045</th>\n",
       "      <td>Weston County, Wyoming</td>\n",
       "      <td>56</td>\n",
       "      <td>45</td>\n",
       "      <td>Arts, entertainment, and recreation</td>\n",
       "      <td>2</td>\n",
       "      <td>NaN</td>\n",
       "      <td>2015</td>\n",
       "    </tr>\n",
       "    <tr>\n",
       "      <th>56045</th>\n",
       "      <td>Weston County, Wyoming</td>\n",
       "      <td>56</td>\n",
       "      <td>45</td>\n",
       "      <td>Accommodation and food services</td>\n",
       "      <td>25</td>\n",
       "      <td>175.0</td>\n",
       "      <td>2015</td>\n",
       "    </tr>\n",
       "    <tr>\n",
       "      <th>56045</th>\n",
       "      <td>Weston County, Wyoming</td>\n",
       "      <td>56</td>\n",
       "      <td>45</td>\n",
       "      <td>Other services (except public administration)</td>\n",
       "      <td>18</td>\n",
       "      <td>66.0</td>\n",
       "      <td>2015</td>\n",
       "    </tr>\n",
       "    <tr>\n",
       "      <th>56045</th>\n",
       "      <td>Weston County, Wyoming</td>\n",
       "      <td>56</td>\n",
       "      <td>45</td>\n",
       "      <td>Industries not classified</td>\n",
       "      <td>1</td>\n",
       "      <td>NaN</td>\n",
       "      <td>2015</td>\n",
       "    </tr>\n",
       "  </tbody>\n",
       "</table>\n",
       "</div>"
      ],
      "text/plain": [
       "                   county_name  state_fips  county_fips  \\\n",
       "geo_id                                                    \n",
       "56045   Weston County, Wyoming          56           45   \n",
       "56045   Weston County, Wyoming          56           45   \n",
       "56045   Weston County, Wyoming          56           45   \n",
       "56045   Weston County, Wyoming          56           45   \n",
       "56045   Weston County, Wyoming          56           45   \n",
       "\n",
       "                                       naics_industry  establishments  \\\n",
       "geo_id                                                                  \n",
       "56045               Health care and social assistance              22   \n",
       "56045             Arts, entertainment, and recreation               2   \n",
       "56045                 Accommodation and food services              25   \n",
       "56045   Other services (except public administration)              18   \n",
       "56045                       Industries not classified               1   \n",
       "\n",
       "        employees  year  \n",
       "geo_id                   \n",
       "56045       364.0  2015  \n",
       "56045         NaN  2015  \n",
       "56045       175.0  2015  \n",
       "56045        66.0  2015  \n",
       "56045         NaN  2015  "
      ]
     },
     "execution_count": 174,
     "metadata": {},
     "output_type": "execute_result"
    }
   ],
   "source": [
    "stacked.tail()"
   ]
  },
  {
   "cell_type": "code",
   "execution_count": null,
   "metadata": {
    "collapsed": true
   },
   "outputs": [],
   "source": []
  }
 ],
 "metadata": {
  "kernelspec": {
   "display_name": "Python 3",
   "language": "python",
   "name": "python3"
  },
  "language_info": {
   "codemirror_mode": {
    "name": "ipython",
    "version": 3
   },
   "file_extension": ".py",
   "mimetype": "text/x-python",
   "name": "python",
   "nbconvert_exporter": "python",
   "pygments_lexer": "ipython3",
   "version": "3.6.3"
  }
 },
 "nbformat": 4,
 "nbformat_minor": 2
}
